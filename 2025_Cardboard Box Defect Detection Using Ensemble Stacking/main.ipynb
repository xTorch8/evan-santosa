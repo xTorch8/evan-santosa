{
 "cells": [
  {
   "cell_type": "markdown",
   "metadata": {},
   "source": [
    "# Cardboard Box Defect Detection Using Ensemble Stacking"
   ]
  },
  {
   "cell_type": "code",
   "execution_count": 29,
   "metadata": {},
   "outputs": [],
   "source": [
    "import numpy as np\n",
    "import pandas as pd\n",
    "import matplotlib.pyplot as plt\n",
    "import cv2\n",
    "from PIL import Image\n",
    "from skimage import io, color, feature, filters\n",
    "from skimage.feature import graycomatrix, graycoprops\n",
    "from skimage import data\n",
    "from sklearn.metrics import classification_report, confusion_matrix\n",
    "from sklearn.model_selection import KFold\n",
    "import tensorflow as tf\n",
    "import tensorflow_addons as tfa\n",
    "import os"
   ]
  },
  {
   "cell_type": "code",
   "execution_count": 2,
   "metadata": {},
   "outputs": [
    {
     "name": "stdout",
     "output_type": "stream",
     "text": [
      "WARNING:tensorflow:From C:\\Users\\PC\\AppData\\Local\\Temp\\ipykernel_3184\\2773141869.py:1: is_gpu_available (from tensorflow.python.framework.test_util) is deprecated and will be removed in a future version.\n",
      "Instructions for updating:\n",
      "Use `tf.config.list_physical_devices('GPU')` instead.\n",
      "True\n"
     ]
    }
   ],
   "source": [
    "print(tf.test.is_gpu_available())"
   ]
  },
  {
   "cell_type": "code",
   "execution_count": 3,
   "metadata": {},
   "outputs": [],
   "source": [
    "os.chdir(\"../\")"
   ]
  },
  {
   "cell_type": "markdown",
   "metadata": {},
   "source": [
    "### A. Data Preparation"
   ]
  },
  {
   "cell_type": "code",
   "execution_count": 4,
   "metadata": {},
   "outputs": [],
   "source": [
    "CLASSES = {\n",
    "    \"carton box\": \"0\",\n",
    "    \"opened carton box\": \"1\",\n",
    "    \"wet carton box\": \"2\",\n",
    "    \"cracked carton box\": \"3\"\n",
    "}"
   ]
  },
  {
   "cell_type": "code",
   "execution_count": 5,
   "metadata": {},
   "outputs": [],
   "source": [
    "def assign_label(row, CLASSES):\n",
    "    for class_name, label in CLASSES.items():\n",
    "        if row[class_name]:\n",
    "            return label \n",
    "        \n",
    "    return None"
   ]
  },
  {
   "cell_type": "code",
   "execution_count": 6,
   "metadata": {},
   "outputs": [],
   "source": [
    "def load_dataset(split, BASE_DIR = \"data\", FILE_NAME = \"_classes.csv\", CLASSES = CLASSES):\n",
    "    '''\n",
    "    Load the dataset from the directory, remove multi-class, and return a DataFrame with filenames and labels.\n",
    "    '''\n",
    "    csv_path = os.path.join(BASE_DIR, split, FILE_NAME)\n",
    "\n",
    "    df = pd.read_csv(csv_path)\n",
    "\n",
    "    df[\"is_multiple_class\"] = (df[\"carton box\"] + df[\"cracked carton box\"] + df[\"opened carton box\"] + df[\"wet carton box\"]) > 1\n",
    "    \n",
    "    df = df[~df[\"is_multiple_class\"]]\n",
    "\n",
    "    df[\"filename\"] = df[\"filename\"].apply(lambda x: os.path.join(BASE_DIR, split, x))\n",
    "    df[\"label\"] = df.apply(assign_label, axis = 1, args = (CLASSES, )) \n",
    "\n",
    "    return df[[\"filename\", \"label\"]]"
   ]
  },
  {
   "cell_type": "code",
   "execution_count": 7,
   "metadata": {},
   "outputs": [],
   "source": [
    "train_df = load_dataset(\"train\")\n",
    "valid_df = load_dataset(\"valid\")\n",
    "test_df = load_dataset(\"test\")"
   ]
  },
  {
   "cell_type": "code",
   "execution_count": 8,
   "metadata": {},
   "outputs": [
    {
     "data": {
      "text/html": [
       "<div>\n",
       "<style scoped>\n",
       "    .dataframe tbody tr th:only-of-type {\n",
       "        vertical-align: middle;\n",
       "    }\n",
       "\n",
       "    .dataframe tbody tr th {\n",
       "        vertical-align: top;\n",
       "    }\n",
       "\n",
       "    .dataframe thead th {\n",
       "        text-align: right;\n",
       "    }\n",
       "</style>\n",
       "<table border=\"1\" class=\"dataframe\">\n",
       "  <thead>\n",
       "    <tr style=\"text-align: right;\">\n",
       "      <th></th>\n",
       "      <th>label</th>\n",
       "      <th>count</th>\n",
       "    </tr>\n",
       "  </thead>\n",
       "  <tbody>\n",
       "    <tr>\n",
       "      <th>0</th>\n",
       "      <td>carton box</td>\n",
       "      <td>1254</td>\n",
       "    </tr>\n",
       "    <tr>\n",
       "      <th>1</th>\n",
       "      <td>cracked carton box</td>\n",
       "      <td>984</td>\n",
       "    </tr>\n",
       "    <tr>\n",
       "      <th>2</th>\n",
       "      <td>opened carton box</td>\n",
       "      <td>312</td>\n",
       "    </tr>\n",
       "    <tr>\n",
       "      <th>3</th>\n",
       "      <td>wet carton box</td>\n",
       "      <td>270</td>\n",
       "    </tr>\n",
       "  </tbody>\n",
       "</table>\n",
       "</div>"
      ],
      "text/plain": [
       "                label  count\n",
       "0          carton box   1254\n",
       "1  cracked carton box    984\n",
       "2   opened carton box    312\n",
       "3      wet carton box    270"
      ]
     },
     "execution_count": 8,
     "metadata": {},
     "output_type": "execute_result"
    }
   ],
   "source": [
    "train_category_count = train_df[\"label\"].value_counts().reset_index()\n",
    "train_category_count.columns = [\"label\", \"count\"]\n",
    "train_category_count[\"label\"] = train_category_count[\"label\"].map({v: k for k, v in CLASSES.items()})\n",
    "train_category_count.sort_values(by = \"count\", ascending = False, inplace = True)\n",
    "train_category_count"
   ]
  },
  {
   "cell_type": "code",
   "execution_count": 9,
   "metadata": {},
   "outputs": [
    {
     "data": {
      "text/html": [
       "<div>\n",
       "<style scoped>\n",
       "    .dataframe tbody tr th:only-of-type {\n",
       "        vertical-align: middle;\n",
       "    }\n",
       "\n",
       "    .dataframe tbody tr th {\n",
       "        vertical-align: top;\n",
       "    }\n",
       "\n",
       "    .dataframe thead th {\n",
       "        text-align: right;\n",
       "    }\n",
       "</style>\n",
       "<table border=\"1\" class=\"dataframe\">\n",
       "  <thead>\n",
       "    <tr style=\"text-align: right;\">\n",
       "      <th></th>\n",
       "      <th>label</th>\n",
       "      <th>count</th>\n",
       "    </tr>\n",
       "  </thead>\n",
       "  <tbody>\n",
       "    <tr>\n",
       "      <th>0</th>\n",
       "      <td>carton box</td>\n",
       "      <td>113</td>\n",
       "    </tr>\n",
       "    <tr>\n",
       "      <th>1</th>\n",
       "      <td>cracked carton box</td>\n",
       "      <td>98</td>\n",
       "    </tr>\n",
       "    <tr>\n",
       "      <th>2</th>\n",
       "      <td>opened carton box</td>\n",
       "      <td>32</td>\n",
       "    </tr>\n",
       "    <tr>\n",
       "      <th>3</th>\n",
       "      <td>wet carton box</td>\n",
       "      <td>22</td>\n",
       "    </tr>\n",
       "  </tbody>\n",
       "</table>\n",
       "</div>"
      ],
      "text/plain": [
       "                label  count\n",
       "0          carton box    113\n",
       "1  cracked carton box     98\n",
       "2   opened carton box     32\n",
       "3      wet carton box     22"
      ]
     },
     "execution_count": 9,
     "metadata": {},
     "output_type": "execute_result"
    }
   ],
   "source": [
    "valid_category_count = valid_df[\"label\"].value_counts().reset_index()\n",
    "valid_category_count.columns = [\"label\", \"count\"]\n",
    "valid_category_count[\"label\"] = valid_category_count[\"label\"].map({v: k for k, v in CLASSES.items()})\n",
    "valid_category_count.sort_values(by = \"count\", ascending = False, inplace = True)\n",
    "valid_category_count"
   ]
  },
  {
   "cell_type": "code",
   "execution_count": 10,
   "metadata": {},
   "outputs": [
    {
     "data": {
      "text/html": [
       "<div>\n",
       "<style scoped>\n",
       "    .dataframe tbody tr th:only-of-type {\n",
       "        vertical-align: middle;\n",
       "    }\n",
       "\n",
       "    .dataframe tbody tr th {\n",
       "        vertical-align: top;\n",
       "    }\n",
       "\n",
       "    .dataframe thead th {\n",
       "        text-align: right;\n",
       "    }\n",
       "</style>\n",
       "<table border=\"1\" class=\"dataframe\">\n",
       "  <thead>\n",
       "    <tr style=\"text-align: right;\">\n",
       "      <th></th>\n",
       "      <th>label</th>\n",
       "      <th>count</th>\n",
       "    </tr>\n",
       "  </thead>\n",
       "  <tbody>\n",
       "    <tr>\n",
       "      <th>0</th>\n",
       "      <td>carton box</td>\n",
       "      <td>67</td>\n",
       "    </tr>\n",
       "    <tr>\n",
       "      <th>1</th>\n",
       "      <td>cracked carton box</td>\n",
       "      <td>55</td>\n",
       "    </tr>\n",
       "    <tr>\n",
       "      <th>2</th>\n",
       "      <td>wet carton box</td>\n",
       "      <td>6</td>\n",
       "    </tr>\n",
       "    <tr>\n",
       "      <th>3</th>\n",
       "      <td>opened carton box</td>\n",
       "      <td>4</td>\n",
       "    </tr>\n",
       "  </tbody>\n",
       "</table>\n",
       "</div>"
      ],
      "text/plain": [
       "                label  count\n",
       "0          carton box     67\n",
       "1  cracked carton box     55\n",
       "2      wet carton box      6\n",
       "3   opened carton box      4"
      ]
     },
     "execution_count": 10,
     "metadata": {},
     "output_type": "execute_result"
    }
   ],
   "source": [
    "test_category_count = test_df[\"label\"].value_counts().reset_index()\n",
    "test_category_count.columns = [\"label\", \"count\"]\n",
    "test_category_count[\"label\"] = test_category_count[\"label\"].map({v: k for k, v in CLASSES.items()})\n",
    "test_category_count.sort_values(by = \"count\", ascending = False, inplace = True)\n",
    "test_category_count"
   ]
  },
  {
   "cell_type": "markdown",
   "metadata": {},
   "source": [
    "### B. Data Preprocessing"
   ]
  },
  {
   "cell_type": "markdown",
   "metadata": {},
   "source": [
    "##### 1. Combining Validation and Testing Dataset"
   ]
  },
  {
   "cell_type": "markdown",
   "metadata": {},
   "source": [
    "Since testing dataset have very low amount of wet carton box and opened carton box class, the validation and testing dataset will be combined first to increase accuracy stability. "
   ]
  },
  {
   "cell_type": "code",
   "execution_count": 11,
   "metadata": {},
   "outputs": [],
   "source": [
    "test_df = pd.concat([valid_df, test_df])"
   ]
  },
  {
   "cell_type": "code",
   "execution_count": 12,
   "metadata": {},
   "outputs": [
    {
     "data": {
      "text/html": [
       "<div>\n",
       "<style scoped>\n",
       "    .dataframe tbody tr th:only-of-type {\n",
       "        vertical-align: middle;\n",
       "    }\n",
       "\n",
       "    .dataframe tbody tr th {\n",
       "        vertical-align: top;\n",
       "    }\n",
       "\n",
       "    .dataframe thead th {\n",
       "        text-align: right;\n",
       "    }\n",
       "</style>\n",
       "<table border=\"1\" class=\"dataframe\">\n",
       "  <thead>\n",
       "    <tr style=\"text-align: right;\">\n",
       "      <th></th>\n",
       "      <th>label</th>\n",
       "      <th>count</th>\n",
       "    </tr>\n",
       "  </thead>\n",
       "  <tbody>\n",
       "    <tr>\n",
       "      <th>0</th>\n",
       "      <td>carton box</td>\n",
       "      <td>180</td>\n",
       "    </tr>\n",
       "    <tr>\n",
       "      <th>1</th>\n",
       "      <td>cracked carton box</td>\n",
       "      <td>153</td>\n",
       "    </tr>\n",
       "    <tr>\n",
       "      <th>2</th>\n",
       "      <td>opened carton box</td>\n",
       "      <td>36</td>\n",
       "    </tr>\n",
       "    <tr>\n",
       "      <th>3</th>\n",
       "      <td>wet carton box</td>\n",
       "      <td>28</td>\n",
       "    </tr>\n",
       "  </tbody>\n",
       "</table>\n",
       "</div>"
      ],
      "text/plain": [
       "                label  count\n",
       "0          carton box    180\n",
       "1  cracked carton box    153\n",
       "2   opened carton box     36\n",
       "3      wet carton box     28"
      ]
     },
     "execution_count": 12,
     "metadata": {},
     "output_type": "execute_result"
    }
   ],
   "source": [
    "test_category_count = test_df[\"label\"].value_counts().reset_index()\n",
    "test_category_count.columns = [\"label\", \"count\"]\n",
    "test_category_count[\"label\"] = test_category_count[\"label\"].map({v: k for k, v in CLASSES.items()})\n",
    "test_category_count.sort_values(by = \"count\", ascending = False, inplace = True)\n",
    "test_category_count"
   ]
  },
  {
   "cell_type": "markdown",
   "metadata": {},
   "source": [
    "##### 2. Image Augmentation"
   ]
  },
  {
   "cell_type": "code",
   "execution_count": 13,
   "metadata": {},
   "outputs": [],
   "source": [
    "train_datagen = tf.keras.preprocessing.image.ImageDataGenerator(\n",
    "    rescale = 1./255,\n",
    "    rotation_range = 30,\n",
    "    width_shift_range = 0.2,\n",
    "    height_shift_range = 0.2,\n",
    "    horizontal_flip = True,\n",
    "    vertical_flip = True,\n",
    "    brightness_range = [0.4, 1.5],\n",
    "    zoom_range = 0.3,\n",
    "    shear_range = 0.2,\n",
    "    fill_mode = \"nearest\",\n",
    "    validation_split = 0.2\n",
    ")"
   ]
  },
  {
   "cell_type": "code",
   "execution_count": 14,
   "metadata": {},
   "outputs": [],
   "source": [
    "test_datagen = tf.keras.preprocessing.image.ImageDataGenerator(\n",
    "    rescale = 1./255\n",
    ")"
   ]
  },
  {
   "cell_type": "markdown",
   "metadata": {},
   "source": [
    "### C. Exploratory Data Analysis (EDA)"
   ]
  },
  {
   "cell_type": "markdown",
   "metadata": {},
   "source": [
    "##### 1. RGB  Analysis"
   ]
  },
  {
   "cell_type": "code",
   "execution_count": 15,
   "metadata": {},
   "outputs": [],
   "source": [
    "def calculate_rgb_stats(df):\n",
    "    '''\n",
    "    Calculate the mean, standard deviation, and coefficeint of variation (CV) for RGB channels of images in the DataFrame.\n",
    "    Returns a DataFrame with these statistics for each label.\n",
    "    '''\n",
    "    rgb_dict = {}\n",
    "\n",
    "    for label in df[\"label\"].unique():\n",
    "        subset = df[df[\"label\"] == label]\n",
    "        r_vals, g_vals, b_vals = [], [], []\n",
    "\n",
    "        for file in subset[\"filename\"]:\n",
    "            img = Image.open(file).convert(\"RGB\")\n",
    "            img_np = np.array(img)\n",
    "            \n",
    "            r_vals.append(np.mean(img_np[:, :, 0]))\n",
    "            g_vals.append(np.mean(img_np[:, :, 1]))\n",
    "            b_vals.append(np.mean(img_np[:, :, 2]))\n",
    "\n",
    "        rgb_dict[label] = {\n",
    "            \"R_mean\": np.mean(r_vals),\n",
    "            \"G_mean\": np.mean(g_vals),\n",
    "            \"B_mean\": np.mean(b_vals),\n",
    "            \"R_std\": np.std(r_vals),\n",
    "            \"G_std\": np.std(g_vals),\n",
    "            \"B_std\": np.std(b_vals),\n",
    "            \"R_CV\": np.std(r_vals) / np.mean(r_vals) if np.mean(r_vals) != 0 else 0,\n",
    "            \"G_CV\": np.std(g_vals) / np.mean(g_vals) if np.mean(g_vals) != 0 else 0,\n",
    "            \"B_CV\": np.std(b_vals) / np.mean(b_vals) if np.mean(b_vals) != 0 else 0\n",
    "        }\n",
    "\n",
    "    return pd.DataFrame.from_dict(rgb_dict, orient=\"index\")"
   ]
  },
  {
   "cell_type": "code",
   "execution_count": 16,
   "metadata": {},
   "outputs": [],
   "source": [
    "all_df = pd.concat([train_df, valid_df, test_df])\n",
    "rgb_results = calculate_rgb_stats(all_df)"
   ]
  },
  {
   "cell_type": "code",
   "execution_count": 19,
   "metadata": {},
   "outputs": [],
   "source": [
    "label_to_name = {v: k for k, v in CLASSES.items()}\n",
    "rgb_results[\"label\"] = rgb_results.index.map(label_to_name)\n",
    "rgb_results = rgb_results.reset_index(drop = True)"
   ]
  },
  {
   "cell_type": "code",
   "execution_count": 20,
   "metadata": {},
   "outputs": [
    {
     "data": {
      "text/html": [
       "<div>\n",
       "<style scoped>\n",
       "    .dataframe tbody tr th:only-of-type {\n",
       "        vertical-align: middle;\n",
       "    }\n",
       "\n",
       "    .dataframe tbody tr th {\n",
       "        vertical-align: top;\n",
       "    }\n",
       "\n",
       "    .dataframe thead th {\n",
       "        text-align: right;\n",
       "    }\n",
       "</style>\n",
       "<table border=\"1\" class=\"dataframe\">\n",
       "  <thead>\n",
       "    <tr style=\"text-align: right;\">\n",
       "      <th></th>\n",
       "      <th>R_mean</th>\n",
       "      <th>G_mean</th>\n",
       "      <th>B_mean</th>\n",
       "      <th>R_std</th>\n",
       "      <th>G_std</th>\n",
       "      <th>B_std</th>\n",
       "      <th>R_CV</th>\n",
       "      <th>G_CV</th>\n",
       "      <th>B_CV</th>\n",
       "      <th>label</th>\n",
       "    </tr>\n",
       "  </thead>\n",
       "  <tbody>\n",
       "    <tr>\n",
       "      <th>0</th>\n",
       "      <td>207.105990</td>\n",
       "      <td>188.179140</td>\n",
       "      <td>169.185145</td>\n",
       "      <td>33.370517</td>\n",
       "      <td>34.808467</td>\n",
       "      <td>38.162431</td>\n",
       "      <td>0.161128</td>\n",
       "      <td>0.184975</td>\n",
       "      <td>0.225566</td>\n",
       "      <td>opened carton box</td>\n",
       "    </tr>\n",
       "    <tr>\n",
       "      <th>1</th>\n",
       "      <td>198.995598</td>\n",
       "      <td>181.990249</td>\n",
       "      <td>161.690462</td>\n",
       "      <td>40.992066</td>\n",
       "      <td>41.698371</td>\n",
       "      <td>43.404778</td>\n",
       "      <td>0.205995</td>\n",
       "      <td>0.229124</td>\n",
       "      <td>0.268444</td>\n",
       "      <td>wet carton box</td>\n",
       "    </tr>\n",
       "    <tr>\n",
       "      <th>2</th>\n",
       "      <td>176.772568</td>\n",
       "      <td>161.778089</td>\n",
       "      <td>146.701919</td>\n",
       "      <td>43.458303</td>\n",
       "      <td>41.705282</td>\n",
       "      <td>42.054956</td>\n",
       "      <td>0.245843</td>\n",
       "      <td>0.257793</td>\n",
       "      <td>0.286669</td>\n",
       "      <td>cracked carton box</td>\n",
       "    </tr>\n",
       "    <tr>\n",
       "      <th>3</th>\n",
       "      <td>214.551047</td>\n",
       "      <td>195.737669</td>\n",
       "      <td>175.546176</td>\n",
       "      <td>29.291017</td>\n",
       "      <td>32.448195</td>\n",
       "      <td>36.789169</td>\n",
       "      <td>0.136522</td>\n",
       "      <td>0.165774</td>\n",
       "      <td>0.209570</td>\n",
       "      <td>carton box</td>\n",
       "    </tr>\n",
       "  </tbody>\n",
       "</table>\n",
       "</div>"
      ],
      "text/plain": [
       "       R_mean      G_mean      B_mean      R_std      G_std      B_std  \\\n",
       "0  207.105990  188.179140  169.185145  33.370517  34.808467  38.162431   \n",
       "1  198.995598  181.990249  161.690462  40.992066  41.698371  43.404778   \n",
       "2  176.772568  161.778089  146.701919  43.458303  41.705282  42.054956   \n",
       "3  214.551047  195.737669  175.546176  29.291017  32.448195  36.789169   \n",
       "\n",
       "       R_CV      G_CV      B_CV               label  \n",
       "0  0.161128  0.184975  0.225566   opened carton box  \n",
       "1  0.205995  0.229124  0.268444      wet carton box  \n",
       "2  0.245843  0.257793  0.286669  cracked carton box  \n",
       "3  0.136522  0.165774  0.209570          carton box  "
      ]
     },
     "execution_count": 20,
     "metadata": {},
     "output_type": "execute_result"
    }
   ],
   "source": [
    "rgb_results"
   ]
  },
  {
   "cell_type": "markdown",
   "metadata": {},
   "source": [
    "##### 2. Texture Analysis"
   ]
  },
  {
   "cell_type": "code",
   "execution_count": 31,
   "metadata": {},
   "outputs": [],
   "source": [
    "def calculate_texture_features(df, distances=[1], angles=[0]):\n",
    "    \"\"\"\n",
    "    Calculate GLCM texture features and edge density for each image class.\n",
    "    Returns a DataFrame with mean texture stats for each label.\n",
    "    \"\"\"\n",
    "    texture_dict = {}\n",
    "\n",
    "    for label in df[\"label\"].unique():\n",
    "        subset = df[df[\"label\"] == label]\n",
    "        contrast_vals, homogeneity_vals, entropy_vals, edge_density_vals = [], [], [], []\n",
    "\n",
    "        for file in subset[\"filename\"]:\n",
    "            # Load and convert to grayscale\n",
    "            img = Image.open(file).convert(\"L\")\n",
    "            img_np = np.array(img)\n",
    "\n",
    "            # --- 1. GLCM Features ---\n",
    "            glcm = graycomatrix(img_np, \n",
    "                                distances=distances, \n",
    "                                angles=angles, \n",
    "                                levels=256, \n",
    "                                symmetric=True, \n",
    "                                normed=True)\n",
    "\n",
    "            contrast_vals.append(graycoprops(glcm, 'contrast')[0, 0])\n",
    "            homogeneity_vals.append(graycoprops(glcm, 'homogeneity')[0, 0])\n",
    "            \n",
    "            # Entropy calculation\n",
    "            glcm_prob = glcm / np.sum(glcm)\n",
    "            entropy = -np.sum(glcm_prob * np.log2(glcm_prob + 1e-10))\n",
    "            entropy_vals.append(entropy)\n",
    "\n",
    "            # --- 2. Edge Density ---\n",
    "            edges = feature.canny(img_np, sigma=1.5)\n",
    "            edge_density_vals.append(np.sum(edges) / edges.size)\n",
    "\n",
    "        texture_dict[label] = {\n",
    "            \"GLCM_Contrast\": np.mean(contrast_vals),\n",
    "            \"GLCM_Homogeneity\": np.mean(homogeneity_vals),\n",
    "            \"GLCM_Entropy\": np.mean(entropy_vals),\n",
    "            \"Edge_Density\": np.mean(edge_density_vals)\n",
    "        }\n",
    "\n",
    "    return pd.DataFrame.from_dict(texture_dict, orient=\"index\")\n"
   ]
  },
  {
   "cell_type": "code",
   "execution_count": 32,
   "metadata": {},
   "outputs": [],
   "source": [
    "texture_result = calculate_texture_features(all_df)"
   ]
  },
  {
   "cell_type": "code",
   "execution_count": 33,
   "metadata": {},
   "outputs": [],
   "source": [
    "texture_result[\"label\"] = texture_result.index.map(label_to_name)\n",
    "texture_result = texture_result.reset_index(drop = True)"
   ]
  },
  {
   "cell_type": "code",
   "execution_count": 34,
   "metadata": {},
   "outputs": [
    {
     "data": {
      "text/html": [
       "<div>\n",
       "<style scoped>\n",
       "    .dataframe tbody tr th:only-of-type {\n",
       "        vertical-align: middle;\n",
       "    }\n",
       "\n",
       "    .dataframe tbody tr th {\n",
       "        vertical-align: top;\n",
       "    }\n",
       "\n",
       "    .dataframe thead th {\n",
       "        text-align: right;\n",
       "    }\n",
       "</style>\n",
       "<table border=\"1\" class=\"dataframe\">\n",
       "  <thead>\n",
       "    <tr style=\"text-align: right;\">\n",
       "      <th></th>\n",
       "      <th>GLCM_Contrast</th>\n",
       "      <th>GLCM_Homogeneity</th>\n",
       "      <th>GLCM_Entropy</th>\n",
       "      <th>Edge_Density</th>\n",
       "      <th>label</th>\n",
       "    </tr>\n",
       "  </thead>\n",
       "  <tbody>\n",
       "    <tr>\n",
       "      <th>0</th>\n",
       "      <td>1205.705737</td>\n",
       "      <td>0.422274</td>\n",
       "      <td>9.671843</td>\n",
       "      <td>0.064789</td>\n",
       "      <td>opened carton box</td>\n",
       "    </tr>\n",
       "    <tr>\n",
       "      <th>1</th>\n",
       "      <td>1191.949486</td>\n",
       "      <td>0.374575</td>\n",
       "      <td>10.254663</td>\n",
       "      <td>0.076353</td>\n",
       "      <td>wet carton box</td>\n",
       "    </tr>\n",
       "    <tr>\n",
       "      <th>2</th>\n",
       "      <td>1126.399506</td>\n",
       "      <td>0.337308</td>\n",
       "      <td>11.229209</td>\n",
       "      <td>0.076896</td>\n",
       "      <td>cracked carton box</td>\n",
       "    </tr>\n",
       "    <tr>\n",
       "      <th>3</th>\n",
       "      <td>1199.602262</td>\n",
       "      <td>0.440705</td>\n",
       "      <td>9.242963</td>\n",
       "      <td>0.059439</td>\n",
       "      <td>carton box</td>\n",
       "    </tr>\n",
       "  </tbody>\n",
       "</table>\n",
       "</div>"
      ],
      "text/plain": [
       "   GLCM_Contrast  GLCM_Homogeneity  GLCM_Entropy  Edge_Density  \\\n",
       "0    1205.705737          0.422274      9.671843      0.064789   \n",
       "1    1191.949486          0.374575     10.254663      0.076353   \n",
       "2    1126.399506          0.337308     11.229209      0.076896   \n",
       "3    1199.602262          0.440705      9.242963      0.059439   \n",
       "\n",
       "                label  \n",
       "0   opened carton box  \n",
       "1      wet carton box  \n",
       "2  cracked carton box  \n",
       "3          carton box  "
      ]
     },
     "execution_count": 34,
     "metadata": {},
     "output_type": "execute_result"
    }
   ],
   "source": [
    "texture_result"
   ]
  },
  {
   "cell_type": "markdown",
   "metadata": {},
   "source": [
    "### D. Modeling "
   ]
  },
  {
   "cell_type": "code",
   "execution_count": 23,
   "metadata": {},
   "outputs": [],
   "source": [
    "def split_data(train_datagen, train_df, test_datagen, test_df, SIZE = (224, 224)):\n",
    "    train_set = train_datagen.flow_from_dataframe(\n",
    "        train_df,\n",
    "        x_col = \"filename\",\n",
    "        y_col = \"label\",\n",
    "        batch_size = 32,\n",
    "        target_size = SIZE,\n",
    "        shuffle = True,\n",
    "        color_mode = \"rgb\",\n",
    "        subset = \"training\"\n",
    "    )   \n",
    "\n",
    "    valid_set = train_datagen.flow_from_dataframe(\n",
    "        train_df,\n",
    "        x_col = \"filename\",\n",
    "        y_col = \"label\",\n",
    "        batch_size = 32,\n",
    "        target_size = SIZE,\n",
    "        shuffle = False,\n",
    "        color_mode = \"rgb\",\n",
    "        subset = \"validation\"\n",
    "    )   \n",
    "\n",
    "    test_set = test_datagen.flow_from_dataframe(\n",
    "        test_df,\n",
    "        x_col = \"filename\",\n",
    "        y_col = \"label\",\n",
    "        batch_size = 32,\n",
    "        target_size = SIZE,\n",
    "        shuffle = False,\n",
    "        color_mode = \"rgb\"\n",
    "    )\n",
    "\n",
    "    return train_set, valid_set, test_set"
   ]
  },
  {
   "cell_type": "code",
   "execution_count": 24,
   "metadata": {},
   "outputs": [
    {
     "name": "stdout",
     "output_type": "stream",
     "text": [
      "Found 2256 validated image filenames belonging to 4 classes.\n",
      "Found 564 validated image filenames belonging to 4 classes.\n",
      "Found 397 validated image filenames belonging to 4 classes.\n"
     ]
    }
   ],
   "source": [
    "train_set, valid_set, test_set = split_data(train_datagen, train_df, test_datagen, test_df, SIZE = (299, 299))"
   ]
  },
  {
   "cell_type": "markdown",
   "metadata": {},
   "source": [
    "##### 1. Baseline CNN "
   ]
  },
  {
   "cell_type": "code",
   "execution_count": 25,
   "metadata": {},
   "outputs": [],
   "source": [
    "cnn = tf.keras.models.Sequential()\n",
    "\n",
    "# Convulational Layer 1\n",
    "cnn.add(tf.keras.layers.Conv2D(\n",
    "    filters = 32, \n",
    "    kernel_size = 3, \n",
    "    input_shape = [299, 299, 3], \n",
    "    kernel_regularizer = tf.keras.regularizers.l2(0.00005),\n",
    "    padding = \"same\"\n",
    "))\n",
    "cnn.add(tf.keras.layers.BatchNormalization())\n",
    "cnn.add(tf.keras.layers.ReLU())\n",
    "\n",
    "# Pooling Layer 1\n",
    "cnn.add(tf.keras.layers.MaxPool2D(\n",
    "    pool_size = 2, \n",
    "    strides = 2\n",
    "))\n",
    "\n",
    "# Convulational Layer 2\n",
    "cnn.add(tf.keras.layers.Conv2D(\n",
    "    filters = 32, \n",
    "    kernel_size = 3, \n",
    "    kernel_regularizer = tf.keras.regularizers.l2(0.00005),\n",
    "    padding = \"same\"\n",
    "))\n",
    "cnn.add(tf.keras.layers.BatchNormalization())\n",
    "cnn.add(tf.keras.layers.ReLU())\n",
    "\n",
    "# Pooling Layer 2\n",
    "cnn.add(tf.keras.layers.MaxPool2D(\n",
    "    pool_size = 2, \n",
    "    strides = 2\n",
    "))\n",
    "\n",
    "# Flatten Layer \n",
    "cnn.add(tf.keras.layers.Flatten())\n",
    "\n",
    "# Fully Connected Layer 1\n",
    "cnn.add(tf.keras.layers.Dense(\n",
    "    units = 128,\n",
    "    kernel_regularizer = tf.keras.regularizers.l2(0.00005)\n",
    "))\n",
    "cnn.add(tf.keras.layers.BatchNormalization())\n",
    "cnn.add(tf.keras.layers.ReLU())\n",
    "\n",
    "# Droput Layer\n",
    "cnn.add(tf.keras.layers.Dropout(0.3))\n",
    "\n",
    "# Output Layer\n",
    "cnn.add(tf.keras.layers.Dense(\n",
    "    units = 4, \n",
    "    activation = \"softmax\"\n",
    "))"
   ]
  },
  {
   "cell_type": "code",
   "execution_count": 26,
   "metadata": {},
   "outputs": [],
   "source": [
    "early_stopping = tf.keras.callbacks.EarlyStopping(\n",
    "    monitor = \"val_loss\", \n",
    "    patience = 10, \n",
    "    restore_best_weights = True\n",
    ")"
   ]
  },
  {
   "cell_type": "code",
   "execution_count": 27,
   "metadata": {},
   "outputs": [],
   "source": [
    "cnn.compile(\n",
    "    optimizer = tf.keras.optimizers.Adam(\n",
    "        learning_rate = tf.keras.optimizers.schedules.ExponentialDecay(\n",
    "            initial_learning_rate = 1e-4,\n",
    "            decay_steps = 1000,\n",
    "            decay_rate = 0.95\n",
    "        )\n",
    "    ), \n",
    "    loss = \"categorical_crossentropy\", \n",
    "    metrics = [tfa.metrics.F1Score(num_classes = 4)]\n",
    "    # metrics = [tf.keras.metrics.F1Score()]\n",
    ")"
   ]
  },
  {
   "cell_type": "code",
   "execution_count": 28,
   "metadata": {},
   "outputs": [
    {
     "name": "stdout",
     "output_type": "stream",
     "text": [
      "Epoch 1/100\n",
      "71/71 [==============================] - 57s 708ms/step - loss: 1.5301 - f1_score: 0.3216 - val_loss: 1.9112 - val_f1_score: 0.1627\n",
      "Epoch 2/100\n",
      "71/71 [==============================] - 35s 489ms/step - loss: 1.3399 - f1_score: 0.3392 - val_loss: 1.9937 - val_f1_score: 0.1627\n",
      "Epoch 3/100\n",
      "71/71 [==============================] - 34s 474ms/step - loss: 1.2776 - f1_score: 0.3296 - val_loss: 1.8025 - val_f1_score: 0.1627\n",
      "Epoch 4/100\n",
      "71/71 [==============================] - 36s 505ms/step - loss: 1.2372 - f1_score: 0.3528 - val_loss: 1.6438 - val_f1_score: 0.1627\n",
      "Epoch 5/100\n",
      "71/71 [==============================] - 34s 480ms/step - loss: 1.2282 - f1_score: 0.3526 - val_loss: 1.5007 - val_f1_score: 0.1627\n",
      "Epoch 6/100\n",
      "71/71 [==============================] - 34s 472ms/step - loss: 1.1611 - f1_score: 0.3597 - val_loss: 1.1267 - val_f1_score: 0.2426\n",
      "Epoch 7/100\n",
      "71/71 [==============================] - 34s 476ms/step - loss: 1.1555 - f1_score: 0.3543 - val_loss: 1.0455 - val_f1_score: 0.3288\n",
      "Epoch 8/100\n",
      "71/71 [==============================] - 36s 499ms/step - loss: 1.1434 - f1_score: 0.3704 - val_loss: 1.0633 - val_f1_score: 0.3327\n",
      "Epoch 9/100\n",
      "71/71 [==============================] - 35s 488ms/step - loss: 1.1665 - f1_score: 0.3401 - val_loss: 1.0246 - val_f1_score: 0.3785\n",
      "Epoch 10/100\n",
      "71/71 [==============================] - 34s 472ms/step - loss: 1.1139 - f1_score: 0.3711 - val_loss: 0.9715 - val_f1_score: 0.3752\n",
      "Epoch 11/100\n",
      "71/71 [==============================] - 34s 471ms/step - loss: 1.1161 - f1_score: 0.3770 - val_loss: 1.2001 - val_f1_score: 0.2856\n",
      "Epoch 12/100\n",
      "71/71 [==============================] - 34s 475ms/step - loss: 1.1076 - f1_score: 0.3919 - val_loss: 0.9980 - val_f1_score: 0.3562\n",
      "Epoch 13/100\n",
      "71/71 [==============================] - 34s 472ms/step - loss: 1.1252 - f1_score: 0.3700 - val_loss: 1.0045 - val_f1_score: 0.3605\n",
      "Epoch 14/100\n",
      "71/71 [==============================] - 34s 472ms/step - loss: 1.0931 - f1_score: 0.3870 - val_loss: 1.1515 - val_f1_score: 0.3263\n",
      "Epoch 15/100\n",
      "71/71 [==============================] - 34s 472ms/step - loss: 1.0909 - f1_score: 0.3963 - val_loss: 0.9602 - val_f1_score: 0.4694\n",
      "Epoch 16/100\n",
      "71/71 [==============================] - 34s 471ms/step - loss: 1.0928 - f1_score: 0.3882 - val_loss: 0.9488 - val_f1_score: 0.4123\n",
      "Epoch 17/100\n",
      "71/71 [==============================] - 34s 471ms/step - loss: 1.0736 - f1_score: 0.3888 - val_loss: 1.0326 - val_f1_score: 0.3753\n",
      "Epoch 18/100\n",
      "71/71 [==============================] - 34s 473ms/step - loss: 1.0578 - f1_score: 0.4029 - val_loss: 1.0160 - val_f1_score: 0.3858\n",
      "Epoch 19/100\n",
      "71/71 [==============================] - 34s 471ms/step - loss: 1.0514 - f1_score: 0.4034 - val_loss: 0.9921 - val_f1_score: 0.3631\n",
      "Epoch 20/100\n",
      "71/71 [==============================] - 34s 473ms/step - loss: 1.0781 - f1_score: 0.4002 - val_loss: 0.9495 - val_f1_score: 0.4106\n",
      "Epoch 21/100\n",
      "71/71 [==============================] - 34s 472ms/step - loss: 1.0461 - f1_score: 0.4060 - val_loss: 1.0573 - val_f1_score: 0.3216\n",
      "Epoch 22/100\n",
      "71/71 [==============================] - 34s 477ms/step - loss: 1.0473 - f1_score: 0.3845 - val_loss: 0.9861 - val_f1_score: 0.3445\n",
      "Epoch 23/100\n",
      "71/71 [==============================] - 34s 473ms/step - loss: 1.0262 - f1_score: 0.4069 - val_loss: 0.9448 - val_f1_score: 0.4833\n",
      "Epoch 24/100\n",
      "71/71 [==============================] - 34s 474ms/step - loss: 1.0175 - f1_score: 0.4124 - val_loss: 0.9819 - val_f1_score: 0.4016\n",
      "Epoch 25/100\n",
      "71/71 [==============================] - 34s 470ms/step - loss: 1.0305 - f1_score: 0.4342 - val_loss: 0.9738 - val_f1_score: 0.3823\n",
      "Epoch 26/100\n",
      "71/71 [==============================] - 34s 470ms/step - loss: 1.0263 - f1_score: 0.4246 - val_loss: 1.0727 - val_f1_score: 0.3443\n",
      "Epoch 27/100\n",
      "71/71 [==============================] - 34s 471ms/step - loss: 1.0455 - f1_score: 0.4089 - val_loss: 0.9273 - val_f1_score: 0.4602\n",
      "Epoch 28/100\n",
      "71/71 [==============================] - 34s 470ms/step - loss: 1.0153 - f1_score: 0.4346 - val_loss: 0.9096 - val_f1_score: 0.4402\n",
      "Epoch 29/100\n",
      "71/71 [==============================] - 35s 487ms/step - loss: 1.0225 - f1_score: 0.4222 - val_loss: 0.9033 - val_f1_score: 0.3665\n",
      "Epoch 30/100\n",
      "71/71 [==============================] - 35s 486ms/step - loss: 1.0041 - f1_score: 0.4427 - val_loss: 0.9219 - val_f1_score: 0.4559\n",
      "Epoch 31/100\n",
      "71/71 [==============================] - 35s 492ms/step - loss: 1.0198 - f1_score: 0.4477 - val_loss: 0.9375 - val_f1_score: 0.4405\n",
      "Epoch 32/100\n",
      "71/71 [==============================] - 36s 511ms/step - loss: 0.9777 - f1_score: 0.4404 - val_loss: 0.8957 - val_f1_score: 0.4379\n",
      "Epoch 33/100\n",
      "71/71 [==============================] - 36s 504ms/step - loss: 1.0042 - f1_score: 0.4332 - val_loss: 0.9149 - val_f1_score: 0.4531\n",
      "Epoch 34/100\n",
      "71/71 [==============================] - 36s 504ms/step - loss: 0.9900 - f1_score: 0.4549 - val_loss: 1.0362 - val_f1_score: 0.3891\n",
      "Epoch 35/100\n",
      "71/71 [==============================] - 36s 510ms/step - loss: 0.9760 - f1_score: 0.4394 - val_loss: 0.9198 - val_f1_score: 0.5193\n",
      "Epoch 36/100\n",
      "71/71 [==============================] - 36s 502ms/step - loss: 0.9918 - f1_score: 0.4619 - val_loss: 0.9172 - val_f1_score: 0.4858\n",
      "Epoch 37/100\n",
      "71/71 [==============================] - 44s 621ms/step - loss: 0.9733 - f1_score: 0.4607 - val_loss: 0.9009 - val_f1_score: 0.4858\n",
      "Epoch 38/100\n",
      "71/71 [==============================] - 43s 603ms/step - loss: 0.9822 - f1_score: 0.4486 - val_loss: 0.9515 - val_f1_score: 0.4668\n",
      "Epoch 39/100\n",
      "71/71 [==============================] - 36s 505ms/step - loss: 0.9796 - f1_score: 0.4633 - val_loss: 1.0875 - val_f1_score: 0.3543\n",
      "Epoch 40/100\n",
      "71/71 [==============================] - 36s 505ms/step - loss: 0.9604 - f1_score: 0.4700 - val_loss: 0.9475 - val_f1_score: 0.3825\n",
      "Epoch 41/100\n",
      "71/71 [==============================] - 36s 502ms/step - loss: 0.9817 - f1_score: 0.4521 - val_loss: 0.8946 - val_f1_score: 0.4672\n",
      "Epoch 42/100\n",
      "71/71 [==============================] - 36s 501ms/step - loss: 0.9822 - f1_score: 0.4512 - val_loss: 0.9612 - val_f1_score: 0.4272\n",
      "Epoch 43/100\n",
      "71/71 [==============================] - 36s 503ms/step - loss: 0.9701 - f1_score: 0.4512 - val_loss: 0.8753 - val_f1_score: 0.4604\n",
      "Epoch 44/100\n",
      "71/71 [==============================] - 36s 502ms/step - loss: 0.9435 - f1_score: 0.4983 - val_loss: 0.8988 - val_f1_score: 0.4772\n",
      "Epoch 45/100\n",
      "71/71 [==============================] - 36s 501ms/step - loss: 0.9580 - f1_score: 0.4807 - val_loss: 0.8923 - val_f1_score: 0.4682\n",
      "Epoch 46/100\n",
      "71/71 [==============================] - 36s 502ms/step - loss: 0.9378 - f1_score: 0.4730 - val_loss: 1.1499 - val_f1_score: 0.4126\n",
      "Epoch 47/100\n",
      "71/71 [==============================] - 36s 500ms/step - loss: 0.9473 - f1_score: 0.4805 - val_loss: 0.9234 - val_f1_score: 0.4504\n",
      "Epoch 48/100\n",
      "71/71 [==============================] - 36s 500ms/step - loss: 0.9409 - f1_score: 0.4906 - val_loss: 0.9509 - val_f1_score: 0.4045\n",
      "Epoch 49/100\n",
      "71/71 [==============================] - 36s 503ms/step - loss: 0.9395 - f1_score: 0.4881 - val_loss: 0.8521 - val_f1_score: 0.5349\n",
      "Epoch 50/100\n",
      "71/71 [==============================] - 36s 502ms/step - loss: 0.9227 - f1_score: 0.4866 - val_loss: 0.8874 - val_f1_score: 0.5173\n",
      "Epoch 51/100\n",
      "71/71 [==============================] - 36s 501ms/step - loss: 0.9211 - f1_score: 0.4944 - val_loss: 0.8869 - val_f1_score: 0.4649\n",
      "Epoch 52/100\n",
      "71/71 [==============================] - 36s 501ms/step - loss: 0.9354 - f1_score: 0.4809 - val_loss: 0.8680 - val_f1_score: 0.4227\n",
      "Epoch 53/100\n",
      "71/71 [==============================] - 36s 499ms/step - loss: 0.9109 - f1_score: 0.5014 - val_loss: 0.8606 - val_f1_score: 0.5569\n",
      "Epoch 54/100\n",
      "71/71 [==============================] - 36s 503ms/step - loss: 0.9199 - f1_score: 0.5152 - val_loss: 0.8250 - val_f1_score: 0.5371\n",
      "Epoch 55/100\n",
      "71/71 [==============================] - 36s 500ms/step - loss: 0.9209 - f1_score: 0.5146 - val_loss: 0.9079 - val_f1_score: 0.4826\n",
      "Epoch 56/100\n",
      "71/71 [==============================] - 36s 504ms/step - loss: 0.9336 - f1_score: 0.5002 - val_loss: 0.8525 - val_f1_score: 0.5279\n",
      "Epoch 57/100\n",
      "71/71 [==============================] - 36s 504ms/step - loss: 0.8960 - f1_score: 0.4958 - val_loss: 0.8943 - val_f1_score: 0.4568\n",
      "Epoch 58/100\n",
      "71/71 [==============================] - 36s 507ms/step - loss: 0.9172 - f1_score: 0.4998 - val_loss: 0.8427 - val_f1_score: 0.5132\n",
      "Epoch 59/100\n",
      "71/71 [==============================] - 36s 509ms/step - loss: 0.9102 - f1_score: 0.5063 - val_loss: 0.8894 - val_f1_score: 0.4545\n",
      "Epoch 60/100\n",
      "71/71 [==============================] - 36s 509ms/step - loss: 0.9058 - f1_score: 0.4997 - val_loss: 0.9626 - val_f1_score: 0.4834\n",
      "Epoch 61/100\n",
      "71/71 [==============================] - 36s 511ms/step - loss: 0.9050 - f1_score: 0.5131 - val_loss: 0.8783 - val_f1_score: 0.4833\n",
      "Epoch 62/100\n",
      "71/71 [==============================] - 36s 507ms/step - loss: 0.9168 - f1_score: 0.5145 - val_loss: 0.8501 - val_f1_score: 0.4758\n",
      "Epoch 63/100\n",
      "71/71 [==============================] - 36s 502ms/step - loss: 0.9019 - f1_score: 0.5164 - val_loss: 0.8445 - val_f1_score: 0.5460\n",
      "Epoch 64/100\n",
      "71/71 [==============================] - 36s 502ms/step - loss: 0.9043 - f1_score: 0.5031 - val_loss: 0.8308 - val_f1_score: 0.5724\n"
     ]
    }
   ],
   "source": [
    "cnn_history = cnn.fit(\n",
    "    train_set, \n",
    "    validation_data = valid_set, \n",
    "    epochs = 100, \n",
    "    callbacks = [early_stopping]\n",
    ")"
   ]
  },
  {
   "cell_type": "code",
   "execution_count": null,
   "metadata": {},
   "outputs": [],
   "source": [
    "cnn.save(\"models/baseline_cnn.keras\")"
   ]
  },
  {
   "cell_type": "markdown",
   "metadata": {},
   "source": [
    "##### 2. ResNet-50"
   ]
  },
  {
   "cell_type": "code",
   "execution_count": 30,
   "metadata": {},
   "outputs": [],
   "source": [
    "resnet50 = tf.keras.applications.resnet50.ResNet50(\n",
    "    input_shape = (299, 299, 3),\n",
    "    include_top = False,\n",
    "    weights = \"imagenet\"\n",
    ")"
   ]
  },
  {
   "cell_type": "code",
   "execution_count": 31,
   "metadata": {},
   "outputs": [],
   "source": [
    "for layer in resnet50.layers:\n",
    "    layer.trainable = False"
   ]
  },
  {
   "cell_type": "code",
   "execution_count": 32,
   "metadata": {},
   "outputs": [],
   "source": [
    "resnet50_model = tf.keras.models.Sequential()\n",
    "\n",
    "# Layers From ResNet50\n",
    "resnet50_model.add(resnet50)\n",
    "\n",
    "# Flatten Layer\n",
    "resnet50_model.add(tf.keras.layers.Flatten())\n",
    "\n",
    "# Fully Connected Layer\n",
    "resnet50_model.add(tf.keras.layers.Dense(\n",
    "    units = 128,\n",
    "    kernel_regularizer = tf.keras.regularizers.l2(0.00005)\n",
    "))\n",
    "resnet50_model.add(tf.keras.layers.BatchNormalization())\n",
    "resnet50_model.add(tf.keras.layers.ReLU())\n",
    "\n",
    "# Dropout Layer\n",
    "resnet50_model.add(tf.keras.layers.Dropout(0.3))\n",
    "\n",
    "# Output Layer\n",
    "resnet50_model.add(tf.keras.layers.Dense(\n",
    "    units = 4, \n",
    "    activation = \"softmax\"\n",
    "))"
   ]
  },
  {
   "cell_type": "code",
   "execution_count": 34,
   "metadata": {},
   "outputs": [],
   "source": [
    "resnet50_model.compile(\n",
    "    optimizer = tf.keras.optimizers.Adam(\n",
    "        learning_rate = tf.keras.optimizers.schedules.ExponentialDecay(\n",
    "            initial_learning_rate = 1e-4,\n",
    "            decay_steps = 1000,\n",
    "            decay_rate = 0.95\n",
    "        )\n",
    "    ), \n",
    "    loss = \"categorical_crossentropy\", \n",
    "    metrics = [tfa.metrics.F1Score(num_classes = 4)]\n",
    ")"
   ]
  },
  {
   "cell_type": "code",
   "execution_count": 37,
   "metadata": {},
   "outputs": [
    {
     "name": "stdout",
     "output_type": "stream",
     "text": [
      "Epoch 1/100\n",
      "71/71 [==============================] - 37s 524ms/step - loss: 1.3439 - f1_score: 0.3578 - val_loss: 4.7330 - val_f1_score: 0.1886\n",
      "Epoch 2/100\n",
      "71/71 [==============================] - 49s 693ms/step - loss: 1.2923 - f1_score: 0.3716 - val_loss: 3.3502 - val_f1_score: 0.1966\n",
      "Epoch 3/100\n",
      "71/71 [==============================] - 34s 476ms/step - loss: 1.2262 - f1_score: 0.3810 - val_loss: 2.8962 - val_f1_score: 0.2232\n",
      "Epoch 4/100\n",
      "71/71 [==============================] - 34s 476ms/step - loss: 1.1659 - f1_score: 0.3689 - val_loss: 2.2126 - val_f1_score: 0.2438\n",
      "Epoch 5/100\n",
      "71/71 [==============================] - 34s 476ms/step - loss: 1.1442 - f1_score: 0.3637 - val_loss: 2.1199 - val_f1_score: 0.1827\n",
      "Epoch 6/100\n",
      "71/71 [==============================] - 34s 475ms/step - loss: 1.1247 - f1_score: 0.3790 - val_loss: 1.5654 - val_f1_score: 0.3206\n",
      "Epoch 7/100\n",
      "71/71 [==============================] - 34s 475ms/step - loss: 1.0938 - f1_score: 0.3964 - val_loss: 1.3515 - val_f1_score: 0.3193\n",
      "Epoch 8/100\n",
      "71/71 [==============================] - 34s 475ms/step - loss: 1.1108 - f1_score: 0.3646 - val_loss: 1.3352 - val_f1_score: 0.3430\n",
      "Epoch 9/100\n",
      "71/71 [==============================] - 34s 477ms/step - loss: 1.0986 - f1_score: 0.3657 - val_loss: 1.0943 - val_f1_score: 0.3872\n",
      "Epoch 10/100\n",
      "71/71 [==============================] - 34s 479ms/step - loss: 1.1002 - f1_score: 0.3793 - val_loss: 1.4740 - val_f1_score: 0.3129\n",
      "Epoch 11/100\n",
      "71/71 [==============================] - 34s 474ms/step - loss: 1.0675 - f1_score: 0.3796 - val_loss: 1.6293 - val_f1_score: 0.1549\n",
      "Epoch 12/100\n",
      "71/71 [==============================] - 34s 474ms/step - loss: 1.1039 - f1_score: 0.3685 - val_loss: 1.1466 - val_f1_score: 0.3023\n",
      "Epoch 13/100\n",
      "71/71 [==============================] - 34s 472ms/step - loss: 1.0603 - f1_score: 0.3866 - val_loss: 1.8366 - val_f1_score: 0.2244\n",
      "Epoch 14/100\n",
      "71/71 [==============================] - 34s 473ms/step - loss: 1.0775 - f1_score: 0.3714 - val_loss: 1.3673 - val_f1_score: 0.3017\n",
      "Epoch 15/100\n",
      "71/71 [==============================] - 34s 475ms/step - loss: 1.0738 - f1_score: 0.3686 - val_loss: 1.3997 - val_f1_score: 0.3777\n",
      "Epoch 16/100\n",
      "71/71 [==============================] - 34s 484ms/step - loss: 1.0477 - f1_score: 0.3906 - val_loss: 1.1808 - val_f1_score: 0.3411\n",
      "Epoch 17/100\n",
      "71/71 [==============================] - 34s 476ms/step - loss: 1.0431 - f1_score: 0.3896 - val_loss: 1.1187 - val_f1_score: 0.3874\n",
      "Epoch 18/100\n",
      "71/71 [==============================] - 34s 475ms/step - loss: 1.0718 - f1_score: 0.3690 - val_loss: 2.7418 - val_f1_score: 0.1368\n",
      "Epoch 19/100\n",
      "71/71 [==============================] - 34s 477ms/step - loss: 1.0518 - f1_score: 0.3996 - val_loss: 1.0433 - val_f1_score: 0.3711\n",
      "Epoch 20/100\n",
      "71/71 [==============================] - 34s 476ms/step - loss: 1.0532 - f1_score: 0.3826 - val_loss: 1.1120 - val_f1_score: 0.3861\n",
      "Epoch 21/100\n",
      "71/71 [==============================] - 34s 474ms/step - loss: 1.0655 - f1_score: 0.3723 - val_loss: 1.1334 - val_f1_score: 0.3637\n",
      "Epoch 22/100\n",
      "71/71 [==============================] - 34s 479ms/step - loss: 1.0448 - f1_score: 0.3760 - val_loss: 1.0478 - val_f1_score: 0.3624\n",
      "Epoch 23/100\n",
      "71/71 [==============================] - 34s 477ms/step - loss: 1.0557 - f1_score: 0.3760 - val_loss: 1.1065 - val_f1_score: 0.3224\n",
      "Epoch 24/100\n",
      "71/71 [==============================] - 34s 478ms/step - loss: 1.0595 - f1_score: 0.3779 - val_loss: 1.1970 - val_f1_score: 0.2695\n",
      "Epoch 25/100\n",
      "71/71 [==============================] - 34s 476ms/step - loss: 1.0454 - f1_score: 0.3806 - val_loss: 1.0418 - val_f1_score: 0.3386\n",
      "Epoch 26/100\n",
      "71/71 [==============================] - 34s 478ms/step - loss: 1.0398 - f1_score: 0.4007 - val_loss: 0.9733 - val_f1_score: 0.4143\n",
      "Epoch 27/100\n",
      "71/71 [==============================] - 34s 478ms/step - loss: 1.0493 - f1_score: 0.3608 - val_loss: 1.0539 - val_f1_score: 0.3926\n",
      "Epoch 28/100\n",
      "71/71 [==============================] - 34s 476ms/step - loss: 1.0437 - f1_score: 0.3833 - val_loss: 1.2011 - val_f1_score: 0.3843\n",
      "Epoch 29/100\n",
      "71/71 [==============================] - 34s 479ms/step - loss: 1.0467 - f1_score: 0.3894 - val_loss: 1.0760 - val_f1_score: 0.3500\n",
      "Epoch 30/100\n",
      "71/71 [==============================] - 34s 474ms/step - loss: 1.0295 - f1_score: 0.3976 - val_loss: 1.0761 - val_f1_score: 0.3222\n",
      "Epoch 31/100\n",
      "71/71 [==============================] - 34s 478ms/step - loss: 1.0395 - f1_score: 0.3821 - val_loss: 1.0736 - val_f1_score: 0.3609\n",
      "Epoch 32/100\n",
      "71/71 [==============================] - 34s 478ms/step - loss: 1.0327 - f1_score: 0.4045 - val_loss: 1.7463 - val_f1_score: 0.1912\n",
      "Epoch 33/100\n",
      "71/71 [==============================] - 34s 476ms/step - loss: 1.0395 - f1_score: 0.3880 - val_loss: 1.3650 - val_f1_score: 0.3061\n",
      "Epoch 34/100\n",
      "71/71 [==============================] - 35s 488ms/step - loss: 1.0197 - f1_score: 0.3867 - val_loss: 1.0118 - val_f1_score: 0.3609\n",
      "Epoch 35/100\n",
      "71/71 [==============================] - 35s 486ms/step - loss: 1.0452 - f1_score: 0.3926 - val_loss: 1.0597 - val_f1_score: 0.3772\n",
      "Epoch 36/100\n",
      "71/71 [==============================] - 35s 490ms/step - loss: 1.0304 - f1_score: 0.3847 - val_loss: 1.1938 - val_f1_score: 0.3064\n"
     ]
    }
   ],
   "source": [
    "resnet50_history = resnet50_model.fit(\n",
    "    train_set, \n",
    "    validation_data = valid_set, \n",
    "    epochs = 100, \n",
    "    callbacks = [early_stopping]\n",
    ")"
   ]
  },
  {
   "cell_type": "code",
   "execution_count": 77,
   "metadata": {},
   "outputs": [],
   "source": [
    "resnet50_model.save(\"models/resnet50.keras\")"
   ]
  },
  {
   "cell_type": "markdown",
   "metadata": {},
   "source": [
    "##### 3. Inception V3"
   ]
  },
  {
   "cell_type": "code",
   "execution_count": 39,
   "metadata": {},
   "outputs": [],
   "source": [
    "inceptionv3 = tf.keras.applications.inception_v3.InceptionV3(\n",
    "    input_shape = (299, 299, 3),\n",
    "    include_top = False,\n",
    "    weights = \"imagenet\"\n",
    ")"
   ]
  },
  {
   "cell_type": "code",
   "execution_count": 40,
   "metadata": {},
   "outputs": [],
   "source": [
    "for layer in inceptionv3.layers:\n",
    "    layer.trainable = False"
   ]
  },
  {
   "cell_type": "code",
   "execution_count": 41,
   "metadata": {},
   "outputs": [],
   "source": [
    "inceptionv3_model = tf.keras.models.Sequential()\n",
    "\n",
    "# Layers From Inception V3\n",
    "inceptionv3_model.add(inceptionv3)\n",
    "\n",
    "# Flatten Layer\n",
    "inceptionv3_model.add(tf.keras.layers.Flatten())\n",
    "\n",
    "# Fully Connected Layer\n",
    "inceptionv3_model.add(tf.keras.layers.Dense(\n",
    "    units = 128,\n",
    "    kernel_regularizer = tf.keras.regularizers.l2(0.00005)\n",
    "))\n",
    "inceptionv3_model.add(tf.keras.layers.BatchNormalization())\n",
    "inceptionv3_model.add(tf.keras.layers.ReLU())\n",
    "\n",
    "# Dropout Layer\n",
    "inceptionv3_model.add(tf.keras.layers.Dropout(0.3))\n",
    "\n",
    "# Output Layer\n",
    "inceptionv3_model.add(tf.keras.layers.Dense(\n",
    "    units = 4, \n",
    "    activation = \"softmax\"\n",
    "))"
   ]
  },
  {
   "cell_type": "code",
   "execution_count": 42,
   "metadata": {},
   "outputs": [],
   "source": [
    "inceptionv3_model.compile(\n",
    "    optimizer = tf.keras.optimizers.Adam(\n",
    "        learning_rate = tf.keras.optimizers.schedules.ExponentialDecay(\n",
    "            initial_learning_rate = 1e-4,\n",
    "            decay_steps = 1000,\n",
    "            decay_rate = 0.95\n",
    "        )\n",
    "    ), \n",
    "    loss = \"categorical_crossentropy\", \n",
    "    metrics = [tfa.metrics.F1Score(num_classes = 4)]\n",
    ")"
   ]
  },
  {
   "cell_type": "code",
   "execution_count": 43,
   "metadata": {},
   "outputs": [
    {
     "name": "stdout",
     "output_type": "stream",
     "text": [
      "Epoch 1/100\n",
      "71/71 [==============================] - 39s 513ms/step - loss: 1.1055 - f1_score: 0.5163 - val_loss: 1.8114 - val_f1_score: 0.4369\n",
      "Epoch 2/100\n",
      "71/71 [==============================] - 34s 484ms/step - loss: 0.8574 - f1_score: 0.6233 - val_loss: 0.7663 - val_f1_score: 0.6320\n",
      "Epoch 3/100\n",
      "71/71 [==============================] - 34s 476ms/step - loss: 0.7183 - f1_score: 0.6619 - val_loss: 0.5517 - val_f1_score: 0.6765\n",
      "Epoch 4/100\n",
      "71/71 [==============================] - 34s 475ms/step - loss: 0.6616 - f1_score: 0.6904 - val_loss: 0.5440 - val_f1_score: 0.6956\n",
      "Epoch 5/100\n",
      "71/71 [==============================] - 34s 476ms/step - loss: 0.6093 - f1_score: 0.7078 - val_loss: 0.5540 - val_f1_score: 0.7339\n",
      "Epoch 6/100\n",
      "71/71 [==============================] - 34s 477ms/step - loss: 0.6073 - f1_score: 0.7021 - val_loss: 0.4969 - val_f1_score: 0.7265\n",
      "Epoch 7/100\n",
      "71/71 [==============================] - 34s 474ms/step - loss: 0.5601 - f1_score: 0.7391 - val_loss: 0.5023 - val_f1_score: 0.7251\n",
      "Epoch 8/100\n",
      "71/71 [==============================] - 34s 474ms/step - loss: 0.5279 - f1_score: 0.7308 - val_loss: 0.4695 - val_f1_score: 0.7450\n",
      "Epoch 9/100\n",
      "71/71 [==============================] - 34s 477ms/step - loss: 0.5047 - f1_score: 0.7739 - val_loss: 0.4593 - val_f1_score: 0.7462\n",
      "Epoch 10/100\n",
      "71/71 [==============================] - 34s 476ms/step - loss: 0.5151 - f1_score: 0.7577 - val_loss: 0.4482 - val_f1_score: 0.7668\n",
      "Epoch 11/100\n",
      "71/71 [==============================] - 34s 477ms/step - loss: 0.4824 - f1_score: 0.7791 - val_loss: 0.4254 - val_f1_score: 0.7821\n",
      "Epoch 12/100\n",
      "71/71 [==============================] - 34s 475ms/step - loss: 0.4625 - f1_score: 0.7786 - val_loss: 0.4394 - val_f1_score: 0.7821\n",
      "Epoch 13/100\n",
      "71/71 [==============================] - 34s 477ms/step - loss: 0.4657 - f1_score: 0.7891 - val_loss: 0.3966 - val_f1_score: 0.7851\n",
      "Epoch 14/100\n",
      "71/71 [==============================] - 34s 479ms/step - loss: 0.4226 - f1_score: 0.7975 - val_loss: 0.4026 - val_f1_score: 0.8117\n",
      "Epoch 15/100\n",
      "71/71 [==============================] - 34s 477ms/step - loss: 0.4355 - f1_score: 0.7956 - val_loss: 0.3943 - val_f1_score: 0.8205\n",
      "Epoch 16/100\n",
      "71/71 [==============================] - 34s 478ms/step - loss: 0.4303 - f1_score: 0.8017 - val_loss: 0.4039 - val_f1_score: 0.7810\n",
      "Epoch 17/100\n",
      "71/71 [==============================] - 34s 480ms/step - loss: 0.4366 - f1_score: 0.8001 - val_loss: 0.3895 - val_f1_score: 0.8372\n",
      "Epoch 18/100\n",
      "71/71 [==============================] - 33s 471ms/step - loss: 0.3969 - f1_score: 0.8262 - val_loss: 0.4315 - val_f1_score: 0.7844\n",
      "Epoch 19/100\n",
      "71/71 [==============================] - 34s 476ms/step - loss: 0.3946 - f1_score: 0.8222 - val_loss: 0.3418 - val_f1_score: 0.8446\n",
      "Epoch 20/100\n",
      "71/71 [==============================] - 34s 476ms/step - loss: 0.3904 - f1_score: 0.8304 - val_loss: 0.4223 - val_f1_score: 0.7796\n",
      "Epoch 21/100\n",
      "71/71 [==============================] - 34s 476ms/step - loss: 0.3980 - f1_score: 0.8193 - val_loss: 0.4152 - val_f1_score: 0.7959\n",
      "Epoch 22/100\n",
      "71/71 [==============================] - 34s 478ms/step - loss: 0.3865 - f1_score: 0.8286 - val_loss: 0.3861 - val_f1_score: 0.7909\n",
      "Epoch 23/100\n",
      "71/71 [==============================] - 34s 482ms/step - loss: 0.3829 - f1_score: 0.8362 - val_loss: 0.3357 - val_f1_score: 0.8194\n",
      "Epoch 24/100\n",
      "71/71 [==============================] - 34s 473ms/step - loss: 0.3805 - f1_score: 0.8414 - val_loss: 0.3672 - val_f1_score: 0.8133\n",
      "Epoch 25/100\n",
      "71/71 [==============================] - 34s 474ms/step - loss: 0.3837 - f1_score: 0.8343 - val_loss: 0.3882 - val_f1_score: 0.7976\n",
      "Epoch 26/100\n",
      "71/71 [==============================] - 34s 474ms/step - loss: 0.3451 - f1_score: 0.8544 - val_loss: 0.3428 - val_f1_score: 0.8361\n",
      "Epoch 27/100\n",
      "71/71 [==============================] - 34s 479ms/step - loss: 0.3630 - f1_score: 0.8503 - val_loss: 0.3245 - val_f1_score: 0.8589\n",
      "Epoch 28/100\n",
      "71/71 [==============================] - 34s 473ms/step - loss: 0.3544 - f1_score: 0.8413 - val_loss: 0.3482 - val_f1_score: 0.8204\n",
      "Epoch 29/100\n",
      "71/71 [==============================] - 34s 475ms/step - loss: 0.3381 - f1_score: 0.8654 - val_loss: 0.3181 - val_f1_score: 0.8698\n",
      "Epoch 30/100\n",
      "71/71 [==============================] - 34s 474ms/step - loss: 0.3578 - f1_score: 0.8579 - val_loss: 0.3986 - val_f1_score: 0.7962\n",
      "Epoch 31/100\n",
      "71/71 [==============================] - 34s 472ms/step - loss: 0.3556 - f1_score: 0.8428 - val_loss: 0.3218 - val_f1_score: 0.8540\n",
      "Epoch 32/100\n",
      "71/71 [==============================] - 34s 474ms/step - loss: 0.3546 - f1_score: 0.8442 - val_loss: 0.3483 - val_f1_score: 0.8293\n",
      "Epoch 33/100\n",
      "71/71 [==============================] - 34s 475ms/step - loss: 0.3460 - f1_score: 0.8489 - val_loss: 0.3382 - val_f1_score: 0.8326\n",
      "Epoch 34/100\n",
      "71/71 [==============================] - 34s 475ms/step - loss: 0.3369 - f1_score: 0.8475 - val_loss: 0.3229 - val_f1_score: 0.8179\n",
      "Epoch 35/100\n",
      "71/71 [==============================] - 34s 475ms/step - loss: 0.3316 - f1_score: 0.8652 - val_loss: 0.3692 - val_f1_score: 0.8314\n",
      "Epoch 36/100\n",
      "71/71 [==============================] - 34s 475ms/step - loss: 0.3038 - f1_score: 0.8738 - val_loss: 0.3386 - val_f1_score: 0.8476\n",
      "Epoch 37/100\n",
      "71/71 [==============================] - 34s 476ms/step - loss: 0.3017 - f1_score: 0.8724 - val_loss: 0.3719 - val_f1_score: 0.8173\n",
      "Epoch 38/100\n",
      "71/71 [==============================] - 34s 475ms/step - loss: 0.3292 - f1_score: 0.8611 - val_loss: 0.3288 - val_f1_score: 0.8338\n",
      "Epoch 39/100\n",
      "71/71 [==============================] - 34s 475ms/step - loss: 0.3009 - f1_score: 0.8776 - val_loss: 0.3369 - val_f1_score: 0.8385\n"
     ]
    }
   ],
   "source": [
    "inceptionv3_history = inceptionv3_model.fit(\n",
    "    train_set, \n",
    "    validation_data = valid_set, \n",
    "    epochs = 100, \n",
    "    callbacks = [early_stopping]\n",
    ")"
   ]
  },
  {
   "cell_type": "code",
   "execution_count": 83,
   "metadata": {},
   "outputs": [],
   "source": [
    "inceptionv3_model.save(\"models/inceptionv3.h5\")"
   ]
  },
  {
   "cell_type": "markdown",
   "metadata": {},
   "source": [
    "##### 4. Ensemble Stacking"
   ]
  },
  {
   "cell_type": "code",
   "execution_count": 14,
   "metadata": {},
   "outputs": [],
   "source": [
    "import numpy as np"
   ]
  },
  {
   "cell_type": "code",
   "execution_count": 15,
   "metadata": {},
   "outputs": [],
   "source": [
    "baseline_cnn_model = tf.keras.models.load_model(\"models/baseline_cnn.keras\")\n",
    "resnet50_model = tf.keras.models.load_model(\"models/resnet50.keras\")\n",
    "inceptionv3_model = tf.keras.models.load_model(\"models/inceptionv3.keras\")"
   ]
  },
  {
   "cell_type": "markdown",
   "metadata": {},
   "source": [
    "a. Stacking Model 1"
   ]
  },
  {
   "cell_type": "markdown",
   "metadata": {},
   "source": [
    "- Base Learner: ResNet-50\n",
    "- Meta Learner: Inception V3"
   ]
  },
  {
   "cell_type": "code",
   "execution_count": null,
   "metadata": {},
   "outputs": [],
   "source": [
    "def create_stacking_model_1(resnet50_model, inceptionv3_model):\n",
    "    # Step 1: Input for both models (same input shape)\n",
    "    input_layer = tf.keras.layers.Input(shape = (299, 299, 3))\n",
    "\n",
    "    # Step 2: Pass input through ResNet50 base model\n",
    "    resnet50_output = resnet50_model(input_layer)\n",
    "\n",
    "    # Step 3: Pass the same input through InceptionV3 model (meta-learner)\n",
    "    inceptionv3_output = inceptionv3_model(input_layer)\n",
    "\n",
    "    # Step 4: Flatten both outputs\n",
    "    resnet50_output_flattened = tf.keras.layers.Flatten()(resnet50_output)\n",
    "    inceptionv3_output_flattened = tf.keras.layers.Flatten()(inceptionv3_output)\n",
    "\n",
    "    # Step 5: Concatenate the flattened outputs of both models\n",
    "    combined_features = tf.keras.layers.Concatenate()([resnet50_output_flattened, inceptionv3_output_flattened])\n",
    "\n",
    "    # Step 6: Final classification layer (Softmax for multi-class classification)\n",
    "    final_output = tf.keras.layers.Dense(4, activation = \"softmax\")(combined_features)\n",
    "\n",
    "    # Create the stacking model\n",
    "    stacking_model = tf.keras.models.Model(inputs = input_layer, outputs = final_output)\n",
    "    \n",
    "    return stacking_model\n"
   ]
  },
  {
   "cell_type": "code",
   "execution_count": 51,
   "metadata": {},
   "outputs": [],
   "source": [
    "stacking_model_1 = create_stacking_model_1(resnet50_model, inceptionv3_model)"
   ]
  },
  {
   "cell_type": "code",
   "execution_count": 52,
   "metadata": {},
   "outputs": [],
   "source": [
    "stacking_model_1.compile(\n",
    "    optimizer = tf.keras.optimizers.Adam(\n",
    "        learning_rate = tf.keras.optimizers.schedules.ExponentialDecay(\n",
    "            initial_learning_rate = 1e-4,\n",
    "            decay_steps = 1000,\n",
    "            decay_rate = 0.95\n",
    "        )\n",
    "    ), \n",
    "    loss = \"categorical_crossentropy\", \n",
    "    metrics = [tfa.metrics.F1Score(num_classes = 4)]\n",
    ")"
   ]
  },
  {
   "cell_type": "code",
   "execution_count": 53,
   "metadata": {},
   "outputs": [],
   "source": [
    "early_stopping = tf.keras.callbacks.EarlyStopping(\n",
    "    monitor = \"val_loss\", \n",
    "    patience = 10, \n",
    "    restore_best_weights = True\n",
    ")"
   ]
  },
  {
   "cell_type": "code",
   "execution_count": 54,
   "metadata": {},
   "outputs": [
    {
     "name": "stdout",
     "output_type": "stream",
     "text": [
      "Epoch 1/100\n",
      "71/71 [==============================] - 43s 543ms/step - loss: 1.0458 - f1_score: 0.5467 - val_loss: 1.0845 - val_f1_score: 0.3798\n",
      "Epoch 2/100\n",
      "71/71 [==============================] - 37s 518ms/step - loss: 1.0118 - f1_score: 0.5772 - val_loss: 1.0435 - val_f1_score: 0.4253\n",
      "Epoch 3/100\n",
      "71/71 [==============================] - 39s 548ms/step - loss: 0.9985 - f1_score: 0.5809 - val_loss: 0.9879 - val_f1_score: 0.5493\n",
      "Epoch 4/100\n",
      "71/71 [==============================] - 35s 495ms/step - loss: 0.9762 - f1_score: 0.5999 - val_loss: 0.9924 - val_f1_score: 0.4308\n",
      "Epoch 5/100\n",
      "71/71 [==============================] - 35s 487ms/step - loss: 0.9724 - f1_score: 0.6267 - val_loss: 0.9788 - val_f1_score: 0.6540\n",
      "Epoch 6/100\n",
      "71/71 [==============================] - 35s 495ms/step - loss: 0.9566 - f1_score: 0.6317 - val_loss: 0.9625 - val_f1_score: 0.4959\n",
      "Epoch 7/100\n",
      "71/71 [==============================] - 35s 484ms/step - loss: 0.9470 - f1_score: 0.6235 - val_loss: 0.9646 - val_f1_score: 0.4264\n",
      "Epoch 8/100\n",
      "71/71 [==============================] - 35s 489ms/step - loss: 0.9362 - f1_score: 0.6395 - val_loss: 0.9537 - val_f1_score: 0.6117\n",
      "Epoch 9/100\n",
      "71/71 [==============================] - 35s 485ms/step - loss: 0.9231 - f1_score: 0.6236 - val_loss: 0.9538 - val_f1_score: 0.6566\n",
      "Epoch 10/100\n",
      "71/71 [==============================] - 35s 492ms/step - loss: 0.9236 - f1_score: 0.6284 - val_loss: 0.9072 - val_f1_score: 0.6245\n",
      "Epoch 11/100\n",
      "71/71 [==============================] - 35s 485ms/step - loss: 0.9074 - f1_score: 0.6434 - val_loss: 0.9095 - val_f1_score: 0.6558\n",
      "Epoch 12/100\n",
      "71/71 [==============================] - 35s 490ms/step - loss: 0.8972 - f1_score: 0.6660 - val_loss: 0.8931 - val_f1_score: 0.5903\n",
      "Epoch 13/100\n",
      "71/71 [==============================] - 34s 484ms/step - loss: 0.8964 - f1_score: 0.6473 - val_loss: 0.9207 - val_f1_score: 0.5180\n",
      "Epoch 14/100\n",
      "71/71 [==============================] - 35s 487ms/step - loss: 0.8852 - f1_score: 0.6585 - val_loss: 0.9022 - val_f1_score: 0.4494\n",
      "Epoch 15/100\n",
      "71/71 [==============================] - 35s 489ms/step - loss: 0.8714 - f1_score: 0.6577 - val_loss: 0.8687 - val_f1_score: 0.5708\n",
      "Epoch 16/100\n",
      "71/71 [==============================] - 35s 487ms/step - loss: 0.8685 - f1_score: 0.6601 - val_loss: 0.9246 - val_f1_score: 0.6774\n",
      "Epoch 17/100\n",
      "71/71 [==============================] - 35s 488ms/step - loss: 0.8566 - f1_score: 0.6876 - val_loss: 0.8398 - val_f1_score: 0.7255\n",
      "Epoch 18/100\n",
      "71/71 [==============================] - 35s 493ms/step - loss: 0.8632 - f1_score: 0.6664 - val_loss: 0.8689 - val_f1_score: 0.6827\n",
      "Epoch 19/100\n",
      "71/71 [==============================] - 35s 485ms/step - loss: 0.8557 - f1_score: 0.6568 - val_loss: 0.8678 - val_f1_score: 0.7003\n",
      "Epoch 20/100\n",
      "71/71 [==============================] - 35s 487ms/step - loss: 0.8384 - f1_score: 0.6827 - val_loss: 0.8582 - val_f1_score: 0.5421\n",
      "Epoch 21/100\n",
      "71/71 [==============================] - 35s 490ms/step - loss: 0.8498 - f1_score: 0.6608 - val_loss: 0.8423 - val_f1_score: 0.6075\n",
      "Epoch 22/100\n",
      "71/71 [==============================] - 36s 512ms/step - loss: 0.8307 - f1_score: 0.6741 - val_loss: 0.8600 - val_f1_score: 0.5126\n",
      "Epoch 23/100\n",
      "71/71 [==============================] - 36s 506ms/step - loss: 0.8242 - f1_score: 0.6757 - val_loss: 0.8385 - val_f1_score: 0.6827\n",
      "Epoch 24/100\n",
      "71/71 [==============================] - 36s 499ms/step - loss: 0.8186 - f1_score: 0.6814 - val_loss: 0.8069 - val_f1_score: 0.6435\n",
      "Epoch 25/100\n",
      "71/71 [==============================] - 35s 486ms/step - loss: 0.8305 - f1_score: 0.6915 - val_loss: 0.8102 - val_f1_score: 0.6403\n",
      "Epoch 26/100\n",
      "71/71 [==============================] - 35s 489ms/step - loss: 0.7984 - f1_score: 0.7063 - val_loss: 0.8006 - val_f1_score: 0.6894\n",
      "Epoch 27/100\n",
      "71/71 [==============================] - 35s 489ms/step - loss: 0.8021 - f1_score: 0.6880 - val_loss: 0.7937 - val_f1_score: 0.6895\n",
      "Epoch 28/100\n",
      "71/71 [==============================] - 35s 487ms/step - loss: 0.8037 - f1_score: 0.6940 - val_loss: 0.7935 - val_f1_score: 0.7345\n",
      "Epoch 29/100\n",
      "71/71 [==============================] - 35s 485ms/step - loss: 0.7947 - f1_score: 0.7058 - val_loss: 0.7994 - val_f1_score: 0.6429\n",
      "Epoch 30/100\n",
      "71/71 [==============================] - 35s 490ms/step - loss: 0.7800 - f1_score: 0.7014 - val_loss: 0.7803 - val_f1_score: 0.6565\n",
      "Epoch 31/100\n",
      "71/71 [==============================] - 34s 483ms/step - loss: 0.7866 - f1_score: 0.6975 - val_loss: 0.7993 - val_f1_score: 0.6825\n",
      "Epoch 32/100\n",
      "71/71 [==============================] - 35s 488ms/step - loss: 0.7761 - f1_score: 0.6995 - val_loss: 0.7741 - val_f1_score: 0.6841\n",
      "Epoch 33/100\n",
      "71/71 [==============================] - 41s 577ms/step - loss: 0.7796 - f1_score: 0.6979 - val_loss: 0.7725 - val_f1_score: 0.6716\n",
      "Epoch 34/100\n",
      "71/71 [==============================] - 42s 584ms/step - loss: 0.7602 - f1_score: 0.7093 - val_loss: 0.7711 - val_f1_score: 0.6511\n",
      "Epoch 35/100\n",
      "71/71 [==============================] - 41s 583ms/step - loss: 0.7603 - f1_score: 0.7094 - val_loss: 0.7588 - val_f1_score: 0.7063\n",
      "Epoch 36/100\n",
      "71/71 [==============================] - 42s 591ms/step - loss: 0.7553 - f1_score: 0.7143 - val_loss: 0.7601 - val_f1_score: 0.7014\n",
      "Epoch 37/100\n",
      "71/71 [==============================] - 41s 576ms/step - loss: 0.7544 - f1_score: 0.7249 - val_loss: 0.7872 - val_f1_score: 0.7526\n",
      "Epoch 38/100\n",
      "71/71 [==============================] - 40s 563ms/step - loss: 0.7535 - f1_score: 0.7116 - val_loss: 0.7583 - val_f1_score: 0.7279\n",
      "Epoch 39/100\n",
      "71/71 [==============================] - 36s 499ms/step - loss: 0.7579 - f1_score: 0.7128 - val_loss: 0.7626 - val_f1_score: 0.5971\n",
      "Epoch 40/100\n",
      "71/71 [==============================] - 37s 526ms/step - loss: 0.7486 - f1_score: 0.7152 - val_loss: 0.7501 - val_f1_score: 0.6642\n",
      "Epoch 41/100\n",
      "71/71 [==============================] - 41s 583ms/step - loss: 0.7401 - f1_score: 0.7329 - val_loss: 0.7407 - val_f1_score: 0.7369\n",
      "Epoch 42/100\n",
      "71/71 [==============================] - 40s 566ms/step - loss: 0.7322 - f1_score: 0.7401 - val_loss: 0.7741 - val_f1_score: 0.5174\n",
      "Epoch 43/100\n",
      "71/71 [==============================] - 42s 588ms/step - loss: 0.7221 - f1_score: 0.7509 - val_loss: 0.7331 - val_f1_score: 0.7595\n",
      "Epoch 44/100\n",
      "71/71 [==============================] - 40s 567ms/step - loss: 0.7173 - f1_score: 0.7381 - val_loss: 0.7276 - val_f1_score: 0.7706\n",
      "Epoch 45/100\n",
      "71/71 [==============================] - 40s 561ms/step - loss: 0.7181 - f1_score: 0.7257 - val_loss: 0.7089 - val_f1_score: 0.6716\n",
      "Epoch 46/100\n",
      "71/71 [==============================] - 42s 595ms/step - loss: 0.7107 - f1_score: 0.7513 - val_loss: 0.7116 - val_f1_score: 0.7837\n",
      "Epoch 47/100\n",
      "71/71 [==============================] - 38s 531ms/step - loss: 0.7051 - f1_score: 0.7518 - val_loss: 0.7095 - val_f1_score: 0.7126\n",
      "Epoch 48/100\n",
      "71/71 [==============================] - 41s 573ms/step - loss: 0.7066 - f1_score: 0.7465 - val_loss: 0.7122 - val_f1_score: 0.7594\n",
      "Epoch 49/100\n",
      "71/71 [==============================] - 40s 562ms/step - loss: 0.7060 - f1_score: 0.7432 - val_loss: 0.7049 - val_f1_score: 0.6561\n",
      "Epoch 50/100\n",
      "71/71 [==============================] - 41s 570ms/step - loss: 0.6935 - f1_score: 0.7433 - val_loss: 0.7098 - val_f1_score: 0.6399\n",
      "Epoch 51/100\n",
      "71/71 [==============================] - 40s 563ms/step - loss: 0.6945 - f1_score: 0.7611 - val_loss: 0.7140 - val_f1_score: 0.7517\n",
      "Epoch 52/100\n",
      "71/71 [==============================] - 41s 572ms/step - loss: 0.6923 - f1_score: 0.7554 - val_loss: 0.6854 - val_f1_score: 0.7753\n",
      "Epoch 53/100\n",
      "71/71 [==============================] - 40s 566ms/step - loss: 0.6847 - f1_score: 0.7567 - val_loss: 0.6845 - val_f1_score: 0.7519\n",
      "Epoch 54/100\n",
      "71/71 [==============================] - 37s 527ms/step - loss: 0.6874 - f1_score: 0.7554 - val_loss: 0.6845 - val_f1_score: 0.7215\n",
      "Epoch 55/100\n",
      "71/71 [==============================] - 37s 522ms/step - loss: 0.6815 - f1_score: 0.7534 - val_loss: 0.7354 - val_f1_score: 0.4976\n",
      "Epoch 56/100\n",
      "71/71 [==============================] - 36s 511ms/step - loss: 0.6756 - f1_score: 0.7788 - val_loss: 0.6865 - val_f1_score: 0.7261\n",
      "Epoch 57/100\n",
      "71/71 [==============================] - 39s 550ms/step - loss: 0.6719 - f1_score: 0.7653 - val_loss: 0.6726 - val_f1_score: 0.7832\n",
      "Epoch 58/100\n",
      "71/71 [==============================] - 37s 524ms/step - loss: 0.6620 - f1_score: 0.7721 - val_loss: 0.6606 - val_f1_score: 0.7970\n",
      "Epoch 59/100\n",
      "71/71 [==============================] - 36s 505ms/step - loss: 0.6674 - f1_score: 0.7693 - val_loss: 0.6784 - val_f1_score: 0.6469\n",
      "Epoch 60/100\n",
      "71/71 [==============================] - 41s 579ms/step - loss: 0.6590 - f1_score: 0.7911 - val_loss: 0.6613 - val_f1_score: 0.8135\n",
      "Epoch 61/100\n",
      "71/71 [==============================] - 42s 584ms/step - loss: 0.6462 - f1_score: 0.7834 - val_loss: 0.6653 - val_f1_score: 0.7388\n",
      "Epoch 62/100\n",
      "71/71 [==============================] - 40s 561ms/step - loss: 0.6438 - f1_score: 0.7856 - val_loss: 0.6702 - val_f1_score: 0.7725\n",
      "Epoch 63/100\n",
      "71/71 [==============================] - 39s 552ms/step - loss: 0.6428 - f1_score: 0.7857 - val_loss: 0.6622 - val_f1_score: 0.7727\n",
      "Epoch 64/100\n",
      "71/71 [==============================] - 39s 541ms/step - loss: 0.6378 - f1_score: 0.7831 - val_loss: 0.6617 - val_f1_score: 0.7836\n",
      "Epoch 65/100\n",
      "71/71 [==============================] - 42s 594ms/step - loss: 0.6379 - f1_score: 0.7952 - val_loss: 0.6364 - val_f1_score: 0.7562\n",
      "Epoch 66/100\n",
      "71/71 [==============================] - 40s 556ms/step - loss: 0.6362 - f1_score: 0.8012 - val_loss: 0.6356 - val_f1_score: 0.7769\n",
      "Epoch 67/100\n",
      "71/71 [==============================] - 39s 554ms/step - loss: 0.6259 - f1_score: 0.7834 - val_loss: 0.6620 - val_f1_score: 0.7046\n",
      "Epoch 68/100\n",
      "71/71 [==============================] - 35s 497ms/step - loss: 0.6278 - f1_score: 0.8011 - val_loss: 0.6924 - val_f1_score: 0.5194\n",
      "Epoch 69/100\n",
      "71/71 [==============================] - 41s 573ms/step - loss: 0.6185 - f1_score: 0.7817 - val_loss: 0.6324 - val_f1_score: 0.7741\n",
      "Epoch 70/100\n",
      "71/71 [==============================] - 40s 559ms/step - loss: 0.6215 - f1_score: 0.7884 - val_loss: 0.6458 - val_f1_score: 0.7849\n",
      "Epoch 71/100\n",
      "71/71 [==============================] - 40s 559ms/step - loss: 0.6216 - f1_score: 0.7986 - val_loss: 0.6393 - val_f1_score: 0.7791\n",
      "Epoch 72/100\n",
      "71/71 [==============================] - 39s 547ms/step - loss: 0.6176 - f1_score: 0.7863 - val_loss: 0.6089 - val_f1_score: 0.7647\n",
      "Epoch 73/100\n",
      "71/71 [==============================] - 36s 503ms/step - loss: 0.6069 - f1_score: 0.7962 - val_loss: 0.6266 - val_f1_score: 0.6702\n",
      "Epoch 74/100\n",
      "71/71 [==============================] - 36s 501ms/step - loss: 0.6184 - f1_score: 0.7865 - val_loss: 0.5952 - val_f1_score: 0.8147\n",
      "Epoch 75/100\n",
      "71/71 [==============================] - 35s 495ms/step - loss: 0.6089 - f1_score: 0.8001 - val_loss: 0.6461 - val_f1_score: 0.8331\n",
      "Epoch 76/100\n",
      "71/71 [==============================] - 39s 547ms/step - loss: 0.6043 - f1_score: 0.7984 - val_loss: 0.5975 - val_f1_score: 0.8324\n",
      "Epoch 77/100\n",
      "71/71 [==============================] - 38s 537ms/step - loss: 0.6040 - f1_score: 0.8053 - val_loss: 0.6139 - val_f1_score: 0.7834\n",
      "Epoch 78/100\n",
      "71/71 [==============================] - 40s 556ms/step - loss: 0.6012 - f1_score: 0.8030 - val_loss: 0.5923 - val_f1_score: 0.7817\n",
      "Epoch 79/100\n",
      "71/71 [==============================] - 35s 495ms/step - loss: 0.5965 - f1_score: 0.8140 - val_loss: 0.6078 - val_f1_score: 0.7665\n",
      "Epoch 80/100\n",
      "71/71 [==============================] - 35s 493ms/step - loss: 0.5952 - f1_score: 0.8115 - val_loss: 0.6477 - val_f1_score: 0.6636\n",
      "Epoch 81/100\n",
      "71/71 [==============================] - 35s 489ms/step - loss: 0.6004 - f1_score: 0.7978 - val_loss: 0.6080 - val_f1_score: 0.8405\n",
      "Epoch 82/100\n",
      "71/71 [==============================] - 35s 495ms/step - loss: 0.5849 - f1_score: 0.8137 - val_loss: 0.5877 - val_f1_score: 0.7866\n",
      "Epoch 83/100\n",
      "71/71 [==============================] - 38s 541ms/step - loss: 0.5984 - f1_score: 0.8206 - val_loss: 0.5902 - val_f1_score: 0.7529\n",
      "Epoch 84/100\n",
      "71/71 [==============================] - 43s 608ms/step - loss: 0.5758 - f1_score: 0.8265 - val_loss: 0.6174 - val_f1_score: 0.8214\n",
      "Epoch 85/100\n",
      "71/71 [==============================] - 40s 569ms/step - loss: 0.5797 - f1_score: 0.8163 - val_loss: 0.6504 - val_f1_score: 0.5643\n",
      "Epoch 86/100\n",
      "71/71 [==============================] - 38s 532ms/step - loss: 0.5763 - f1_score: 0.8227 - val_loss: 0.5758 - val_f1_score: 0.7757\n",
      "Epoch 87/100\n",
      "71/71 [==============================] - 35s 492ms/step - loss: 0.5800 - f1_score: 0.8252 - val_loss: 0.5582 - val_f1_score: 0.7917\n",
      "Epoch 88/100\n",
      "71/71 [==============================] - 35s 487ms/step - loss: 0.5712 - f1_score: 0.8202 - val_loss: 0.5873 - val_f1_score: 0.7012\n",
      "Epoch 89/100\n",
      "71/71 [==============================] - 35s 492ms/step - loss: 0.5767 - f1_score: 0.8181 - val_loss: 0.5771 - val_f1_score: 0.8311\n",
      "Epoch 90/100\n",
      "71/71 [==============================] - 35s 495ms/step - loss: 0.5635 - f1_score: 0.8232 - val_loss: 0.5795 - val_f1_score: 0.8161\n",
      "Epoch 91/100\n",
      "71/71 [==============================] - 35s 490ms/step - loss: 0.5558 - f1_score: 0.8340 - val_loss: 0.5962 - val_f1_score: 0.8034\n",
      "Epoch 92/100\n",
      "71/71 [==============================] - 36s 510ms/step - loss: 0.5556 - f1_score: 0.8284 - val_loss: 0.5711 - val_f1_score: 0.8154\n",
      "Epoch 93/100\n",
      "71/71 [==============================] - 35s 487ms/step - loss: 0.5505 - f1_score: 0.8424 - val_loss: 0.5623 - val_f1_score: 0.8276\n",
      "Epoch 94/100\n",
      "71/71 [==============================] - 35s 489ms/step - loss: 0.5526 - f1_score: 0.8300 - val_loss: 0.5826 - val_f1_score: 0.7189\n",
      "Epoch 95/100\n",
      "71/71 [==============================] - 35s 493ms/step - loss: 0.5541 - f1_score: 0.8358 - val_loss: 0.5549 - val_f1_score: 0.7048\n",
      "Epoch 96/100\n",
      "71/71 [==============================] - 35s 492ms/step - loss: 0.5520 - f1_score: 0.8377 - val_loss: 0.5680 - val_f1_score: 0.7765\n",
      "Epoch 97/100\n",
      "71/71 [==============================] - 35s 492ms/step - loss: 0.5451 - f1_score: 0.8387 - val_loss: 0.5691 - val_f1_score: 0.7634\n",
      "Epoch 98/100\n",
      "71/71 [==============================] - 35s 491ms/step - loss: 0.5431 - f1_score: 0.8428 - val_loss: 0.5441 - val_f1_score: 0.7978\n",
      "Epoch 99/100\n",
      "71/71 [==============================] - 37s 526ms/step - loss: 0.5497 - f1_score: 0.8468 - val_loss: 0.5495 - val_f1_score: 0.7596\n",
      "Epoch 100/100\n",
      "71/71 [==============================] - 36s 511ms/step - loss: 0.5308 - f1_score: 0.8606 - val_loss: 0.5586 - val_f1_score: 0.8059\n"
     ]
    }
   ],
   "source": [
    "stacking_model_1_history = stacking_model_1.fit(\n",
    "    train_set,\n",
    "    validation_data = valid_set,\n",
    "    epochs = 100,\n",
    "    callbacks = [early_stopping]\n",
    ")"
   ]
  },
  {
   "cell_type": "code",
   "execution_count": null,
   "metadata": {},
   "outputs": [],
   "source": [
    "stacking_model_1.save(\"models/stacking_model_1.h5\")"
   ]
  },
  {
   "cell_type": "markdown",
   "metadata": {},
   "source": [
    "b. Stacking Model-2"
   ]
  },
  {
   "cell_type": "markdown",
   "metadata": {},
   "source": [
    "- Base Learner: Inception V3\n",
    "- Meta Learner: ResNet-50"
   ]
  },
  {
   "cell_type": "code",
   "execution_count": 66,
   "metadata": {},
   "outputs": [],
   "source": [
    "def create_stacking_model_2(resnet50_model, inceptionv3_model):\n",
    "    # Step 1: Input for both models (same input shape)\n",
    "    input_layer = tf.keras.layers.Input(shape = (299, 299, 3))\n",
    "\n",
    "    # Step 2: Pass input through InceptionV3 base model\n",
    "    inceptionv3_output = inceptionv3_model(input_layer)\n",
    "\n",
    "    # Step 3: Pass the same input through ResNet50 model (meta-learner)\n",
    "    resnet50_output = resnet50_model(input_layer)\n",
    "\n",
    "    # Step 4: Flatten both outputs\n",
    "    inceptionv3_output_flattened = tf.keras.layers.Flatten()(inceptionv3_output)\n",
    "    resnet50_output_flattened = tf.keras.layers.Flatten()(resnet50_output)\n",
    "\n",
    "    # Step 5: Concatenate the flattened outputs of both models\n",
    "    combined_features = tf.keras.layers.Concatenate()([inceptionv3_output_flattened, resnet50_output_flattened])\n",
    "\n",
    "    # Step 6: Final classification layer (Softmax for multi-class classification)\n",
    "    final_output = tf.keras.layers.Dense(4, activation = \"softmax\")(combined_features)\n",
    "\n",
    "    # Create the stacking model\n",
    "    stacking_model = tf.keras.models.Model(inputs = input_layer, outputs = final_output)\n",
    "    \n",
    "    return stacking_model    "
   ]
  },
  {
   "cell_type": "code",
   "execution_count": 67,
   "metadata": {},
   "outputs": [],
   "source": [
    "stacking_model_2 = create_stacking_model_2(resnet50_model, inceptionv3_model)"
   ]
  },
  {
   "cell_type": "code",
   "execution_count": 68,
   "metadata": {},
   "outputs": [],
   "source": [
    "stacking_model_2.compile(\n",
    "    optimizer = tf.keras.optimizers.Adam(\n",
    "        learning_rate = tf.keras.optimizers.schedules.ExponentialDecay(\n",
    "            initial_learning_rate = 1e-4,\n",
    "            decay_steps = 1000,\n",
    "            decay_rate = 0.95\n",
    "        )\n",
    "    ), \n",
    "    loss = \"categorical_crossentropy\", \n",
    "    metrics = [tfa.metrics.F1Score(num_classes = 4)]\n",
    ")"
   ]
  },
  {
   "cell_type": "code",
   "execution_count": 69,
   "metadata": {},
   "outputs": [
    {
     "name": "stdout",
     "output_type": "stream",
     "text": [
      "Epoch 1/100\n",
      "71/71 [==============================] - 42s 536ms/step - loss: 1.3943 - f1_score: 0.2078 - val_loss: 1.2566 - val_f1_score: 0.2347\n",
      "Epoch 2/100\n",
      "71/71 [==============================] - 35s 488ms/step - loss: 1.2064 - f1_score: 0.3303 - val_loss: 1.3074 - val_f1_score: 0.2536\n",
      "Epoch 3/100\n",
      "71/71 [==============================] - 36s 502ms/step - loss: 1.1643 - f1_score: 0.3417 - val_loss: 1.2659 - val_f1_score: 0.2903\n",
      "Epoch 4/100\n",
      "71/71 [==============================] - 36s 503ms/step - loss: 1.1323 - f1_score: 0.3578 - val_loss: 1.1773 - val_f1_score: 0.3355\n",
      "Epoch 5/100\n",
      "71/71 [==============================] - 36s 508ms/step - loss: 1.1186 - f1_score: 0.3565 - val_loss: 1.0874 - val_f1_score: 0.3713\n",
      "Epoch 6/100\n",
      "71/71 [==============================] - 40s 563ms/step - loss: 1.1100 - f1_score: 0.3594 - val_loss: 1.0727 - val_f1_score: 0.3741\n",
      "Epoch 7/100\n",
      "71/71 [==============================] - 40s 562ms/step - loss: 1.0964 - f1_score: 0.3664 - val_loss: 1.0468 - val_f1_score: 0.3807\n",
      "Epoch 8/100\n",
      "71/71 [==============================] - 38s 541ms/step - loss: 1.0832 - f1_score: 0.3660 - val_loss: 1.0515 - val_f1_score: 0.3682\n",
      "Epoch 9/100\n",
      "71/71 [==============================] - 37s 518ms/step - loss: 1.0750 - f1_score: 0.3679 - val_loss: 1.1167 - val_f1_score: 0.3786\n",
      "Epoch 10/100\n",
      "71/71 [==============================] - 40s 566ms/step - loss: 1.0583 - f1_score: 0.3721 - val_loss: 1.0481 - val_f1_score: 0.3920\n",
      "Epoch 11/100\n",
      "71/71 [==============================] - 38s 537ms/step - loss: 1.0563 - f1_score: 0.3693 - val_loss: 1.0347 - val_f1_score: 0.3321\n",
      "Epoch 12/100\n",
      "71/71 [==============================] - 40s 567ms/step - loss: 1.0509 - f1_score: 0.3706 - val_loss: 0.9989 - val_f1_score: 0.3793\n",
      "Epoch 13/100\n",
      "71/71 [==============================] - 41s 574ms/step - loss: 1.0401 - f1_score: 0.3724 - val_loss: 1.0021 - val_f1_score: 0.3725\n",
      "Epoch 14/100\n",
      "71/71 [==============================] - 36s 504ms/step - loss: 1.0376 - f1_score: 0.3741 - val_loss: 0.9902 - val_f1_score: 0.3766\n",
      "Epoch 15/100\n",
      "71/71 [==============================] - 36s 501ms/step - loss: 1.0263 - f1_score: 0.3725 - val_loss: 0.9768 - val_f1_score: 0.3955\n",
      "Epoch 16/100\n",
      "71/71 [==============================] - 35s 497ms/step - loss: 1.0228 - f1_score: 0.3752 - val_loss: 0.9764 - val_f1_score: 0.3717\n",
      "Epoch 17/100\n",
      "71/71 [==============================] - 36s 499ms/step - loss: 1.0097 - f1_score: 0.3826 - val_loss: 0.9720 - val_f1_score: 0.3975\n",
      "Epoch 18/100\n",
      "71/71 [==============================] - 35s 495ms/step - loss: 1.0050 - f1_score: 0.3825 - val_loss: 0.9607 - val_f1_score: 0.3843\n",
      "Epoch 19/100\n",
      "71/71 [==============================] - 35s 487ms/step - loss: 1.0033 - f1_score: 0.3796 - val_loss: 0.9657 - val_f1_score: 0.3675\n",
      "Epoch 20/100\n",
      "71/71 [==============================] - 35s 495ms/step - loss: 0.9939 - f1_score: 0.3817 - val_loss: 0.9419 - val_f1_score: 0.3924\n",
      "Epoch 21/100\n",
      "71/71 [==============================] - 35s 490ms/step - loss: 0.9865 - f1_score: 0.3831 - val_loss: 0.9531 - val_f1_score: 0.4002\n",
      "Epoch 22/100\n",
      "71/71 [==============================] - 36s 502ms/step - loss: 0.9837 - f1_score: 0.3824 - val_loss: 0.9479 - val_f1_score: 0.3833\n",
      "Epoch 23/100\n",
      "71/71 [==============================] - 35s 498ms/step - loss: 0.9755 - f1_score: 0.3870 - val_loss: 0.9242 - val_f1_score: 0.3999\n",
      "Epoch 24/100\n",
      "71/71 [==============================] - 35s 496ms/step - loss: 0.9717 - f1_score: 0.3899 - val_loss: 0.9287 - val_f1_score: 0.4029\n",
      "Epoch 25/100\n",
      "71/71 [==============================] - 38s 529ms/step - loss: 0.9651 - f1_score: 0.3878 - val_loss: 0.9187 - val_f1_score: 0.3880\n",
      "Epoch 26/100\n",
      "71/71 [==============================] - 34s 483ms/step - loss: 0.9629 - f1_score: 0.3879 - val_loss: 0.9163 - val_f1_score: 0.4147\n",
      "Epoch 27/100\n",
      "71/71 [==============================] - 34s 481ms/step - loss: 0.9617 - f1_score: 0.3892 - val_loss: 0.9296 - val_f1_score: 0.4107\n",
      "Epoch 28/100\n",
      "71/71 [==============================] - 36s 508ms/step - loss: 0.9542 - f1_score: 0.3936 - val_loss: 0.9178 - val_f1_score: 0.4119\n",
      "Epoch 29/100\n",
      "71/71 [==============================] - 41s 574ms/step - loss: 0.9483 - f1_score: 0.3918 - val_loss: 0.9034 - val_f1_score: 0.3973\n",
      "Epoch 30/100\n",
      "71/71 [==============================] - 40s 566ms/step - loss: 0.9476 - f1_score: 0.3941 - val_loss: 0.9407 - val_f1_score: 0.4120\n",
      "Epoch 31/100\n",
      "71/71 [==============================] - 40s 558ms/step - loss: 0.9427 - f1_score: 0.3943 - val_loss: 0.9558 - val_f1_score: 0.4172\n",
      "Epoch 32/100\n",
      "71/71 [==============================] - 37s 518ms/step - loss: 0.9410 - f1_score: 0.3915 - val_loss: 0.8990 - val_f1_score: 0.4140\n",
      "Epoch 33/100\n",
      "71/71 [==============================] - 36s 504ms/step - loss: 0.9375 - f1_score: 0.3911 - val_loss: 0.8794 - val_f1_score: 0.4047\n",
      "Epoch 34/100\n",
      "71/71 [==============================] - 38s 530ms/step - loss: 0.9264 - f1_score: 0.3965 - val_loss: 0.8880 - val_f1_score: 0.3904\n",
      "Epoch 35/100\n",
      "71/71 [==============================] - 40s 561ms/step - loss: 0.9222 - f1_score: 0.3978 - val_loss: 0.8952 - val_f1_score: 0.3861\n",
      "Epoch 36/100\n",
      "71/71 [==============================] - 40s 563ms/step - loss: 0.9269 - f1_score: 0.3948 - val_loss: 0.8908 - val_f1_score: 0.3786\n",
      "Epoch 37/100\n",
      "71/71 [==============================] - 38s 540ms/step - loss: 0.9195 - f1_score: 0.3985 - val_loss: 0.8807 - val_f1_score: 0.3823\n",
      "Epoch 38/100\n",
      "71/71 [==============================] - 38s 535ms/step - loss: 0.9225 - f1_score: 0.3964 - val_loss: 0.8524 - val_f1_score: 0.4040\n",
      "Epoch 39/100\n",
      "71/71 [==============================] - 40s 562ms/step - loss: 0.9144 - f1_score: 0.4016 - val_loss: 0.8474 - val_f1_score: 0.4052\n",
      "Epoch 40/100\n",
      "71/71 [==============================] - 38s 535ms/step - loss: 0.9114 - f1_score: 0.3993 - val_loss: 0.8599 - val_f1_score: 0.4273\n",
      "Epoch 41/100\n",
      "71/71 [==============================] - 36s 502ms/step - loss: 0.9042 - f1_score: 0.4034 - val_loss: 0.8540 - val_f1_score: 0.4202\n",
      "Epoch 42/100\n",
      "71/71 [==============================] - 36s 512ms/step - loss: 0.9021 - f1_score: 0.4010 - val_loss: 0.8601 - val_f1_score: 0.4235\n",
      "Epoch 43/100\n",
      "71/71 [==============================] - 40s 565ms/step - loss: 0.9007 - f1_score: 0.4044 - val_loss: 0.8524 - val_f1_score: 0.4105\n",
      "Epoch 44/100\n",
      "71/71 [==============================] - 41s 576ms/step - loss: 0.8928 - f1_score: 0.4037 - val_loss: 0.8472 - val_f1_score: 0.4158\n",
      "Epoch 45/100\n",
      "71/71 [==============================] - 40s 569ms/step - loss: 0.8982 - f1_score: 0.4013 - val_loss: 0.8436 - val_f1_score: 0.4143\n",
      "Epoch 46/100\n",
      "71/71 [==============================] - 40s 563ms/step - loss: 0.8909 - f1_score: 0.4013 - val_loss: 0.8392 - val_f1_score: 0.4210\n",
      "Epoch 47/100\n",
      "71/71 [==============================] - 40s 565ms/step - loss: 0.8827 - f1_score: 0.4065 - val_loss: 0.8331 - val_f1_score: 0.4167\n",
      "Epoch 48/100\n",
      "71/71 [==============================] - 40s 562ms/step - loss: 0.8777 - f1_score: 0.4064 - val_loss: 0.8210 - val_f1_score: 0.4202\n",
      "Epoch 49/100\n",
      "71/71 [==============================] - 40s 564ms/step - loss: 0.8720 - f1_score: 0.4080 - val_loss: 0.8139 - val_f1_score: 0.4200\n",
      "Epoch 50/100\n",
      "71/71 [==============================] - 40s 558ms/step - loss: 0.8665 - f1_score: 0.4063 - val_loss: 0.8400 - val_f1_score: 0.4081\n",
      "Epoch 51/100\n",
      "71/71 [==============================] - 41s 581ms/step - loss: 0.8710 - f1_score: 0.4073 - val_loss: 0.8055 - val_f1_score: 0.4273\n",
      "Epoch 52/100\n",
      "71/71 [==============================] - 40s 560ms/step - loss: 0.8708 - f1_score: 0.4046 - val_loss: 0.8324 - val_f1_score: 0.4148\n",
      "Epoch 53/100\n",
      "71/71 [==============================] - 41s 571ms/step - loss: 0.8629 - f1_score: 0.4101 - val_loss: 0.8189 - val_f1_score: 0.4271\n",
      "Epoch 54/100\n",
      "71/71 [==============================] - 41s 580ms/step - loss: 0.8628 - f1_score: 0.4086 - val_loss: 0.8489 - val_f1_score: 0.4150\n",
      "Epoch 55/100\n",
      "71/71 [==============================] - 40s 560ms/step - loss: 0.8556 - f1_score: 0.4128 - val_loss: 0.8319 - val_f1_score: 0.4194\n",
      "Epoch 56/100\n",
      "71/71 [==============================] - 40s 569ms/step - loss: 0.8467 - f1_score: 0.4088 - val_loss: 0.8116 - val_f1_score: 0.4212\n",
      "Epoch 57/100\n",
      "71/71 [==============================] - 41s 577ms/step - loss: 0.8532 - f1_score: 0.4100 - val_loss: 0.8173 - val_f1_score: 0.4156\n",
      "Epoch 58/100\n",
      "71/71 [==============================] - 39s 552ms/step - loss: 0.8516 - f1_score: 0.4088 - val_loss: 0.8024 - val_f1_score: 0.4230\n",
      "Epoch 59/100\n",
      "71/71 [==============================] - 40s 567ms/step - loss: 0.8483 - f1_score: 0.4101 - val_loss: 0.7856 - val_f1_score: 0.4268\n",
      "Epoch 60/100\n",
      "71/71 [==============================] - 40s 565ms/step - loss: 0.8377 - f1_score: 0.4128 - val_loss: 0.7884 - val_f1_score: 0.4311\n",
      "Epoch 61/100\n",
      "71/71 [==============================] - 41s 573ms/step - loss: 0.8377 - f1_score: 0.4110 - val_loss: 0.7775 - val_f1_score: 0.4268\n",
      "Epoch 62/100\n",
      "71/71 [==============================] - 40s 560ms/step - loss: 0.8335 - f1_score: 0.4116 - val_loss: 0.7911 - val_f1_score: 0.4224\n",
      "Epoch 63/100\n",
      "71/71 [==============================] - 37s 521ms/step - loss: 0.8293 - f1_score: 0.4150 - val_loss: 0.7748 - val_f1_score: 0.4249\n",
      "Epoch 64/100\n",
      "71/71 [==============================] - 41s 575ms/step - loss: 0.8396 - f1_score: 0.4084 - val_loss: 0.7944 - val_f1_score: 0.4212\n",
      "Epoch 65/100\n",
      "71/71 [==============================] - 40s 561ms/step - loss: 0.8231 - f1_score: 0.4115 - val_loss: 0.7794 - val_f1_score: 0.4209\n",
      "Epoch 66/100\n",
      "71/71 [==============================] - 40s 558ms/step - loss: 0.8271 - f1_score: 0.4125 - val_loss: 0.7808 - val_f1_score: 0.4189\n",
      "Epoch 67/100\n",
      "71/71 [==============================] - 40s 564ms/step - loss: 0.8270 - f1_score: 0.4118 - val_loss: 0.7749 - val_f1_score: 0.4305\n",
      "Epoch 68/100\n",
      "71/71 [==============================] - 41s 577ms/step - loss: 0.8228 - f1_score: 0.4138 - val_loss: 0.7613 - val_f1_score: 0.4232\n",
      "Epoch 69/100\n",
      "71/71 [==============================] - 40s 565ms/step - loss: 0.8157 - f1_score: 0.4129 - val_loss: 0.7644 - val_f1_score: 0.4168\n",
      "Epoch 70/100\n",
      "71/71 [==============================] - 41s 573ms/step - loss: 0.8126 - f1_score: 0.4092 - val_loss: 0.7884 - val_f1_score: 0.4182\n",
      "Epoch 71/100\n",
      "71/71 [==============================] - 36s 507ms/step - loss: 0.8114 - f1_score: 0.4120 - val_loss: 0.7498 - val_f1_score: 0.4199\n",
      "Epoch 72/100\n",
      "71/71 [==============================] - 36s 509ms/step - loss: 0.8104 - f1_score: 0.4124 - val_loss: 0.7467 - val_f1_score: 0.4291\n",
      "Epoch 73/100\n",
      "71/71 [==============================] - 36s 498ms/step - loss: 0.8040 - f1_score: 0.4138 - val_loss: 0.7729 - val_f1_score: 0.4190\n",
      "Epoch 74/100\n",
      "71/71 [==============================] - 35s 496ms/step - loss: 0.8080 - f1_score: 0.4119 - val_loss: 0.7690 - val_f1_score: 0.4276\n",
      "Epoch 75/100\n",
      "71/71 [==============================] - 35s 492ms/step - loss: 0.8053 - f1_score: 0.4137 - val_loss: 0.7911 - val_f1_score: 0.4196\n",
      "Epoch 76/100\n",
      "71/71 [==============================] - 35s 497ms/step - loss: 0.7947 - f1_score: 0.4170 - val_loss: 0.7624 - val_f1_score: 0.4211\n",
      "Epoch 77/100\n",
      "71/71 [==============================] - 35s 494ms/step - loss: 0.8017 - f1_score: 0.4120 - val_loss: 0.7473 - val_f1_score: 0.4292\n",
      "Epoch 78/100\n",
      "71/71 [==============================] - 35s 494ms/step - loss: 0.7830 - f1_score: 0.4183 - val_loss: 0.7681 - val_f1_score: 0.4201\n",
      "Epoch 79/100\n",
      "71/71 [==============================] - 35s 496ms/step - loss: 0.7953 - f1_score: 0.4137 - val_loss: 0.7427 - val_f1_score: 0.4271\n",
      "Epoch 80/100\n",
      "71/71 [==============================] - 36s 499ms/step - loss: 0.7828 - f1_score: 0.4184 - val_loss: 0.7261 - val_f1_score: 0.4291\n",
      "Epoch 81/100\n",
      "71/71 [==============================] - 38s 541ms/step - loss: 0.7920 - f1_score: 0.4115 - val_loss: 0.7417 - val_f1_score: 0.4278\n",
      "Epoch 82/100\n",
      "71/71 [==============================] - 40s 555ms/step - loss: 0.7816 - f1_score: 0.4146 - val_loss: 0.7449 - val_f1_score: 0.4225\n",
      "Epoch 83/100\n",
      "71/71 [==============================] - 41s 571ms/step - loss: 0.7829 - f1_score: 0.4155 - val_loss: 0.7239 - val_f1_score: 0.4269\n",
      "Epoch 84/100\n",
      "71/71 [==============================] - 40s 567ms/step - loss: 0.7729 - f1_score: 0.4140 - val_loss: 0.7407 - val_f1_score: 0.4156\n",
      "Epoch 85/100\n",
      "71/71 [==============================] - 40s 563ms/step - loss: 0.7887 - f1_score: 0.4092 - val_loss: 0.7827 - val_f1_score: 0.4244\n",
      "Epoch 86/100\n",
      "71/71 [==============================] - 40s 564ms/step - loss: 0.7768 - f1_score: 0.4176 - val_loss: 0.8189 - val_f1_score: 0.4170\n",
      "Epoch 87/100\n",
      "71/71 [==============================] - 40s 558ms/step - loss: 0.7811 - f1_score: 0.4149 - val_loss: 0.7340 - val_f1_score: 0.4181\n",
      "Epoch 88/100\n",
      "71/71 [==============================] - 40s 564ms/step - loss: 0.7691 - f1_score: 0.4153 - val_loss: 0.7168 - val_f1_score: 0.4246\n",
      "Epoch 89/100\n",
      "71/71 [==============================] - 40s 568ms/step - loss: 0.7721 - f1_score: 0.4175 - val_loss: 0.7207 - val_f1_score: 0.4225\n",
      "Epoch 90/100\n",
      "71/71 [==============================] - 36s 499ms/step - loss: 0.7560 - f1_score: 0.4193 - val_loss: 0.7209 - val_f1_score: 0.4208\n",
      "Epoch 91/100\n",
      "71/71 [==============================] - 36s 500ms/step - loss: 0.7649 - f1_score: 0.4155 - val_loss: 0.7269 - val_f1_score: 0.4237\n",
      "Epoch 92/100\n",
      "71/71 [==============================] - 36s 508ms/step - loss: 0.7542 - f1_score: 0.4170 - val_loss: 0.7268 - val_f1_score: 0.4316\n",
      "Epoch 93/100\n",
      "71/71 [==============================] - 35s 493ms/step - loss: 0.7527 - f1_score: 0.4179 - val_loss: 0.7606 - val_f1_score: 0.4233\n",
      "Epoch 94/100\n",
      "71/71 [==============================] - 36s 506ms/step - loss: 0.7584 - f1_score: 0.4181 - val_loss: 0.7163 - val_f1_score: 0.4262\n",
      "Epoch 95/100\n",
      "71/71 [==============================] - 40s 562ms/step - loss: 0.7637 - f1_score: 0.4130 - val_loss: 0.7037 - val_f1_score: 0.4261\n",
      "Epoch 96/100\n",
      "71/71 [==============================] - 39s 553ms/step - loss: 0.7389 - f1_score: 0.4201 - val_loss: 0.7171 - val_f1_score: 0.4253\n",
      "Epoch 97/100\n",
      "71/71 [==============================] - 40s 565ms/step - loss: 0.7499 - f1_score: 0.4155 - val_loss: 0.6785 - val_f1_score: 0.4329\n",
      "Epoch 98/100\n",
      "71/71 [==============================] - 37s 519ms/step - loss: 0.7399 - f1_score: 0.4161 - val_loss: 0.7115 - val_f1_score: 0.4335\n",
      "Epoch 99/100\n",
      "71/71 [==============================] - 36s 500ms/step - loss: 0.7370 - f1_score: 0.4216 - val_loss: 0.7179 - val_f1_score: 0.4288\n",
      "Epoch 100/100\n",
      "71/71 [==============================] - 36s 499ms/step - loss: 0.7457 - f1_score: 0.4192 - val_loss: 0.6900 - val_f1_score: 0.4274\n"
     ]
    }
   ],
   "source": [
    "stacking_model_2_history = stacking_model_2.fit(\n",
    "    train_set,\n",
    "    validation_data = valid_set,\n",
    "    epochs = 100,\n",
    "    callbacks = [early_stopping]\n",
    ")"
   ]
  },
  {
   "cell_type": "code",
   "execution_count": null,
   "metadata": {},
   "outputs": [],
   "source": [
    "stacking_model_2.save(\"models/stacking_model_2.keras\")"
   ]
  },
  {
   "cell_type": "markdown",
   "metadata": {},
   "source": [
    "### E. Model Evaluation"
   ]
  },
  {
   "cell_type": "code",
   "execution_count": null,
   "metadata": {},
   "outputs": [],
   "source": [
    "import numpy as np\n"
   ]
  },
  {
   "cell_type": "code",
   "execution_count": 61,
   "metadata": {},
   "outputs": [],
   "source": [
    "y_true = test_set.classes\n",
    "classes = [\"carton box\", \"opened carton box\", \"wet carton box\", \"cracked carton box\"]"
   ]
  },
  {
   "cell_type": "code",
   "execution_count": 62,
   "metadata": {},
   "outputs": [],
   "source": [
    "y_true_one_hot = tf.keras.utils.to_categorical(y_true, num_classes = 4)"
   ]
  },
  {
   "cell_type": "markdown",
   "metadata": {},
   "source": [
    "##### 1. Baseline CNN"
   ]
  },
  {
   "cell_type": "code",
   "execution_count": 48,
   "metadata": {},
   "outputs": [
    {
     "name": "stdout",
     "output_type": "stream",
     "text": [
      "13/13 [==============================] - 3s 228ms/step\n"
     ]
    }
   ],
   "source": [
    "y_prob_baseline_cnn = cnn.predict(test_set)"
   ]
  },
  {
   "cell_type": "code",
   "execution_count": 49,
   "metadata": {},
   "outputs": [],
   "source": [
    "y_pred_baseline_cnn = np.argmax(y_prob_baseline_cnn, axis = 1)"
   ]
  },
  {
   "cell_type": "code",
   "execution_count": 50,
   "metadata": {},
   "outputs": [
    {
     "name": "stdout",
     "output_type": "stream",
     "text": [
      "                    precision    recall  f1-score   support\n",
      "\n",
      "        carton box       0.74      0.91      0.82       180\n",
      " opened carton box       0.15      0.06      0.08        36\n",
      "    wet carton box       0.52      0.54      0.53        28\n",
      "cracked carton box       0.81      0.71      0.76       153\n",
      "\n",
      "          accuracy                           0.73       397\n",
      "         macro avg       0.56      0.55      0.55       397\n",
      "      weighted avg       0.70      0.73      0.71       397\n",
      "\n"
     ]
    }
   ],
   "source": [
    "print(classification_report(y_true, y_pred_baseline_cnn, target_names = classes))"
   ]
  },
  {
   "cell_type": "code",
   "execution_count": 51,
   "metadata": {},
   "outputs": [
    {
     "name": "stdout",
     "output_type": "stream",
     "text": [
      "[[164   5   1  10]\n",
      " [ 24   2   0  10]\n",
      " [  7   1  15   5]\n",
      " [ 26   5  13 109]]\n"
     ]
    }
   ],
   "source": [
    "print(confusion_matrix(y_true, y_pred_baseline_cnn))"
   ]
  },
  {
   "cell_type": "markdown",
   "metadata": {},
   "source": [
    "##### 2. ResNet-50"
   ]
  },
  {
   "cell_type": "code",
   "execution_count": 52,
   "metadata": {},
   "outputs": [
    {
     "name": "stdout",
     "output_type": "stream",
     "text": [
      "13/13 [==============================] - 2s 145ms/step\n"
     ]
    }
   ],
   "source": [
    "y_prob_resnet50 = resnet50_model.predict(test_set)"
   ]
  },
  {
   "cell_type": "code",
   "execution_count": 53,
   "metadata": {},
   "outputs": [],
   "source": [
    "y_pred_resnet50 = np.argmax(y_prob_resnet50, axis = 1)"
   ]
  },
  {
   "cell_type": "code",
   "execution_count": 54,
   "metadata": {},
   "outputs": [
    {
     "name": "stdout",
     "output_type": "stream",
     "text": [
      "                    precision    recall  f1-score   support\n",
      "\n",
      "        carton box       0.72      0.83      0.77       180\n",
      " opened carton box       0.25      0.17      0.20        36\n",
      "    wet carton box       0.29      0.07      0.11        28\n",
      "cracked carton box       0.74      0.78      0.76       153\n",
      "\n",
      "          accuracy                           0.70       397\n",
      "         macro avg       0.50      0.46      0.46       397\n",
      "      weighted avg       0.66      0.70      0.67       397\n",
      "\n"
     ]
    }
   ],
   "source": [
    "print(classification_report(y_true, y_pred_resnet50, target_names = classes))"
   ]
  },
  {
   "cell_type": "code",
   "execution_count": 55,
   "metadata": {},
   "outputs": [
    {
     "name": "stdout",
     "output_type": "stream",
     "text": [
      "[[149   8   3  20]\n",
      " [ 19   6   0  11]\n",
      " [ 14   2   2  10]\n",
      " [ 24   8   2 119]]\n"
     ]
    }
   ],
   "source": [
    "print(confusion_matrix(y_true, y_pred_resnet50))"
   ]
  },
  {
   "cell_type": "markdown",
   "metadata": {},
   "source": [
    "##### 3. Inception V3"
   ]
  },
  {
   "cell_type": "code",
   "execution_count": 56,
   "metadata": {},
   "outputs": [
    {
     "name": "stdout",
     "output_type": "stream",
     "text": [
      "13/13 [==============================] - 2s 112ms/step\n"
     ]
    }
   ],
   "source": [
    "y_prob_inceptionv3 = inceptionv3_model.predict(test_set)"
   ]
  },
  {
   "cell_type": "code",
   "execution_count": 57,
   "metadata": {},
   "outputs": [],
   "source": [
    "y_pred_inceptionv3 = np.argmax(y_prob_inceptionv3, axis = 1)"
   ]
  },
  {
   "cell_type": "code",
   "execution_count": 58,
   "metadata": {},
   "outputs": [
    {
     "name": "stdout",
     "output_type": "stream",
     "text": [
      "                    precision    recall  f1-score   support\n",
      "\n",
      "        carton box       0.87      0.75      0.81       180\n",
      " opened carton box       0.33      0.47      0.39        36\n",
      "    wet carton box       0.63      0.68      0.66        28\n",
      "cracked carton box       0.78      0.82      0.80       153\n",
      "\n",
      "          accuracy                           0.75       397\n",
      "         macro avg       0.66      0.68      0.66       397\n",
      "      weighted avg       0.77      0.75      0.76       397\n",
      "\n"
     ]
    }
   ],
   "source": [
    "print(classification_report(y_true, y_pred_inceptionv3, target_names = classes))"
   ]
  },
  {
   "cell_type": "code",
   "execution_count": 59,
   "metadata": {},
   "outputs": [
    {
     "name": "stdout",
     "output_type": "stream",
     "text": [
      "[[135  29   3  13]\n",
      " [  4  17   1  14]\n",
      " [  1   0  19   8]\n",
      " [ 15   5   7 126]]\n"
     ]
    }
   ],
   "source": [
    "print(confusion_matrix(y_true, y_pred_inceptionv3))"
   ]
  },
  {
   "cell_type": "markdown",
   "metadata": {},
   "source": [
    "##### 4. Ensemble Stacking"
   ]
  },
  {
   "cell_type": "markdown",
   "metadata": {},
   "source": [
    "a. Stacking Model-1"
   ]
  },
  {
   "cell_type": "code",
   "execution_count": 57,
   "metadata": {},
   "outputs": [
    {
     "name": "stdout",
     "output_type": "stream",
     "text": [
      "13/13 [==============================] - 4s 249ms/step\n"
     ]
    }
   ],
   "source": [
    "y_prob_stacking_model_1 = stacking_model_1.predict(test_set)"
   ]
  },
  {
   "cell_type": "code",
   "execution_count": 58,
   "metadata": {},
   "outputs": [],
   "source": [
    "y_pred_stacking_model_1 = np.argmax(y_prob_stacking_model_1, axis = 1)"
   ]
  },
  {
   "cell_type": "code",
   "execution_count": 63,
   "metadata": {},
   "outputs": [
    {
     "name": "stdout",
     "output_type": "stream",
     "text": [
      "                    precision    recall  f1-score   support\n",
      "\n",
      "        carton box       0.86      0.88      0.87       180\n",
      " opened carton box       0.59      0.28      0.38        36\n",
      "    wet carton box       0.75      0.64      0.69        28\n",
      "cracked carton box       0.76      0.86      0.80       153\n",
      "\n",
      "          accuracy                           0.80       397\n",
      "         macro avg       0.74      0.66      0.69       397\n",
      "      weighted avg       0.79      0.80      0.79       397\n",
      "\n"
     ]
    }
   ],
   "source": [
    "print(classification_report(y_true, y_pred_stacking_model_1, target_names = classes))"
   ]
  },
  {
   "cell_type": "code",
   "execution_count": 65,
   "metadata": {},
   "outputs": [
    {
     "name": "stdout",
     "output_type": "stream",
     "text": [
      "[[158   5   1  16]\n",
      " [  7  10   0  19]\n",
      " [  3   0  18   7]\n",
      " [ 15   2   5 131]]\n"
     ]
    }
   ],
   "source": [
    "print(confusion_matrix(y_true, y_pred_stacking_model_1))"
   ]
  },
  {
   "cell_type": "markdown",
   "metadata": {},
   "source": [
    "b. Stacking Model-2"
   ]
  },
  {
   "cell_type": "code",
   "execution_count": 72,
   "metadata": {},
   "outputs": [
    {
     "name": "stdout",
     "output_type": "stream",
     "text": [
      "13/13 [==============================] - 4s 234ms/step\n"
     ]
    }
   ],
   "source": [
    "y_prob_stacking_model_2 = stacking_model_2.predict(test_set)"
   ]
  },
  {
   "cell_type": "code",
   "execution_count": 73,
   "metadata": {},
   "outputs": [],
   "source": [
    "y_pred_stacking_model_2 = np.argmax(y_prob_stacking_model_2, axis = 1)"
   ]
  },
  {
   "cell_type": "code",
   "execution_count": 74,
   "metadata": {},
   "outputs": [
    {
     "name": "stdout",
     "output_type": "stream",
     "text": [
      "                    precision    recall  f1-score   support\n",
      "\n",
      "        carton box       0.77      0.93      0.84       180\n",
      " opened carton box       0.00      0.00      0.00        36\n",
      "    wet carton box       0.00      0.00      0.00        28\n",
      "cracked carton box       0.73      0.87      0.80       153\n",
      "\n",
      "          accuracy                           0.76       397\n",
      "         macro avg       0.38      0.45      0.41       397\n",
      "      weighted avg       0.63      0.76      0.69       397\n",
      "\n"
     ]
    },
    {
     "name": "stderr",
     "output_type": "stream",
     "text": [
      "c:\\Users\\PC\\anaconda3\\envs\\main-gpu\\lib\\site-packages\\sklearn\\metrics\\_classification.py:1531: UndefinedMetricWarning: Precision is ill-defined and being set to 0.0 in labels with no predicted samples. Use `zero_division` parameter to control this behavior.\n",
      "  _warn_prf(average, modifier, f\"{metric.capitalize()} is\", len(result))\n",
      "c:\\Users\\PC\\anaconda3\\envs\\main-gpu\\lib\\site-packages\\sklearn\\metrics\\_classification.py:1531: UndefinedMetricWarning: Precision is ill-defined and being set to 0.0 in labels with no predicted samples. Use `zero_division` parameter to control this behavior.\n",
      "  _warn_prf(average, modifier, f\"{metric.capitalize()} is\", len(result))\n",
      "c:\\Users\\PC\\anaconda3\\envs\\main-gpu\\lib\\site-packages\\sklearn\\metrics\\_classification.py:1531: UndefinedMetricWarning: Precision is ill-defined and being set to 0.0 in labels with no predicted samples. Use `zero_division` parameter to control this behavior.\n",
      "  _warn_prf(average, modifier, f\"{metric.capitalize()} is\", len(result))\n"
     ]
    }
   ],
   "source": [
    "print(classification_report(y_true, y_pred_stacking_model_2, target_names = classes))"
   ]
  },
  {
   "cell_type": "code",
   "execution_count": 75,
   "metadata": {},
   "outputs": [
    {
     "name": "stdout",
     "output_type": "stream",
     "text": [
      "[[167   0   0  13]\n",
      " [ 20   0   0  16]\n",
      " [  9   0   0  19]\n",
      " [ 20   0   0 133]]\n"
     ]
    }
   ],
   "source": [
    "print(confusion_matrix(y_true, y_pred_stacking_model_2))"
   ]
  },
  {
   "cell_type": "markdown",
   "metadata": {},
   "source": [
    "### F. Conclusion"
   ]
  },
  {
   "cell_type": "markdown",
   "metadata": {},
   "source": [
    "<table>\n",
    "    <thead>\n",
    "        <td> Model </td>\n",
    "        <td> F1-Score </td>\n",
    "        <td> Precision </td>\n",
    "        <td> Recall </td>\n",
    "        <td> Accuracy </td>\n",
    "    </thead>\n",
    "    <tbody>\n",
    "        <tr>\n",
    "            <td> Baseline CNN </td>\n",
    "            <td> 71% </td>\n",
    "            <td> 70% </td>\n",
    "            <td> 73% </td>   \n",
    "            <td> 73% </td>      \n",
    "        </tr>\n",
    "        <tr>\n",
    "            <td> ResNet-50 </td>\n",
    "            <td> 67% </td>\n",
    "            <td> 66% </td>\n",
    "            <td> 70% </td>   \n",
    "            <td> 67% </td>      \n",
    "        </tr>\n",
    "        <tr>\n",
    "            <td> Inception V3 </td>\n",
    "            <td> 76% </td>\n",
    "            <td> 77% </td>\n",
    "            <td> 75% </td>   \n",
    "            <td> 75% </td>      \n",
    "        </tr> \n",
    "        <tr>\n",
    "            <td> Stacking Model-1 </td>\n",
    "            <td> 79% </td>\n",
    "            <td> 79% </td>\n",
    "            <td> 80% </td>   \n",
    "            <td> 80% </td>      \n",
    "        </tr>   \n",
    "        <tr>\n",
    "            <td> Stacking Model-2 </td>\n",
    "            <td> 69% </td>\n",
    "            <td> 63% </td>\n",
    "            <td> 76% </td>   \n",
    "            <td> 76% </td>      \n",
    "        </tr>                  \n",
    "    </tbody>\n",
    "</table>"
   ]
  }
 ],
 "metadata": {
  "kernelspec": {
   "display_name": "main-gpu",
   "language": "python",
   "name": "python3"
  },
  "language_info": {
   "codemirror_mode": {
    "name": "ipython",
    "version": 3
   },
   "file_extension": ".py",
   "mimetype": "text/x-python",
   "name": "python",
   "nbconvert_exporter": "python",
   "pygments_lexer": "ipython3",
   "version": "3.10.16"
  }
 },
 "nbformat": 4,
 "nbformat_minor": 2
}
