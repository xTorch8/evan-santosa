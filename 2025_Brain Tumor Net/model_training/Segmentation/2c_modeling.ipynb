{
 "cells": [
  {
   "cell_type": "markdown",
   "id": "2182bf3d",
   "metadata": {},
   "source": [
    "# Modeling"
   ]
  },
  {
   "cell_type": "markdown",
   "id": "3193db93",
   "metadata": {},
   "source": [
    "This notebook only cover the training of the SegFormer model."
   ]
  },
  {
   "cell_type": "markdown",
   "id": "dd535086",
   "metadata": {},
   "source": [
    "### Data Loading"
   ]
  },
  {
   "cell_type": "code",
   "execution_count": 1,
   "id": "97e52ba4",
   "metadata": {},
   "outputs": [],
   "source": [
    "import os\n",
    "import torch\n",
    "import torchvision.transforms as T\n",
    "from torch.utils.data import Dataset, DataLoader\n",
    "from pathlib import Path\n",
    "from PIL import Image"
   ]
  },
  {
   "cell_type": "code",
   "execution_count": 2,
   "id": "f8896f97",
   "metadata": {},
   "outputs": [],
   "source": [
    "class TumorSegDataset(Dataset):\n",
    "    def __init__(self, image_dir, mask_dir, transform=None):\n",
    "        self.image_dir = Path(image_dir)\n",
    "        self.mask_dir = Path(mask_dir)\n",
    "        self.image_files = sorted(self.image_dir.glob(\"*.jpg\"))\n",
    "        self.transform = transform\n",
    "\n",
    "    def __len__(self):\n",
    "        return len(self.image_files)\n",
    "\n",
    "    def __getitem__(self, idx):\n",
    "        img_path = self.image_files[idx]\n",
    "        mask_path = Path(self.mask_dir) / img_path.name\n",
    "\n",
    "        image = Image.open(img_path).convert(\"L\")\n",
    "        mask = Image.open(mask_path).convert(\"L\")\n",
    "\n",
    "        if self.transform:\n",
    "            image = self.transform(image)\n",
    "            mask = self.transform(mask)\n",
    "\n",
    "        return image, mask"
   ]
  },
  {
   "cell_type": "code",
   "execution_count": 3,
   "id": "1687b9be",
   "metadata": {},
   "outputs": [],
   "source": [
    "transform = T.Compose([\n",
    "    T.Resize((224, 224)),\n",
    "    T.ToTensor(),\n",
    "])"
   ]
  },
  {
   "cell_type": "code",
   "execution_count": 4,
   "id": "732f68d1",
   "metadata": {},
   "outputs": [],
   "source": [
    "dataset = TumorSegDataset(\"../data/converted/images\", \"../data/converted/masks\", transform = transform)"
   ]
  },
  {
   "cell_type": "markdown",
   "id": "cece996d",
   "metadata": {},
   "source": [
    "### Data Splitting"
   ]
  },
  {
   "cell_type": "code",
   "execution_count": 5,
   "id": "8baf16aa",
   "metadata": {},
   "outputs": [],
   "source": [
    "from torch.utils.data import random_split"
   ]
  },
  {
   "cell_type": "code",
   "execution_count": 6,
   "id": "e7d53592",
   "metadata": {},
   "outputs": [],
   "source": [
    "total_size = len(dataset)\n",
    "train_size = int(0.7 * total_size)\n",
    "val_size = int(0.15 * total_size)\n",
    "test_size = total_size - train_size - val_size"
   ]
  },
  {
   "cell_type": "code",
   "execution_count": 7,
   "id": "e03702e0",
   "metadata": {},
   "outputs": [],
   "source": [
    "train_dataset, val_dataset, test_dataset = random_split(dataset, [train_size, val_size, test_size])"
   ]
  },
  {
   "cell_type": "code",
   "execution_count": 8,
   "id": "a5946da5",
   "metadata": {},
   "outputs": [],
   "source": [
    "train_loader = DataLoader(train_dataset, batch_size = 8, shuffle = True)\n",
    "val_loader = DataLoader(val_dataset, batch_size = 8, shuffle = False)\n",
    "test_loader = DataLoader(test_dataset, batch_size = 8, shuffle = False)"
   ]
  },
  {
   "cell_type": "markdown",
   "id": "0fd01ccb",
   "metadata": {},
   "source": [
    "### Modeling"
   ]
  },
  {
   "cell_type": "markdown",
   "id": "a99deab4",
   "metadata": {},
   "source": [
    "From https://github.com/mkara44/transunet_pytorch/blob/main/utils/transunet.py"
   ]
  },
  {
   "cell_type": "code",
   "execution_count": 9,
   "id": "0296186e",
   "metadata": {},
   "outputs": [],
   "source": [
    "import torch.nn as nn\n",
    "import torch.nn.functional as F\n",
    "import torch.optim as optim\n",
    "import matplotlib.pyplot as plt\n",
    "import copy\n",
    "import logging\n",
    "import math\n",
    "from os.path import join as pjoin"
   ]
  },
  {
   "cell_type": "code",
   "execution_count": 10,
   "id": "04f1c5cd",
   "metadata": {},
   "outputs": [
    {
     "data": {
      "text/plain": [
       "device(type='cuda')"
      ]
     },
     "execution_count": 10,
     "metadata": {},
     "output_type": "execute_result"
    }
   ],
   "source": [
    "device = torch.device(\"cuda\" if torch.cuda.is_available() else \"cpu\")\n",
    "device"
   ]
  },
  {
   "cell_type": "code",
   "execution_count": 11,
   "id": "435e9e77",
   "metadata": {},
   "outputs": [],
   "source": [
    "criterion = nn.BCEWithLogitsLoss()"
   ]
  },
  {
   "cell_type": "code",
   "execution_count": 12,
   "id": "e01a6786",
   "metadata": {},
   "outputs": [],
   "source": [
    "def dice_score(preds, targets, smooth = 1e-6):\n",
    "    \"\"\"\n",
    "    Computes Dice Score (per batch).\n",
    "    preds: tensor, shape (N, C, H, W) after applying sigmoid/softmax or thresholding\n",
    "    targets: tensor, shape (N, C, H, W) one-hot encoded or same shape as preds\n",
    "    \"\"\"\n",
    "    preds = preds.contiguous().view(preds.shape[0], -1)\n",
    "    targets = targets.contiguous().view(targets.shape[0], -1)\n",
    "\n",
    "    intersection = (preds * targets).sum(dim = 1)\n",
    "    dice = (2. * intersection + smooth) / (preds.sum(dim = 1) + targets.sum(dim = 1) + smooth)\n",
    "    return dice.mean().item()"
   ]
  },
  {
   "cell_type": "code",
   "execution_count": 13,
   "id": "c91952ab",
   "metadata": {},
   "outputs": [],
   "source": [
    "def iou_score(preds, targets, smooth=1e-6):\n",
    "    \"\"\"\n",
    "    Computes IoU (Jaccard Index) per batch.\n",
    "    \"\"\"\n",
    "    preds = preds.contiguous().view(preds.shape[0], -1)\n",
    "    targets = targets.contiguous().view(targets.shape[0], -1)\n",
    "\n",
    "    intersection = (preds * targets).sum(dim=1)\n",
    "    union = preds.sum(dim=1) + targets.sum(dim=1) - intersection\n",
    "    iou = (intersection + smooth) / (union + smooth)\n",
    "    return iou.mean().item()"
   ]
  },
  {
   "cell_type": "markdown",
   "id": "1c6901d1",
   "metadata": {},
   "source": [
    "##### SegFormer"
   ]
  },
  {
   "cell_type": "code",
   "execution_count": 14,
   "id": "4304586f",
   "metadata": {},
   "outputs": [
    {
     "name": "stderr",
     "output_type": "stream",
     "text": [
      "c:\\Users\\PC\\anaconda3\\envs\\main-gpu\\lib\\site-packages\\tqdm\\auto.py:21: TqdmWarning: IProgress not found. Please update jupyter and ipywidgets. See https://ipywidgets.readthedocs.io/en/stable/user_install.html\n",
      "  from .autonotebook import tqdm as notebook_tqdm\n"
     ]
    }
   ],
   "source": [
    "from transformers import SegformerForSemanticSegmentation"
   ]
  },
  {
   "cell_type": "code",
   "execution_count": 15,
   "id": "19402b57",
   "metadata": {},
   "outputs": [
    {
     "name": "stderr",
     "output_type": "stream",
     "text": [
      "Some weights of SegformerForSemanticSegmentation were not initialized from the model checkpoint at nvidia/segformer-b5-finetuned-ade-640-640 and are newly initialized because the shapes did not match:\n",
      "- decode_head.classifier.weight: found shape torch.Size([150, 768, 1, 1]) in the checkpoint and torch.Size([1, 768, 1, 1]) in the model instantiated\n",
      "- decode_head.classifier.bias: found shape torch.Size([150]) in the checkpoint and torch.Size([1]) in the model instantiated\n",
      "You should probably TRAIN this model on a down-stream task to be able to use it for predictions and inference.\n"
     ]
    }
   ],
   "source": [
    "segformer_model = SegformerForSemanticSegmentation.from_pretrained(\n",
    "    \"nvidia/segformer-b5-finetuned-ade-640-640\",\n",
    "    num_labels = 1, \n",
    "    ignore_mismatched_sizes = True\n",
    ")"
   ]
  },
  {
   "cell_type": "code",
   "execution_count": 16,
   "id": "d9c20f99",
   "metadata": {},
   "outputs": [],
   "source": [
    "segformer_model = segformer_model.to(device)\n",
    "optimizer = optim.Adam(segformer_model.parameters(), lr = 1e-4)"
   ]
  },
  {
   "cell_type": "code",
   "execution_count": 17,
   "id": "66d4c967",
   "metadata": {},
   "outputs": [],
   "source": [
    "best_val_loss = float('inf')\n",
    "patience = 10\n",
    "trigger_times = 0"
   ]
  },
  {
   "cell_type": "code",
   "execution_count": 18,
   "id": "1c9fe7b1",
   "metadata": {},
   "outputs": [
    {
     "name": "stdout",
     "output_type": "stream",
     "text": [
      "Epoch 1: Train Loss = 0.1741, Val Loss = 0.0507\n",
      "Epoch 2: Train Loss = 0.0367, Val Loss = 0.0287\n",
      "Epoch 3: Train Loss = 0.0205, Val Loss = 0.0216\n",
      "Epoch 4: Train Loss = 0.0147, Val Loss = 0.0189\n",
      "Epoch 5: Train Loss = 0.0108, Val Loss = 0.0164\n",
      "Epoch 6: Train Loss = 0.0087, Val Loss = 0.0169\n",
      "Early Stopping counter: 1 out of 10\n",
      "Epoch 7: Train Loss = 0.0075, Val Loss = 0.0161\n",
      "Epoch 8: Train Loss = 0.0089, Val Loss = 0.0180\n",
      "Early Stopping counter: 1 out of 10\n",
      "Epoch 9: Train Loss = 0.0068, Val Loss = 0.0163\n",
      "Early Stopping counter: 2 out of 10\n",
      "Epoch 10: Train Loss = 0.0056, Val Loss = 0.0165\n",
      "Early Stopping counter: 3 out of 10\n",
      "Epoch 11: Train Loss = 0.0050, Val Loss = 0.0175\n",
      "Early Stopping counter: 4 out of 10\n",
      "Epoch 12: Train Loss = 0.0046, Val Loss = 0.0173\n",
      "Early Stopping counter: 5 out of 10\n",
      "Epoch 13: Train Loss = 0.0045, Val Loss = 0.0179\n",
      "Early Stopping counter: 6 out of 10\n",
      "Epoch 14: Train Loss = 0.0044, Val Loss = 0.0179\n",
      "Early Stopping counter: 7 out of 10\n",
      "Epoch 15: Train Loss = 0.0041, Val Loss = 0.0190\n",
      "Early Stopping counter: 8 out of 10\n",
      "Epoch 16: Train Loss = 0.0040, Val Loss = 0.0194\n",
      "Early Stopping counter: 9 out of 10\n",
      "Epoch 17: Train Loss = 0.0039, Val Loss = 0.0196\n",
      "Early Stopping counter: 10 out of 10\n",
      "Early stopping triggered. Stopping training.\n"
     ]
    }
   ],
   "source": [
    "EPOCHS = 100\n",
    "\n",
    "for epoch in range(EPOCHS):\n",
    "    segformer_model.train()\n",
    "    train_loss = 0\n",
    "    for images, masks in train_loader:\n",
    "        images, masks = images.to(device), masks.to(device)\n",
    "\n",
    "        if images.shape[1] == 1:\n",
    "            images = images.repeat(1, 3, 1, 1)\n",
    "\n",
    "        outputs = segformer_model(images).logits\n",
    "        outputs = nn.functional.interpolate(outputs, size=masks.shape[-2:], mode=\"bilinear\", align_corners=False)\n",
    "\n",
    "        loss = criterion(outputs, masks)\n",
    "        optimizer.zero_grad()\n",
    "        loss.backward()\n",
    "        optimizer.step()\n",
    "        train_loss += loss.item()\n",
    "\n",
    "    # Validation\n",
    "    segformer_model.eval()\n",
    "    val_loss = 0\n",
    "    with torch.no_grad():\n",
    "        for images, masks in val_loader:\n",
    "            images, masks = images.to(device), masks.to(device)\n",
    "\n",
    "            if images.shape[1] == 1:\n",
    "                images = images.repeat(1, 3, 1, 1)\n",
    "\n",
    "            outputs = segformer_model(images).logits\n",
    "            outputs = nn.functional.interpolate(outputs, size=masks.shape[-2:], mode=\"bilinear\", align_corners=False)\n",
    "            \n",
    "            loss = criterion(outputs, masks)\n",
    "            val_loss += loss.item()\n",
    "\n",
    "    avg_train_loss = train_loss / len(train_loader)\n",
    "    avg_val_loss = val_loss / len(val_loader)\n",
    "    print(f\"Epoch {epoch+1}: Train Loss = {avg_train_loss:.4f}, Val Loss = {avg_val_loss:.4f}\")\n",
    "\n",
    "    if avg_val_loss < best_val_loss:\n",
    "        best_val_loss = avg_val_loss\n",
    "        trigger_times = 0\n",
    "        torch.save(segformer_model.state_dict(), \"../models/segformer.pth\")\n",
    "    else:\n",
    "        trigger_times += 1\n",
    "        print(f\"Early Stopping counter: {trigger_times} out of {patience}\")\n",
    "        if trigger_times >= patience:\n",
    "            print(\"Early stopping triggered. Stopping training.\")\n",
    "            break"
   ]
  },
  {
   "cell_type": "code",
   "execution_count": 22,
   "id": "bb0ad982",
   "metadata": {},
   "outputs": [
    {
     "name": "stdout",
     "output_type": "stream",
     "text": [
      "Test Dice Score: 0.8337\n",
      "Test IoU Score: 0.7550\n"
     ]
    }
   ],
   "source": [
    "segformer_model.eval()\n",
    "dice_total = 0\n",
    "iou_total = 0\n",
    "num_batches = 0\n",
    "\n",
    "with torch.no_grad():\n",
    "    for images, masks in test_loader:\n",
    "        images = images.to(device)\n",
    "        masks = masks.to(device)\n",
    "\n",
    "        if images.shape[1] == 1:\n",
    "            images = images.repeat(1, 3, 1, 1)\n",
    "\n",
    "        outputs = segformer_model(images).logits\n",
    "        outputs = nn.functional.interpolate(outputs, size=masks.shape[-2:], mode=\"bilinear\", align_corners=False)\n",
    "\n",
    "        if outputs.shape[1] == 1:  # Binary segmentation\n",
    "            # probs = torch.sigmoid(outputs)\n",
    "            probs = outputs\n",
    "            preds = (probs > 0.5).float()\n",
    "            targets = (masks > 0.5).float()\n",
    "        else:  # Multiclass segmentation\n",
    "            preds = torch.argmax(outputs, dim = 1)  # (N, H, W)\n",
    "            targets = masks.long().squeeze(1)     # (N, H, W)\n",
    "\n",
    "            # Convert preds and targets to one-hot for Dice and IoU\n",
    "            preds = torch.nn.functional.one_hot(preds, num_classes=outputs.shape[1])  # (N,H,W,C)\n",
    "            preds = preds.permute(0, 3, 1, 2).float()  # (N,C,H,W)\n",
    "            targets = torch.nn.functional.one_hot(targets, num_classes=outputs.shape[1])\n",
    "            targets = targets.permute(0, 3, 1, 2).float()\n",
    "\n",
    "        dice = dice_score(preds, targets)\n",
    "        iou = iou_score(preds, targets)\n",
    "\n",
    "        dice_total += dice\n",
    "        iou_total += iou\n",
    "        num_batches += 1\n",
    "\n",
    "print(f\"Test Dice Score: {dice_total / num_batches:.4f}\")\n",
    "print(f\"Test IoU Score: {iou_total / num_batches:.4f}\")"
   ]
  }
 ],
 "metadata": {
  "kernelspec": {
   "display_name": "main-gpu",
   "language": "python",
   "name": "python3"
  },
  "language_info": {
   "codemirror_mode": {
    "name": "ipython",
    "version": 3
   },
   "file_extension": ".py",
   "mimetype": "text/x-python",
   "name": "python",
   "nbconvert_exporter": "python",
   "pygments_lexer": "ipython3",
   "version": "3.10.16"
  }
 },
 "nbformat": 4,
 "nbformat_minor": 5
}
