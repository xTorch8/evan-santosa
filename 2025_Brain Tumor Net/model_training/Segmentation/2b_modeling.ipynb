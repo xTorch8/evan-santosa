{
 "cells": [
  {
   "cell_type": "markdown",
   "id": "89e324ba",
   "metadata": {},
   "source": [
    "# Modeling"
   ]
  },
  {
   "cell_type": "markdown",
   "id": "8b5aa926",
   "metadata": {},
   "source": [
    "This notebook only cover the training of the Swin-UNet model."
   ]
  },
  {
   "cell_type": "markdown",
   "id": "2c3a8241",
   "metadata": {},
   "source": [
    "### Data Loading"
   ]
  },
  {
   "cell_type": "code",
   "execution_count": 1,
   "id": "427e2881",
   "metadata": {},
   "outputs": [],
   "source": [
    "import os\n",
    "import torch\n",
    "import torchvision.transforms as T\n",
    "from torch.utils.data import Dataset, DataLoader\n",
    "from pathlib import Path\n",
    "from PIL import Image"
   ]
  },
  {
   "cell_type": "code",
   "execution_count": 2,
   "id": "64b9b4e5",
   "metadata": {},
   "outputs": [],
   "source": [
    "class TumorSegDataset(Dataset):\n",
    "    def __init__(self, image_dir, mask_dir, transform=None):\n",
    "        self.image_dir = Path(image_dir)\n",
    "        self.mask_dir = Path(mask_dir)\n",
    "        self.image_files = sorted(self.image_dir.glob(\"*.jpg\"))\n",
    "        self.transform = transform\n",
    "\n",
    "    def __len__(self):\n",
    "        return len(self.image_files)\n",
    "\n",
    "    def __getitem__(self, idx):\n",
    "        img_path = self.image_files[idx]\n",
    "        mask_path = Path(self.mask_dir) / img_path.name\n",
    "\n",
    "        image = Image.open(img_path).convert(\"L\")\n",
    "        mask = Image.open(mask_path).convert(\"L\")\n",
    "\n",
    "        if self.transform:\n",
    "            image = self.transform(image)\n",
    "            mask = self.transform(mask)\n",
    "\n",
    "        return image, mask"
   ]
  },
  {
   "cell_type": "code",
   "execution_count": 3,
   "id": "cbfa5068",
   "metadata": {},
   "outputs": [],
   "source": [
    "transform = T.Compose([\n",
    "    T.Resize((224, 224)),\n",
    "    T.ToTensor(),\n",
    "    # T.Lambda(lambda x: x.repeat(3,1,1))\n",
    "])"
   ]
  },
  {
   "cell_type": "code",
   "execution_count": 4,
   "id": "93d978fb",
   "metadata": {},
   "outputs": [],
   "source": [
    "dataset = TumorSegDataset(\"../data/converted/images\", \"../data/converted/masks\", transform = transform)"
   ]
  },
  {
   "cell_type": "markdown",
   "id": "6b6db949",
   "metadata": {},
   "source": [
    "### Data Splitting"
   ]
  },
  {
   "cell_type": "code",
   "execution_count": 5,
   "id": "19b87b60",
   "metadata": {},
   "outputs": [],
   "source": [
    "from torch.utils.data import random_split"
   ]
  },
  {
   "cell_type": "code",
   "execution_count": 6,
   "id": "656c068a",
   "metadata": {},
   "outputs": [],
   "source": [
    "total_size = len(dataset)\n",
    "train_size = int(0.7 * total_size)\n",
    "val_size = int(0.15 * total_size)\n",
    "test_size = total_size - train_size - val_size"
   ]
  },
  {
   "cell_type": "code",
   "execution_count": 7,
   "id": "4d6b5f9a",
   "metadata": {},
   "outputs": [],
   "source": [
    "train_dataset, val_dataset, test_dataset = random_split(dataset, [train_size, val_size, test_size])"
   ]
  },
  {
   "cell_type": "code",
   "execution_count": 8,
   "id": "355308f0",
   "metadata": {},
   "outputs": [],
   "source": [
    "train_loader = DataLoader(train_dataset, batch_size = 8, shuffle = True)\n",
    "val_loader = DataLoader(val_dataset, batch_size = 8, shuffle = False)\n",
    "test_loader = DataLoader(test_dataset, batch_size = 8, shuffle = False)"
   ]
  },
  {
   "cell_type": "markdown",
   "id": "52550131",
   "metadata": {},
   "source": [
    "### Modeling"
   ]
  },
  {
   "cell_type": "code",
   "execution_count": 9,
   "id": "14c9564b",
   "metadata": {},
   "outputs": [],
   "source": [
    "import torch.nn as nn\n",
    "import torch.nn.functional as F\n",
    "import torch.optim as optim\n",
    "import matplotlib.pyplot as plt\n",
    "import copy\n",
    "import logging\n",
    "import math\n",
    "from os.path import join as pjoin"
   ]
  },
  {
   "cell_type": "code",
   "execution_count": 10,
   "id": "ae0cedce",
   "metadata": {},
   "outputs": [
    {
     "data": {
      "text/plain": [
       "device(type='cuda')"
      ]
     },
     "execution_count": 10,
     "metadata": {},
     "output_type": "execute_result"
    }
   ],
   "source": [
    "device = torch.device(\"cuda\" if torch.cuda.is_available() else \"cpu\")\n",
    "device"
   ]
  },
  {
   "cell_type": "code",
   "execution_count": 11,
   "id": "7bb84eb3",
   "metadata": {},
   "outputs": [],
   "source": [
    "criterion = nn.BCELoss()"
   ]
  },
  {
   "cell_type": "code",
   "execution_count": 12,
   "id": "41b876e5",
   "metadata": {},
   "outputs": [],
   "source": [
    "def dice_score(preds, targets, smooth = 1e-6):\n",
    "    \"\"\"\n",
    "    Computes Dice Score (per batch).\n",
    "    preds: tensor, shape (N, C, H, W) after applying sigmoid/softmax or thresholding\n",
    "    targets: tensor, shape (N, C, H, W) one-hot encoded or same shape as preds\n",
    "    \"\"\"\n",
    "    preds = preds.contiguous().view(preds.shape[0], -1)\n",
    "    targets = targets.contiguous().view(targets.shape[0], -1)\n",
    "\n",
    "    intersection = (preds * targets).sum(dim = 1)\n",
    "    dice = (2. * intersection + smooth) / (preds.sum(dim = 1) + targets.sum(dim = 1) + smooth)\n",
    "    return dice.mean().item()"
   ]
  },
  {
   "cell_type": "code",
   "execution_count": 13,
   "id": "ca7cb778",
   "metadata": {},
   "outputs": [],
   "source": [
    "def iou_score(preds, targets, smooth=1e-6):\n",
    "    \"\"\"\n",
    "    Computes IoU (Jaccard Index) per batch.\n",
    "    \"\"\"\n",
    "    preds = preds.contiguous().view(preds.shape[0], -1)\n",
    "    targets = targets.contiguous().view(targets.shape[0], -1)\n",
    "\n",
    "    intersection = (preds * targets).sum(dim=1)\n",
    "    union = preds.sum(dim=1) + targets.sum(dim=1) - intersection\n",
    "    iou = (intersection + smooth) / (union + smooth)\n",
    "    return iou.mean().item()"
   ]
  },
  {
   "cell_type": "markdown",
   "id": "c10f4686",
   "metadata": {},
   "source": [
    "##### Swin-UNet"
   ]
  },
  {
   "cell_type": "code",
   "execution_count": 14,
   "id": "e2697ff6",
   "metadata": {},
   "outputs": [
    {
     "name": "stderr",
     "output_type": "stream",
     "text": [
      "c:\\Users\\PC\\anaconda3\\envs\\main-gpu\\lib\\site-packages\\tqdm\\auto.py:21: TqdmWarning: IProgress not found. Please update jupyter and ipywidgets. See https://ipywidgets.readthedocs.io/en/stable/user_install.html\n",
      "  from .autonotebook import tqdm as notebook_tqdm\n"
     ]
    }
   ],
   "source": [
    "import timm"
   ]
  },
  {
   "cell_type": "code",
   "execution_count": 15,
   "id": "36e66cc6",
   "metadata": {},
   "outputs": [],
   "source": [
    "swin = timm.create_model('swin_base_patch4_window7_224', pretrained = False, features_only = True)"
   ]
  },
  {
   "cell_type": "code",
   "execution_count": 16,
   "id": "2674d93e",
   "metadata": {},
   "outputs": [],
   "source": [
    "class UNetDecoder(nn.Module):\n",
    "    def __init__(self):\n",
    "        super().__init__()\n",
    "\n",
    "        def conv_block(in_c, out_c):\n",
    "            return nn.Sequential(\n",
    "                nn.Conv2d(in_c, out_c, kernel_size=3, padding=1),\n",
    "                nn.ReLU(inplace=True),\n",
    "                nn.Conv2d(out_c, out_c, kernel_size=3, padding=1),\n",
    "                nn.ReLU(inplace=True)\n",
    "            )\n",
    "\n",
    "        self.up3 = nn.ConvTranspose2d(512, 256, kernel_size=2, stride=2)\n",
    "        self.dec3 = conv_block(768, 256)\n",
    "\n",
    "        self.up2 = nn.ConvTranspose2d(256, 128, kernel_size=2, stride=2)\n",
    "        self.dec2 = conv_block(384, 128)\n",
    "\n",
    "        self.up1 = nn.ConvTranspose2d(128, 64, kernel_size=2, stride=2)\n",
    "        self.dec1 = conv_block(192, 64)\n",
    "\n",
    "        self.final = nn.Conv2d(64, 1, kernel_size=1)\n",
    "\n",
    "    def forward(self, features):\n",
    "        e1, e2, e3, e4 = features  # e4 is reduced 512 channels\n",
    "\n",
    "        d3 = self.up3(e4)\n",
    "        d3 = self.dec3(torch.cat([d3, e3], dim=1))  # concat 256 + 512 = 768\n",
    "\n",
    "        d2 = self.up2(d3)\n",
    "        d2 = self.dec2(torch.cat([d2, e2], dim=1))  # concat 128 + 256 = 384\n",
    "\n",
    "        d1 = self.up1(d2)\n",
    "        d1 = self.dec1(torch.cat([d1, e1], dim=1))  # concat 64 + 128 = 192\n",
    "\n",
    "        out = F.interpolate(d1, scale_factor=4, mode='bilinear', align_corners=False)\n",
    "        return torch.sigmoid(self.final(out))\n"
   ]
  },
  {
   "cell_type": "code",
   "execution_count": 17,
   "id": "365a0991",
   "metadata": {},
   "outputs": [],
   "source": [
    "class SwinUNet(nn.Module):\n",
    "    def __init__(self):\n",
    "        super().__init__()\n",
    "        self.encoder = swin\n",
    "        self.channel_reducer = nn.Conv2d(1024, 512, kernel_size=1)\n",
    "        self.decoder = UNetDecoder()\n",
    "\n",
    "    def forward(self, x):\n",
    "        if x.shape[1] == 1:\n",
    "            x = x.repeat(1, 3, 1, 1)\n",
    "\n",
    "        features = self.encoder(x)\n",
    "        features = [self._to_channels_first(f) for f in features]\n",
    "\n",
    "        features[3] = self.channel_reducer(features[3])\n",
    "\n",
    "        output = self.decoder(features)\n",
    "        return output\n",
    "\n",
    "    def _to_channels_first(self, feature):\n",
    "        if feature.dim() == 4:\n",
    "            return feature.permute(0, 3, 1, 2).contiguous()\n",
    "        elif feature.dim() == 3:\n",
    "            B, N, C = feature.shape\n",
    "            H = W = int(N ** 0.5)\n",
    "            feature = feature.permute(0, 2, 1).contiguous()\n",
    "            return feature.view(B, C, H, W)\n",
    "        else:\n",
    "            raise ValueError(f\"Unexpected feature shape: {feature.shape}\")\n"
   ]
  },
  {
   "cell_type": "code",
   "execution_count": 18,
   "id": "cec00b46",
   "metadata": {},
   "outputs": [],
   "source": [
    "swinunet_model = SwinUNet().to(device)\n",
    "optimizer = optim.Adam(swinunet_model.parameters(), lr = 1e-4)"
   ]
  },
  {
   "cell_type": "code",
   "execution_count": 19,
   "id": "86c92cd3",
   "metadata": {},
   "outputs": [],
   "source": [
    "best_val_loss = float('inf')\n",
    "patience = 10\n",
    "trigger_times = 0"
   ]
  },
  {
   "cell_type": "code",
   "execution_count": 20,
   "id": "34e73d6e",
   "metadata": {},
   "outputs": [
    {
     "name": "stdout",
     "output_type": "stream",
     "text": [
      "Epoch 1: Train Loss = 0.0831, Val Loss = 0.0636\n",
      "Epoch 2: Train Loss = 0.0563, Val Loss = 0.0539\n",
      "Epoch 3: Train Loss = 0.0533, Val Loss = 0.0529\n",
      "Epoch 4: Train Loss = 0.0522, Val Loss = 0.0532\n",
      "Early Stopping counter: 1 out of 10\n",
      "Epoch 5: Train Loss = 0.0510, Val Loss = 0.0511\n",
      "Epoch 6: Train Loss = 0.0494, Val Loss = 0.0492\n",
      "Epoch 7: Train Loss = 0.0475, Val Loss = 0.0512\n",
      "Early Stopping counter: 1 out of 10\n",
      "Epoch 8: Train Loss = 0.0456, Val Loss = 0.0476\n",
      "Epoch 9: Train Loss = 0.0429, Val Loss = 0.0442\n",
      "Epoch 10: Train Loss = 0.0392, Val Loss = 0.0375\n",
      "Epoch 11: Train Loss = 0.0380, Val Loss = 0.0374\n",
      "Epoch 12: Train Loss = 0.0356, Val Loss = 0.0356\n",
      "Epoch 13: Train Loss = 0.0336, Val Loss = 0.0332\n",
      "Epoch 14: Train Loss = 0.0311, Val Loss = 0.0326\n",
      "Epoch 15: Train Loss = 0.0306, Val Loss = 0.0322\n",
      "Epoch 16: Train Loss = 0.0289, Val Loss = 0.0295\n",
      "Epoch 17: Train Loss = 0.0267, Val Loss = 0.0290\n",
      "Epoch 18: Train Loss = 0.0252, Val Loss = 0.0310\n",
      "Early Stopping counter: 1 out of 10\n",
      "Epoch 19: Train Loss = 0.0240, Val Loss = 0.0274\n",
      "Epoch 20: Train Loss = 0.0225, Val Loss = 0.0243\n",
      "Epoch 21: Train Loss = 0.0213, Val Loss = 0.0230\n",
      "Epoch 22: Train Loss = 0.0196, Val Loss = 0.0231\n",
      "Early Stopping counter: 1 out of 10\n",
      "Epoch 23: Train Loss = 0.0189, Val Loss = 0.0246\n",
      "Early Stopping counter: 2 out of 10\n",
      "Epoch 24: Train Loss = 0.0170, Val Loss = 0.0214\n",
      "Epoch 25: Train Loss = 0.0164, Val Loss = 0.0221\n",
      "Early Stopping counter: 1 out of 10\n",
      "Epoch 26: Train Loss = 0.0151, Val Loss = 0.0207\n",
      "Epoch 27: Train Loss = 0.0136, Val Loss = 0.0214\n",
      "Early Stopping counter: 1 out of 10\n",
      "Epoch 28: Train Loss = 0.0124, Val Loss = 0.0247\n",
      "Early Stopping counter: 2 out of 10\n",
      "Epoch 29: Train Loss = 0.0122, Val Loss = 0.0211\n",
      "Early Stopping counter: 3 out of 10\n",
      "Epoch 30: Train Loss = 0.0114, Val Loss = 0.0204\n",
      "Epoch 31: Train Loss = 0.0107, Val Loss = 0.0216\n",
      "Early Stopping counter: 1 out of 10\n",
      "Epoch 32: Train Loss = 0.0091, Val Loss = 0.0207\n",
      "Early Stopping counter: 2 out of 10\n",
      "Epoch 33: Train Loss = 0.0084, Val Loss = 0.0218\n",
      "Early Stopping counter: 3 out of 10\n",
      "Epoch 34: Train Loss = 0.0084, Val Loss = 0.0226\n",
      "Early Stopping counter: 4 out of 10\n",
      "Epoch 35: Train Loss = 0.0082, Val Loss = 0.0233\n",
      "Early Stopping counter: 5 out of 10\n",
      "Epoch 36: Train Loss = 0.0082, Val Loss = 0.0214\n",
      "Early Stopping counter: 6 out of 10\n",
      "Epoch 37: Train Loss = 0.0071, Val Loss = 0.0215\n",
      "Early Stopping counter: 7 out of 10\n",
      "Epoch 38: Train Loss = 0.0063, Val Loss = 0.0220\n",
      "Early Stopping counter: 8 out of 10\n",
      "Epoch 39: Train Loss = 0.0076, Val Loss = 0.0230\n",
      "Early Stopping counter: 9 out of 10\n",
      "Epoch 40: Train Loss = 0.0061, Val Loss = 0.0220\n",
      "Early Stopping counter: 10 out of 10\n",
      "Early stopping triggered. Stopping training.\n"
     ]
    }
   ],
   "source": [
    "EPOCHS = 100\n",
    "\n",
    "for epoch in range(EPOCHS):\n",
    "    swinunet_model.train()\n",
    "    train_loss = 0\n",
    "    for images, masks in train_loader:\n",
    "        images, masks = images.to(device), masks.to(device)\n",
    "        outputs = swinunet_model(images)\n",
    "        loss = criterion(outputs, masks)\n",
    "        optimizer.zero_grad()\n",
    "        loss.backward()\n",
    "        optimizer.step()\n",
    "        train_loss += loss.item()\n",
    "\n",
    "    # Validation\n",
    "    swinunet_model.eval()\n",
    "    val_loss = 0\n",
    "    with torch.no_grad():\n",
    "        for images, masks in val_loader:\n",
    "            images, masks = images.to(device), masks.to(device)\n",
    "            outputs = swinunet_model(images)\n",
    "            loss = criterion(outputs, masks)\n",
    "            val_loss += loss.item()\n",
    "\n",
    "    avg_train_loss = train_loss / len(train_loader)\n",
    "    avg_val_loss = val_loss / len(val_loader)\n",
    "    print(f\"Epoch {epoch+1}: Train Loss = {avg_train_loss:.4f}, Val Loss = {avg_val_loss:.4f}\")\n",
    "\n",
    "    if avg_val_loss < best_val_loss:\n",
    "        best_val_loss = avg_val_loss\n",
    "        trigger_times = 0\n",
    "        torch.save(swinunet_model.state_dict(), \"../models/swinunet.pth\")\n",
    "    else:\n",
    "        trigger_times += 1\n",
    "        print(f\"Early Stopping counter: {trigger_times} out of {patience}\")\n",
    "        if trigger_times >= patience:\n",
    "            print(\"Early stopping triggered. Stopping training.\")\n",
    "            break"
   ]
  },
  {
   "cell_type": "code",
   "execution_count": 21,
   "id": "42815fe5",
   "metadata": {},
   "outputs": [
    {
     "name": "stdout",
     "output_type": "stream",
     "text": [
      "Test Dice Score: 0.7161\n",
      "Test IoU Score: 0.6291\n"
     ]
    }
   ],
   "source": [
    "swinunet_model.eval()\n",
    "dice_total = 0\n",
    "iou_total = 0\n",
    "num_batches = 0\n",
    "\n",
    "with torch.no_grad():\n",
    "    for images, masks in test_loader:\n",
    "        images = images.to(device)\n",
    "        masks = masks.to(device)\n",
    "\n",
    "        outputs = swinunet_model(images)\n",
    "\n",
    "        if outputs.shape[1] == 1:  # Binary segmentation\n",
    "            # probs = torch.sigmoid(outputs)\n",
    "            probs = outputs\n",
    "            preds = (probs > 0.5).float()\n",
    "            targets = (masks > 0.5).float()\n",
    "        else:  # Multiclass segmentation\n",
    "            preds = torch.argmax(outputs, dim = 1)  # (N, H, W)\n",
    "            targets = masks.long().squeeze(1)     # (N, H, W)\n",
    "\n",
    "            # Convert preds and targets to one-hot for Dice and IoU\n",
    "            preds = torch.nn.functional.one_hot(preds, num_classes=outputs.shape[1])  # (N,H,W,C)\n",
    "            preds = preds.permute(0, 3, 1, 2).float()  # (N,C,H,W)\n",
    "            targets = torch.nn.functional.one_hot(targets, num_classes=outputs.shape[1])\n",
    "            targets = targets.permute(0, 3, 1, 2).float()\n",
    "\n",
    "        dice = dice_score(preds, targets)\n",
    "        iou = iou_score(preds, targets)\n",
    "\n",
    "        dice_total += dice\n",
    "        iou_total += iou\n",
    "        num_batches += 1\n",
    "\n",
    "print(f\"Test Dice Score: {dice_total / num_batches:.4f}\")\n",
    "print(f\"Test IoU Score: {iou_total / num_batches:.4f}\")"
   ]
  },
  {
   "cell_type": "code",
   "execution_count": 25,
   "id": "622dca8b",
   "metadata": {},
   "outputs": [
    {
     "data": {
      "image/png": "[encoded data removed]",
      "text/plain": [
       "<Figure size 1200x400 with 3 Axes>"
      ]
     },
     "metadata": {},
     "output_type": "display_data"
    }
   ],
   "source": [
    "swinunet_model.eval()\n",
    "with torch.no_grad():\n",
    "    sample_img, sample_mask = test_dataset[3]\n",
    "    pred = swinunet_model(sample_img.unsqueeze(0).to(device)).cpu().squeeze().numpy()\n",
    "\n",
    "    plt.figure(figsize=(12,4))\n",
    "    plt.subplot(1,3,1)\n",
    "    plt.title(\"Image\")\n",
    "    plt.imshow(sample_img.squeeze(), cmap='gray')\n",
    "    plt.subplot(1,3,2)\n",
    "    plt.title(\"True Mask\")\n",
    "    plt.imshow(sample_mask.squeeze(), cmap='gray')\n",
    "    plt.subplot(1,3,3)\n",
    "    plt.title(\"Predicted Mask\")\n",
    "    plt.imshow(pred > 0.5, cmap='gray')\n",
    "    plt.show()"
   ]
  },
  {
   "cell_type": "markdown",
   "id": "ab3eece8",
   "metadata": {},
   "source": []
  }
 ],
 "metadata": {
  "kernelspec": {
   "display_name": "main-gpu",
   "language": "python",
   "name": "python3"
  },
  "language_info": {
   "codemirror_mode": {
    "name": "ipython",
    "version": 3
   },
   "file_extension": ".py",
   "mimetype": "text/x-python",
   "name": "python",
   "nbconvert_exporter": "python",
   "pygments_lexer": "ipython3",
   "version": "3.10.16"
  }
 },
 "nbformat": 4,
 "nbformat_minor": 5
}
