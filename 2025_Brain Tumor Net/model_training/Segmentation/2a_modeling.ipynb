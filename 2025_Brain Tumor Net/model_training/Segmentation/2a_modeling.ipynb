{
 "cells": [
  {
   "cell_type": "markdown",
   "id": "86a8119e",
   "metadata": {},
   "source": [
    "# Modeling"
   ]
  },
  {
   "cell_type": "markdown",
   "id": "50e5da9b",
   "metadata": {},
   "source": [
    "This notebook only cover the training of the U-Net and SegNet models."
   ]
  },
  {
   "cell_type": "markdown",
   "id": "02fde92f",
   "metadata": {},
   "source": [
    "### Data Loading"
   ]
  },
  {
   "cell_type": "code",
   "execution_count": 1,
   "id": "646af65a",
   "metadata": {},
   "outputs": [],
   "source": [
    "import os\n",
    "import torch\n",
    "import torchvision.transforms as T\n",
    "from torch.utils.data import Dataset, DataLoader\n",
    "from pathlib import Path\n",
    "from PIL import Image"
   ]
  },
  {
   "cell_type": "code",
   "execution_count": 2,
   "id": "ce7de01b",
   "metadata": {},
   "outputs": [],
   "source": [
    "class TumorSegDataset(Dataset):\n",
    "    def __init__(self, image_dir, mask_dir, transform=None):\n",
    "        self.image_dir = Path(image_dir)\n",
    "        self.mask_dir = Path(mask_dir)\n",
    "        self.image_files = sorted(self.image_dir.glob(\"*.jpg\"))\n",
    "        self.transform = transform\n",
    "\n",
    "    def __len__(self):\n",
    "        return len(self.image_files)\n",
    "\n",
    "    def __getitem__(self, idx):\n",
    "        img_path = self.image_files[idx]\n",
    "        mask_path = Path(self.mask_dir) / img_path.name\n",
    "\n",
    "        image = Image.open(img_path).convert(\"L\")\n",
    "        mask = Image.open(mask_path).convert(\"L\")\n",
    "\n",
    "        if self.transform:\n",
    "            image = self.transform(image)\n",
    "            mask = self.transform(mask)\n",
    "\n",
    "        return image, mask"
   ]
  },
  {
   "cell_type": "code",
   "execution_count": 3,
   "id": "d3a3681e",
   "metadata": {},
   "outputs": [],
   "source": [
    "transform = T.Compose([\n",
    "    T.Resize((224, 224)),\n",
    "    T.ToTensor()\n",
    "])"
   ]
  },
  {
   "cell_type": "code",
   "execution_count": 4,
   "id": "7644b852",
   "metadata": {},
   "outputs": [],
   "source": [
    "dataset = TumorSegDataset(\"../data/converted/images\", \"../data/converted/masks\", transform = transform)"
   ]
  },
  {
   "cell_type": "markdown",
   "id": "6a4c2227",
   "metadata": {},
   "source": [
    "### Data Splitting"
   ]
  },
  {
   "cell_type": "code",
   "execution_count": 5,
   "id": "e683a05a",
   "metadata": {},
   "outputs": [],
   "source": [
    "from torch.utils.data import random_split"
   ]
  },
  {
   "cell_type": "code",
   "execution_count": 6,
   "id": "174523f6",
   "metadata": {},
   "outputs": [],
   "source": [
    "total_size = len(dataset)\n",
    "train_size = int(0.7 * total_size)\n",
    "val_size = int(0.15 * total_size)\n",
    "test_size = total_size - train_size - val_size"
   ]
  },
  {
   "cell_type": "code",
   "execution_count": 7,
   "id": "a8f30f2d",
   "metadata": {},
   "outputs": [],
   "source": [
    "train_dataset, val_dataset, test_dataset = random_split(dataset, [train_size, val_size, test_size])"
   ]
  },
  {
   "cell_type": "code",
   "execution_count": 8,
   "id": "c6682442",
   "metadata": {},
   "outputs": [],
   "source": [
    "train_loader = DataLoader(train_dataset, batch_size = 8, shuffle = True)\n",
    "val_loader = DataLoader(val_dataset, batch_size = 8, shuffle = False)\n",
    "test_loader = DataLoader(test_dataset, batch_size = 8, shuffle = False)"
   ]
  },
  {
   "cell_type": "markdown",
   "id": "cacc0251",
   "metadata": {},
   "source": [
    "### Modeling"
   ]
  },
  {
   "cell_type": "code",
   "execution_count": 9,
   "id": "0bf0251e",
   "metadata": {},
   "outputs": [],
   "source": [
    "import torch.nn as nn\n",
    "import torch.nn.functional as F\n",
    "import torch.optim as optim\n",
    "import matplotlib.pyplot as plt"
   ]
  },
  {
   "cell_type": "code",
   "execution_count": 10,
   "id": "565d3784",
   "metadata": {},
   "outputs": [
    {
     "data": {
      "text/plain": [
       "device(type='cuda')"
      ]
     },
     "execution_count": 10,
     "metadata": {},
     "output_type": "execute_result"
    }
   ],
   "source": [
    "device = torch.device(\"cuda\" if torch.cuda.is_available() else \"cpu\")\n",
    "device"
   ]
  },
  {
   "cell_type": "code",
   "execution_count": 11,
   "id": "fdc22c7d",
   "metadata": {},
   "outputs": [],
   "source": [
    "criterion = nn.BCELoss()"
   ]
  },
  {
   "cell_type": "code",
   "execution_count": 12,
   "id": "c6ceee87",
   "metadata": {},
   "outputs": [],
   "source": [
    "def dice_score(preds, targets, smooth = 1e-6):\n",
    "    \"\"\"\n",
    "    Computes Dice Score (per batch).\n",
    "    preds: tensor, shape (N, C, H, W) after applying sigmoid/softmax or thresholding\n",
    "    targets: tensor, shape (N, C, H, W) one-hot encoded or same shape as preds\n",
    "    \"\"\"\n",
    "    preds = preds.contiguous().view(preds.shape[0], -1)\n",
    "    targets = targets.contiguous().view(targets.shape[0], -1)\n",
    "\n",
    "    intersection = (preds * targets).sum(dim = 1)\n",
    "    dice = (2. * intersection + smooth) / (preds.sum(dim = 1) + targets.sum(dim = 1) + smooth)\n",
    "    return dice.mean().item()"
   ]
  },
  {
   "cell_type": "code",
   "execution_count": 13,
   "id": "1d6935e2",
   "metadata": {},
   "outputs": [],
   "source": [
    "def iou_score(preds, targets, smooth=1e-6):\n",
    "    \"\"\"\n",
    "    Computes IoU (Jaccard Index) per batch.\n",
    "    \"\"\"\n",
    "    preds = preds.contiguous().view(preds.shape[0], -1)\n",
    "    targets = targets.contiguous().view(targets.shape[0], -1)\n",
    "\n",
    "    intersection = (preds * targets).sum(dim=1)\n",
    "    union = preds.sum(dim=1) + targets.sum(dim=1) - intersection\n",
    "    iou = (intersection + smooth) / (union + smooth)\n",
    "    return iou.mean().item()"
   ]
  },
  {
   "cell_type": "markdown",
   "id": "1a368c75",
   "metadata": {},
   "source": [
    "##### 1. U-Net"
   ]
  },
  {
   "cell_type": "code",
   "execution_count": 14,
   "id": "e7435d1b",
   "metadata": {},
   "outputs": [],
   "source": [
    "class UNet(nn.Module):\n",
    "    def __init__(self):\n",
    "        super().__init__()\n",
    "\n",
    "        def conv_block(in_c, out_c):\n",
    "            return nn.Sequential(\n",
    "                nn.Conv2d(in_c, out_c, kernel_size=3, padding=1),\n",
    "                nn.ReLU(inplace=True),\n",
    "                nn.Conv2d(out_c, out_c, kernel_size=3, padding=1),\n",
    "                nn.ReLU(inplace=True)\n",
    "            )\n",
    "\n",
    "        self.enc1 = conv_block(1, 64)\n",
    "        self.enc2 = conv_block(64, 128)\n",
    "        self.enc3 = conv_block(128, 256)\n",
    "\n",
    "        self.pool = nn.MaxPool2d(2)\n",
    "\n",
    "        self.middle = conv_block(256, 512)\n",
    "\n",
    "        self.up3 = nn.ConvTranspose2d(512, 256, kernel_size=2, stride=2)\n",
    "        self.dec3 = conv_block(512, 256)\n",
    "\n",
    "        self.up2 = nn.ConvTranspose2d(256, 128, kernel_size=2, stride=2)\n",
    "        self.dec2 = conv_block(256, 128)\n",
    "\n",
    "        self.up1 = nn.ConvTranspose2d(128, 64, kernel_size=2, stride=2)\n",
    "        self.dec1 = conv_block(128, 64)\n",
    "\n",
    "        self.final = nn.Conv2d(64, 1, kernel_size=1)\n",
    "\n",
    "    def forward(self, x):\n",
    "        e1 = self.enc1(x)\n",
    "        e2 = self.enc2(self.pool(e1))\n",
    "        e3 = self.enc3(self.pool(e2))\n",
    "\n",
    "        m = self.middle(self.pool(e3))\n",
    "\n",
    "        d3 = self.up3(m)\n",
    "        d3 = self.dec3(torch.cat([d3, e3], dim=1))\n",
    "\n",
    "        d2 = self.up2(d3)\n",
    "        d2 = self.dec2(torch.cat([d2, e2], dim=1))\n",
    "\n",
    "        d1 = self.up1(d2)\n",
    "        d1 = self.dec1(torch.cat([d1, e1], dim=1))\n",
    "\n",
    "        return torch.sigmoid(self.final(d1))"
   ]
  },
  {
   "cell_type": "code",
   "execution_count": 15,
   "id": "0f88176e",
   "metadata": {},
   "outputs": [],
   "source": [
    "unet_model = UNet().to(device)\n",
    "optimizer = optim.Adam(unet_model.parameters(), lr = 1e-4)"
   ]
  },
  {
   "cell_type": "code",
   "execution_count": 16,
   "id": "edb5d1d4",
   "metadata": {},
   "outputs": [],
   "source": [
    "best_val_loss = float('inf')\n",
    "patience = 10\n",
    "trigger_times = 0"
   ]
  },
  {
   "cell_type": "code",
   "execution_count": 17,
   "id": "f07e78a8",
   "metadata": {},
   "outputs": [
    {
     "name": "stdout",
     "output_type": "stream",
     "text": [
      "Epoch 1: Train Loss = 0.1210, Val Loss = 0.0656\n",
      "Epoch 2: Train Loss = 0.0613, Val Loss = 0.0587\n",
      "Epoch 3: Train Loss = 0.0584, Val Loss = 0.0565\n",
      "Epoch 4: Train Loss = 0.0567, Val Loss = 0.0543\n",
      "Epoch 5: Train Loss = 0.0536, Val Loss = 0.0507\n",
      "Epoch 6: Train Loss = 0.0485, Val Loss = 0.0439\n",
      "Epoch 7: Train Loss = 0.0434, Val Loss = 0.0394\n",
      "Epoch 8: Train Loss = 0.0398, Val Loss = 0.0353\n",
      "Epoch 9: Train Loss = 0.0362, Val Loss = 0.0353\n",
      "Epoch 10: Train Loss = 0.0330, Val Loss = 0.0305\n",
      "Epoch 11: Train Loss = 0.0305, Val Loss = 0.0328\n",
      "Early Stopping counter: 1 out of 10\n",
      "Epoch 12: Train Loss = 0.0284, Val Loss = 0.0304\n",
      "Epoch 13: Train Loss = 0.0262, Val Loss = 0.0251\n",
      "Epoch 14: Train Loss = 0.0237, Val Loss = 0.0248\n",
      "Epoch 15: Train Loss = 0.0222, Val Loss = 0.0237\n",
      "Epoch 16: Train Loss = 0.0203, Val Loss = 0.0236\n",
      "Epoch 17: Train Loss = 0.0187, Val Loss = 0.0243\n",
      "Early Stopping counter: 1 out of 10\n",
      "Epoch 18: Train Loss = 0.0170, Val Loss = 0.0211\n",
      "Epoch 19: Train Loss = 0.0147, Val Loss = 0.0226\n",
      "Early Stopping counter: 1 out of 10\n",
      "Epoch 20: Train Loss = 0.0140, Val Loss = 0.0218\n",
      "Early Stopping counter: 2 out of 10\n",
      "Epoch 21: Train Loss = 0.0126, Val Loss = 0.0228\n",
      "Early Stopping counter: 3 out of 10\n",
      "Epoch 22: Train Loss = 0.0111, Val Loss = 0.0227\n",
      "Early Stopping counter: 4 out of 10\n",
      "Epoch 23: Train Loss = 0.0103, Val Loss = 0.0211\n",
      "Early Stopping counter: 5 out of 10\n",
      "Epoch 24: Train Loss = 0.0087, Val Loss = 0.0248\n",
      "Early Stopping counter: 6 out of 10\n",
      "Epoch 25: Train Loss = 0.0084, Val Loss = 0.0263\n",
      "Early Stopping counter: 7 out of 10\n",
      "Epoch 26: Train Loss = 0.0073, Val Loss = 0.0271\n",
      "Early Stopping counter: 8 out of 10\n",
      "Epoch 27: Train Loss = 0.0068, Val Loss = 0.0256\n",
      "Early Stopping counter: 9 out of 10\n",
      "Epoch 28: Train Loss = 0.0069, Val Loss = 0.0261\n",
      "Early Stopping counter: 10 out of 10\n",
      "Early stopping triggered. Stopping training.\n"
     ]
    }
   ],
   "source": [
    "EPOCHS = 100\n",
    "\n",
    "for epoch in range(EPOCHS):\n",
    "    unet_model.train()\n",
    "    train_loss = 0\n",
    "    for images, masks in train_loader:\n",
    "        images, masks = images.to(device), masks.to(device)\n",
    "        outputs = unet_model(images)\n",
    "        loss = criterion(outputs, masks)\n",
    "        optimizer.zero_grad()\n",
    "        loss.backward()\n",
    "        optimizer.step()\n",
    "        train_loss += loss.item()\n",
    "\n",
    "    # Validation\n",
    "    unet_model.eval()\n",
    "    val_loss = 0\n",
    "    with torch.no_grad():\n",
    "        for images, masks in val_loader:\n",
    "            images, masks = images.to(device), masks.to(device)\n",
    "            outputs = unet_model(images)\n",
    "            loss = criterion(outputs, masks)\n",
    "            val_loss += loss.item()\n",
    "\n",
    "    avg_train_loss = train_loss / len(train_loader)\n",
    "    avg_val_loss = val_loss / len(val_loader)\n",
    "    print(f\"Epoch {epoch+1}: Train Loss = {avg_train_loss:.4f}, Val Loss = {avg_val_loss:.4f}\")\n",
    "\n",
    "    if avg_val_loss < best_val_loss:\n",
    "        best_val_loss = avg_val_loss\n",
    "        trigger_times = 0\n",
    "        torch.save(unet_model.state_dict(), \"../models/unet.pth\")\n",
    "    else:\n",
    "        trigger_times += 1\n",
    "        print(f\"Early Stopping counter: {trigger_times} out of {patience}\")\n",
    "        if trigger_times >= patience:\n",
    "            print(\"Early stopping triggered. Stopping training.\")\n",
    "            break"
   ]
  },
  {
   "cell_type": "code",
   "execution_count": 43,
   "id": "a1a53b3b",
   "metadata": {},
   "outputs": [
    {
     "name": "stdout",
     "output_type": "stream",
     "text": [
      "Test Dice Score: 0.7035\n",
      "Test IoU Score: 0.6223\n"
     ]
    }
   ],
   "source": [
    "unet_model.eval()\n",
    "dice_total = 0\n",
    "iou_total = 0\n",
    "num_batches = 0\n",
    "\n",
    "with torch.no_grad():\n",
    "    for images, masks in test_loader:\n",
    "        images = images.to(device)\n",
    "        masks = masks.to(device)\n",
    "\n",
    "        outputs = unet_model(images)\n",
    "\n",
    "        if outputs.shape[1] == 1:  # Binary segmentation\n",
    "            # probs = torch.sigmoid(outputs)\n",
    "            probs = outputs\n",
    "            preds = (probs > 0.5).float()\n",
    "            targets = (masks > 0.5).float()\n",
    "        else:  # Multiclass segmentation\n",
    "            preds = torch.argmax(outputs, dim = 1)  # (N, H, W)\n",
    "            targets = masks.long().squeeze(1)     # (N, H, W)\n",
    "\n",
    "            # Convert preds and targets to one-hot for Dice and IoU\n",
    "            preds = torch.nn.functional.one_hot(preds, num_classes=outputs.shape[1])  # (N,H,W,C)\n",
    "            preds = preds.permute(0, 3, 1, 2).float()  # (N,C,H,W)\n",
    "            targets = torch.nn.functional.one_hot(targets, num_classes=outputs.shape[1])\n",
    "            targets = targets.permute(0, 3, 1, 2).float()\n",
    "\n",
    "        dice = dice_score(preds, targets)\n",
    "        iou = iou_score(preds, targets)\n",
    "\n",
    "        dice_total += dice\n",
    "        iou_total += iou\n",
    "        num_batches += 1\n",
    "\n",
    "print(f\"Test Dice Score: {dice_total / num_batches:.4f}\")\n",
    "print(f\"Test IoU Score: {iou_total / num_batches:.4f}\")"
   ]
  },
  {
   "cell_type": "code",
   "execution_count": 42,
   "id": "8bb2cc76",
   "metadata": {},
   "outputs": [
    {
     "data": {
      "image/png": "[encoded data removed]",
      "text/plain": [
       "<Figure size 1200x400 with 3 Axes>"
      ]
     },
     "metadata": {},
     "output_type": "display_data"
    }
   ],
   "source": [
    "unet_model.eval()\n",
    "with torch.no_grad():\n",
    "    sample_img, sample_mask = test_dataset[1]\n",
    "    pred = unet_model(sample_img.unsqueeze(0).to(device)).cpu().squeeze().numpy()\n",
    "\n",
    "    plt.figure(figsize=(12,4))\n",
    "    plt.subplot(1,3,1)\n",
    "    plt.title(\"Image\")\n",
    "    plt.imshow(sample_img.squeeze(), cmap='gray')\n",
    "    plt.subplot(1,3,2)\n",
    "    plt.title(\"True Mask\")\n",
    "    plt.imshow(sample_mask.squeeze(), cmap='gray')\n",
    "    plt.subplot(1,3,3)\n",
    "    plt.title(\"Predicted Mask\")\n",
    "    plt.imshow(pred > 0.5, cmap='gray')\n",
    "    plt.show()"
   ]
  },
  {
   "cell_type": "markdown",
   "id": "cc580d57",
   "metadata": {},
   "source": [
    "##### 2. SegNet"
   ]
  },
  {
   "cell_type": "code",
   "execution_count": 20,
   "id": "cac7cc04",
   "metadata": {},
   "outputs": [],
   "source": [
    "class SegNet(nn.Module):\n",
    "    def __init__(self, in_channels = 1, num_classes = 1):\n",
    "        super().__init__()\n",
    "\n",
    "        def encoder_block(in_c, out_c):\n",
    "            return nn.Sequential(\n",
    "                nn.Conv2d(in_c, out_c, kernel_size = 3, padding = 1),\n",
    "                nn.BatchNorm2d(out_c),\n",
    "                nn.ReLU(inplace = True),\n",
    "                nn.Conv2d(out_c, out_c, kernel_size = 3, padding = 1),\n",
    "                nn.BatchNorm2d(out_c),\n",
    "                nn.ReLU(inplace = True),\n",
    "                nn.MaxPool2d(2, 2, return_indices = True)  # Save indices for unpooling\n",
    "            )\n",
    "\n",
    "        def decoder_block(in_c, out_c):\n",
    "            return nn.Sequential(\n",
    "                nn.MaxUnpool2d(2, 2),\n",
    "                nn.Conv2d(in_c, out_c, kernel_size = 3, padding = 1),\n",
    "                nn.BatchNorm2d(out_c),\n",
    "                nn.ReLU(inplace = True),\n",
    "                nn.Conv2d(out_c, out_c, kernel_size = 3, padding = 1),\n",
    "                nn.BatchNorm2d(out_c),\n",
    "                nn.ReLU(inplace = True),\n",
    "            )\n",
    "\n",
    "        self.enc1 = encoder_block(in_channels, 64)\n",
    "        self.enc2 = encoder_block(64, 128)\n",
    "        self.enc3 = encoder_block(128, 256)\n",
    "\n",
    "        self.dec3 = decoder_block(256, 128)\n",
    "        self.dec2 = decoder_block(128, 64)\n",
    "        self.dec1 = nn.Sequential(\n",
    "            nn.MaxUnpool2d(2, 2),\n",
    "            nn.Conv2d(64, 64, kernel_size=3, padding=1),\n",
    "            nn.BatchNorm2d(64),\n",
    "            nn.ReLU(inplace=True),\n",
    "            nn.Conv2d(64, num_classes, kernel_size=3, padding=1)\n",
    "        )\n",
    "\n",
    "    def forward(self, x):\n",
    "        e1, ind1 = self.enc1(x)\n",
    "        e2, ind2 = self.enc2(e1)\n",
    "        e3, ind3 = self.enc3(e2)\n",
    "\n",
    "        d3 = self.dec3[0](e3, ind3)  # MaxUnpool2d with indices\n",
    "        d3 = self.dec3[1:](d3)\n",
    "\n",
    "        d2 = self.dec2[0](d3, ind2)\n",
    "        d2 = self.dec2[1:](d2)\n",
    "\n",
    "        d1 = self.dec1[0](d2, ind1)\n",
    "        d1 = self.dec1[1:](d1)\n",
    "\n",
    "        if self.dec1[-1].out_channels == 1:\n",
    "            return torch.sigmoid(d1)\n",
    "        else:\n",
    "            return d1  # logits for multi-class"
   ]
  },
  {
   "cell_type": "code",
   "execution_count": 21,
   "id": "4831598d",
   "metadata": {},
   "outputs": [],
   "source": [
    "segnet_model = SegNet().to(device)\n",
    "optimizer = optim.Adam(segnet_model.parameters(), lr = 1e-4)"
   ]
  },
  {
   "cell_type": "code",
   "execution_count": 22,
   "id": "661933e2",
   "metadata": {},
   "outputs": [],
   "source": [
    "best_val_loss = float('inf')\n",
    "patience = 10\n",
    "trigger_times = 0"
   ]
  },
  {
   "cell_type": "code",
   "execution_count": 23,
   "id": "052c3241",
   "metadata": {},
   "outputs": [
    {
     "name": "stdout",
     "output_type": "stream",
     "text": [
      "Epoch 1: Train Loss = 0.1667, Val Loss = 0.0670\n",
      "Epoch 2: Train Loss = 0.0520, Val Loss = 0.0425\n",
      "Epoch 3: Train Loss = 0.0405, Val Loss = 0.0454\n",
      "Early Stopping counter: 1 out of 10\n",
      "Epoch 4: Train Loss = 0.0345, Val Loss = 0.0364\n",
      "Epoch 5: Train Loss = 0.0309, Val Loss = 0.0287\n",
      "Epoch 6: Train Loss = 0.0276, Val Loss = 0.0286\n",
      "Epoch 7: Train Loss = 0.0255, Val Loss = 0.0260\n",
      "Epoch 8: Train Loss = 0.0229, Val Loss = 0.0254\n",
      "Epoch 9: Train Loss = 0.0207, Val Loss = 0.0265\n",
      "Early Stopping counter: 1 out of 10\n",
      "Epoch 10: Train Loss = 0.0188, Val Loss = 0.0274\n",
      "Early Stopping counter: 2 out of 10\n",
      "Epoch 11: Train Loss = 0.0166, Val Loss = 0.0264\n",
      "Early Stopping counter: 3 out of 10\n",
      "Epoch 12: Train Loss = 0.0150, Val Loss = 0.0246\n",
      "Epoch 13: Train Loss = 0.0133, Val Loss = 0.0279\n",
      "Early Stopping counter: 1 out of 10\n",
      "Epoch 14: Train Loss = 0.0116, Val Loss = 0.0264\n",
      "Early Stopping counter: 2 out of 10\n",
      "Epoch 15: Train Loss = 0.0107, Val Loss = 0.0294\n",
      "Early Stopping counter: 3 out of 10\n",
      "Epoch 16: Train Loss = 0.0100, Val Loss = 0.0250\n",
      "Early Stopping counter: 4 out of 10\n",
      "Epoch 17: Train Loss = 0.0095, Val Loss = 0.0259\n",
      "Early Stopping counter: 5 out of 10\n",
      "Epoch 18: Train Loss = 0.0084, Val Loss = 0.0252\n",
      "Early Stopping counter: 6 out of 10\n",
      "Epoch 19: Train Loss = 0.0074, Val Loss = 0.0270\n",
      "Early Stopping counter: 7 out of 10\n",
      "Epoch 20: Train Loss = 0.0072, Val Loss = 0.0253\n",
      "Early Stopping counter: 8 out of 10\n",
      "Epoch 21: Train Loss = 0.0066, Val Loss = 0.0267\n",
      "Early Stopping counter: 9 out of 10\n",
      "Epoch 22: Train Loss = 0.0067, Val Loss = 0.0278\n",
      "Early Stopping counter: 10 out of 10\n",
      "Early stopping triggered. Stopping training.\n"
     ]
    }
   ],
   "source": [
    "EPOCHS = 100\n",
    "\n",
    "for epoch in range(EPOCHS):\n",
    "    segnet_model.train()\n",
    "    train_loss = 0\n",
    "    for images, masks in train_loader:\n",
    "        images, masks = images.to(device), masks.to(device)\n",
    "        outputs = segnet_model(images)\n",
    "        loss = criterion(outputs, masks)\n",
    "        optimizer.zero_grad()\n",
    "        loss.backward()\n",
    "        optimizer.step()\n",
    "        train_loss += loss.item()\n",
    "\n",
    "    # Validation\n",
    "    segnet_model.eval()\n",
    "    val_loss = 0\n",
    "    with torch.no_grad():\n",
    "        for images, masks in val_loader:\n",
    "            images, masks = images.to(device), masks.to(device)\n",
    "            outputs = segnet_model(images)\n",
    "            loss = criterion(outputs, masks)\n",
    "            val_loss += loss.item()\n",
    "\n",
    "    avg_train_loss = train_loss / len(train_loader)\n",
    "    avg_val_loss = val_loss / len(val_loader)\n",
    "    print(f\"Epoch {epoch+1}: Train Loss = {avg_train_loss:.4f}, Val Loss = {avg_val_loss:.4f}\")\n",
    "\n",
    "    if avg_val_loss < best_val_loss:\n",
    "        best_val_loss = avg_val_loss\n",
    "        trigger_times = 0\n",
    "        torch.save(segnet_model.state_dict(), \"../models/segnet.pth\")\n",
    "    else:\n",
    "        trigger_times += 1\n",
    "        print(f\"Early Stopping counter: {trigger_times} out of {patience}\")\n",
    "        if trigger_times >= patience:\n",
    "            print(\"Early stopping triggered. Stopping training.\")\n",
    "            break"
   ]
  },
  {
   "cell_type": "code",
   "execution_count": 44,
   "id": "64a23048",
   "metadata": {},
   "outputs": [
    {
     "name": "stdout",
     "output_type": "stream",
     "text": [
      "Test Dice Score: 0.6880\n",
      "Test IoU Score: 0.5918\n"
     ]
    }
   ],
   "source": [
    "segnet_model.eval()\n",
    "dice_total = 0\n",
    "iou_total = 0\n",
    "num_batches = 0\n",
    "\n",
    "with torch.no_grad():\n",
    "    for images, masks in test_loader:\n",
    "        images = images.to(device)\n",
    "        masks = masks.to(device)\n",
    "\n",
    "        outputs = segnet_model(images)\n",
    "\n",
    "        if outputs.shape[1] == 1:  # Binary segmentation\n",
    "            # probs = torch.sigmoid(outputs)\n",
    "            probs = outputs\n",
    "            preds = (probs > 0.5).float()\n",
    "            targets = (masks > 0.5).float()\n",
    "        else:  # Multiclass segmentation\n",
    "            preds = torch.argmax(outputs, dim = 1)  # (N, H, W)\n",
    "            targets = masks.long().squeeze(1)     # (N, H, W)\n",
    "\n",
    "            # Convert preds and targets to one-hot for Dice and IoU\n",
    "            preds = torch.nn.functional.one_hot(preds, num_classes=outputs.shape[1])  # (N,H,W,C)\n",
    "            preds = preds.permute(0, 3, 1, 2).float()  # (N,C,H,W)\n",
    "            targets = torch.nn.functional.one_hot(targets, num_classes=outputs.shape[1])\n",
    "            targets = targets.permute(0, 3, 1, 2).float()\n",
    "\n",
    "        dice = dice_score(preds, targets)\n",
    "        iou = iou_score(preds, targets)\n",
    "\n",
    "        dice_total += dice\n",
    "        iou_total += iou\n",
    "        num_batches += 1\n",
    "\n",
    "\n",
    "print(f\"Test Dice Score: {dice_total / num_batches:.4f}\")\n",
    "print(f\"Test IoU Score: {iou_total / num_batches:.4f}\")"
   ]
  },
  {
   "cell_type": "code",
   "execution_count": 45,
   "id": "42b29b93",
   "metadata": {},
   "outputs": [
    {
     "data": {
      "image/png": "[encoded data removed]",
      "text/plain": [
       "<Figure size 1200x400 with 3 Axes>"
      ]
     },
     "metadata": {},
     "output_type": "display_data"
    }
   ],
   "source": [
    "segnet_model.eval()\n",
    "with torch.no_grad():\n",
    "    sample_img, sample_mask = test_dataset[1]\n",
    "    pred = segnet_model(sample_img.unsqueeze(0).to(device)).cpu().squeeze().numpy()\n",
    "\n",
    "    plt.figure(figsize=(12,4))\n",
    "    plt.subplot(1,3,1)\n",
    "    plt.title(\"Image\")\n",
    "    plt.imshow(sample_img.squeeze(), cmap='gray')\n",
    "    plt.subplot(1,3,2)\n",
    "    plt.title(\"True Mask\")\n",
    "    plt.imshow(sample_mask.squeeze(), cmap='gray')\n",
    "    plt.subplot(1,3,3)\n",
    "    plt.title(\"Predicted Mask\")\n",
    "    plt.imshow(pred > 0.5, cmap='gray')\n",
    "    plt.show()"
   ]
  }
 ],
 "metadata": {
  "kernelspec": {
   "display_name": "main-gpu",
   "language": "python",
   "name": "python3"
  },
  "language_info": {
   "codemirror_mode": {
    "name": "ipython",
    "version": 3
   },
   "file_extension": ".py",
   "mimetype": "text/x-python",
   "name": "python",
   "nbconvert_exporter": "python",
   "pygments_lexer": "ipython3",
   "version": "3.10.16"
  }
 },
 "nbformat": 4,
 "nbformat_minor": 5
}
